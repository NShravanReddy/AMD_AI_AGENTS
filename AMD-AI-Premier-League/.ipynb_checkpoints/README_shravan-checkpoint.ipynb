{
 "cells": [
  {
   "cell_type": "markdown",
   "id": "480066b8",
   "metadata": {},
   "source": [
    "<h1 align='center'>Welcome to the AMD AI Premier League (AAIPL)!</h1>\n"
   ]
  },
  {
   "cell_type": "markdown",
   "id": "e3ea12fc",
   "metadata": {},
   "source": [
    "#<!-- <img src=\"./assets/aaipl.png\"> -->\n",
    "#<img src=\"./assets/AMDAAIPL.png\">"
   ]
  },
  {
   "cell_type": "markdown",
   "id": "09b4b3fe",
   "metadata": {},
   "source": [
    "\n",
    "---\n",
    "## Task:\n",
    "Here you will be building:\n",
    "1.  A question agent or Q-agent (e.g., [question_model.py](./agents/question_model.py) & [question_agent.py](./agents/question_agent.py)) that will ask some $N$ puzzle-based questions based on some given [topics](./assets/topics.json). *Note your question agent should output questions in the format specified in [sample_question.json](./assets/sample_question.json)*.\n",
    "2.  Also, an answer agent or A-agent (e.g., [answer_model.py](./agents/answer_model.py) & [answer_agent.py](./agents/answer_agent.py)) that answer questions asked from question agent. Here too, the format of the output should follow as specified in [sample_answer.json](./assets/sample_answer.json) file.\n",
    "\n",
    "---\n"
   ]
  },
  {
   "cell_type": "markdown",
   "id": "5ed3cfa0",
   "metadata": {
    "jp-MarkdownHeadingCollapsed": true
   },
   "source": [
    "## Instructions\n",
    "\n",
    "1.  How to initiate your work station?\n",
    "    -   Type `http://xxx.xxx.xxx.xxx:8080` link (in *Chrome*), where `xxx.xxx.xxx.xxx` is the 12 (or 11) digit IP shared with each team. Hiting this URL, will open up a Jupyter lab page. Enter the token as `amdhack` (same for all).\n",
    "    -   Upon landing into Jupyter Lab page, on left side (i.e., folders), you will see `AAIPL/`, `hf_models/`. All this will be inside `/jupyter-tutorial` directory.\n",
    "    -   Within `hf_models/` there are some base checkpoints which will be used for question and answer agent creation. For both, Q-agent and A-agent, we are using `Qwen3-4B` (with `enable_thinking=False` to avoid thinking tokens) as base model.\n",
    "    -   Note that inside `AAIPL/`, there is a `tutorial` folder which consists of python scripts and `.ipynb` file demonstrating how to do *SFT*, *GRPO*, and *Prompt-tuning*. You are encouraged to, of course, improve/edit upon this (BYOC). No need to stick with this strictly.\n",
    "2.  You got 24 hrs to bake this cake!\n",
    "3.  All the BEST!"
   ]
  },
  {
   "cell_type": "markdown",
   "id": "3cfd0427",
   "metadata": {},
   "source": [
    "## 📚 Table of Contents:\n",
    "- 🏁 [Welcome to the AMD AI Premier League (AAIPL)!](#welcome-to-the-amd-ai-premier-league-aaipl)\n",
    "- 📝 [Task](#task)\n",
    "- ⚙️ [Instructions](#instructions)\n",
    "- 🏏 [Tournament Overview](#tournament-overview)\n",
    "- 📋 [Guidelines](#guidelines)\n",
    "    - [Naming Conventions](#naming-conventions)\n",
    "    - [Format Overview](#format-overview)\n",
    "- 🛠️ [What you will submit?](#️what-you-will-submit)\n",
    "- ⚠️ [RESTRICTIONS](#restrictions)\n",
    "    - [ALLOWED](#allowed)\n",
    "- 📂 [Directory & Files overview](#directory--files-overview)\n",
    "- 🚀 [Env Setup](#env-setup)\n",
    "- 🎮 [Let the GAME begin!!!](#let-the-game-begin)\n",
    "    - 🤔 [Q-Agent](#q-agent)\n",
    "        - ✅ [Basic format-checks for questions from Q-agent](#basic-format-checks-for-questions-from-q-agent)\n",
    "    - 🤖 [A-agent](#a-agent)\n",
    "        - ✅ [Basic format-checks for answers from A-agent](#basic-format-checks-for-answers-from-a-agent)\n",
    "- 🏅 [Evaluation](#evaluation)\n",
    "    - 📊 [Scoring Criteria](#scoring-criteria)\n",
    "- ⏱ [Time Limit](#time-limit)\n",
    "<!-- - 🏆 [LeaderBoard UI/UX](#leaderboard-uiux) -->"
   ]
  },
  {
   "cell_type": "markdown",
   "id": "9386cb37",
   "metadata": {
    "jp-MarkdownHeadingCollapsed": true
   },
   "source": [
    "## Tournament Overview\n",
    "<!-- 🏏  -->\n",
    "1.  All matches in this tournament will be **1v1** knockout format where two teams, Team-A vs Team-B, will compete with their Q-agent (question agent) and A-agent (answer agent). For simplicity think Q-agent to be bowler and A-agent to be batsman.\n",
    "2.  Like a cricket match, this would also have two innings:\n",
    "\n",
    "    -   1st inning:\n",
    "        *   $N$ Question from the Q-agent (Team-A) and their corresponding $N$ answers from the A-agent (Team-B).\n",
    "        *   Q-agent score (Team-A): Say, $40$\n",
    "        *   A-agent score (Team-B): $60$\n",
    "\n",
    "    -   2nd inning:\n",
    "        *   $N$ Question from the Q-agent (Team-B) and their respective $N$ responses from the A-agent (Team-A).\n",
    "        *   Q-agent score (Team-B): Say, $70$\n",
    "        *   A-agent score (Team-A): $30$\n",
    "    -   Final Score:\n",
    "        *   Team-A score $=$ 1st inning Q-agent score $+$ 2nd inning A-agent score $= 40 + 30 = 70$\n",
    "        *   Team-B score $=$ 1st inning Q-agent score $+$ 2nd inning A-agent score $= 60 + 70 = 130$\n",
    "\n",
    "    -   Winner: **Team-B** with a score of $130$.\n",
    "    -   For more info on <b> how SCORING is done</b>, kindly refer to this [cell](#scoring-criteria).\n",
    "\n",
    "<u>NOTE</u>: In case of **TIE**, we will use some (closed) benchmark questions, we will evaluate your answer agents (A-agent) and rank the teams accordingly.\n",
    "\n",
    "**Whichever Team's Q-agent fails to generate atleast $50\\%$ of `num_questions` (where `num_questions` ranges from $2$ to $1000+$) of the questions correctly (as per [format-checking](#format-overview)) will be automatically disqualified.**<br>\n",
    "<u>Note</u>: Here $N$ denotes the number of filtered / format-correct questions.\n"
   ]
  },
  {
   "cell_type": "markdown",
   "id": "2deab9cf",
   "metadata": {},
   "source": [
    "\n",
    "## Guidelines:\n",
    "<!-- 📋  -->\n",
    "#### Naming Conventions:\n",
    "<ol type=\"a\">\n",
    "    <li>Rename this whole folder as <code>AAIPL_your_IP</code> if not done already. This <code>your_IP</code> will be <code>_</code> separated IPv4 address, no special-characters allowed. Follow the below <a href=\"#what-you-will-submit\">cell</a> for more info</li>\n",
    "    <li> For Q-agent:\n",
    "        <ol type=\"i\">\n",
    "            <li>For Q-agent wrapper <code>.py</code> file: <code>agents/question_agent.py</code>.</li>\n",
    "            <li>For Q-agent model <code>.py</code> file: <code>agents/question_model.py</code>.</li>\n",
    "        </ol>\n",
    "    </li>\n",
    "    <li> For A-agent:\n",
    "        <ol type=\"i\">\n",
    "            <li>For A-agent wrapper <code>.py</code> file: <code>agents/answer_agent.py</code>.</li>\n",
    "            <li>For A-agent model <code>.py</code> file: <code>agents/answer_model.py</code>.</li>\n",
    "        </ol>\n",
    "    </li>\n",
    "</ol>\n",
    "\n",
    "\n",
    "#### Format Overview\n",
    "-   <u>Q-Agent</u>: Given a topic, the Q-agent should generate questions in the specified JSON format:\n",
    "    ```json\n",
    "    {\n",
    "    \"topic\": \"<Topic of the Question>\",\n",
    "    \"question\": \"<full question text>\",\n",
    "    \"choices\": [\n",
    "        \"A) <choice A text>\",\n",
    "        \"B) <choice B text>\",\n",
    "        \"C) <choice C text>\",\n",
    "        \"D) <choice D text>\"\n",
    "    ],\n",
    "    \"answer\": \"<correct choice letter only>\",\n",
    "    \"explanation\": \"brief explanation within 100 words for why the answer is correct\"\n",
    "    }\n",
    "    ```\n",
    "    from which we will extract **ONLY** the **\"Question\"** and **\"Choices\"** keys and feed it to the answer agent. The **\"Topic\"**, **\"Question\"**, **\"Choices\"**, and **\"Answer\"** will be verified for correctness from an Oracle.\n",
    "-   <u>A-agent</u>: Given a Question and Choices, A-agent should produce answer in the format of:\n",
    "    ```json\n",
    "    {\n",
    "        \"answer\": \"<correct choice letter only>\",\n",
    "        \"reasoning\": \"brief reasoning within 100 words for why the answer is correct\"\n",
    "    }\n",
    "    ```\n",
    "    where we will extract ONLY the **\"Answer\"** key and compare it with **\"Answer\"** from the opponent's question.\n",
    "-   *<u>Remarks</u>: Having explanation and reasoning is a plus. Not having them doesn't disqualify the question or answer being correct.*\n",
    "    \n",
    "**<u>Note</u>**: *We will only consider those responses from the Q-agent and the A-agent which follow the above format.*\n"
   ]
  },
  {
   "cell_type": "markdown",
   "id": "b858a803",
   "metadata": {},
   "source": [
    "## What you will submit?\n",
    "<!-- 🛠️  -->\n",
    "You need to submit your code which should contain these main files:\n",
    "\n",
    "<!-- *   `q_agent.py` (with one arg as `num_quetions: int`) - On running with `num_questions=20` should generate 20 questions in the required format as above.\n",
    "*   `a_agent.py` (with two args as `Question: str` and `Choices: List[str]`) - On running with the above two args should produce the o/p in the required format as above. -->\n",
    "<!-- 1. Submit the whole folder AAIPL with its name modified to `AAIP_<your_team_name_in_alphanumeric>`. No special characters, e.g., `#`, `@`, `!`, etc. are allowed in the team name. \n",
    "   - Example: `AAIP_Team1` or `AAIP_Team23` or `AAIP_Win47` are valid, but `AAIP_Team#1` or `AAIP_Team@1` are not.\n",
    "2. Also put Checkpoints (e.g., `model.safetensors` or `.pt` or `.pth`) file (situated at e.g., `ckpts/`) - given that they get successfully loaded automatically, when we execute inference as done above for both, question and answer agent.\n",
    "3. `requirements.txt` - This file lists all the extra dependencies required to run your agents apart from `default_requirements.txt`. -->\n",
    "\n",
    "1. Rename the `AAIPL` folder to `AAIPL_<your_IP_address>` if not done already. NO special characters, e.g., `#`, `@`, `!`, etc. are allowed except underscore, `_`, in the team name. \n",
    "   - Example: `AAIPL_192_154_162_143` or `AAIPL_192_154_182_14` are valid, but `AAIPL_Team#1` or `AAIPL_Team@1` are not. \n",
    "1. **No need to upload anything to anywhere, we'll collect your codes at sharp 2:00 PM - 13th July, 2025 from your Jupyter Server.**\n",
    "2. <span style=\"color: red;\">Don't forget to add your PPT (in `solution.pdf` format) summarizing the techniques you adopted to execute this task better, relative to this file (i.e., just inside `AAIPL_xxx_xxx_xxx_xxx` folder).</span>\n",
    "3. **ENSURE model checkpoint(s) (e.g., `model.safetensors` or `.pt` or `.pth`) is(are) loading and expected files are getting generated from Q-agent and A-agent, when inference is done. And put all your checkpoints in the `ckpt/` folder, located just inside `AAIPL_<your_IP>/`.**\n",
    "4. **<u>NOTE</u>: You are not required to generate any `.json` for us, we'll do that for you during evaluation setting a specific value to $N$.**\n",
    "\n",
    "<u><span style=\"color: blue\">NOTE</span></u>: These files will be checked for any hardcoding, RAG, or other unfair practices.<br>\n",
    "<u><span style=\"color: red\">REMARKS / CAUTION</span></u>: A-agent is equally important as Q-agent. So, please do focus on both."
   ]
  },
  {
   "cell_type": "markdown",
   "id": "fe1cc2ce",
   "metadata": {},
   "source": [
    "## RESTRICTIONS\n",
    "<!-- ⚠️ -->\n",
    "\n",
    "1.  Kindly don't use any sort of ***RAG (Retrieval Augmented Generation)*** techniques. If found, the submission won't be considered for further evaluations.\n",
    "2.  **Usage of base models other than what given for Question (i.e., `Qwen3-4B`) and Answer (i.e., again `Qwen3-4B`) agent, will lead to disqualification.**\n",
    "3.  Do follow the guidelines as mentioned in [What you will submit?](#what-you-will-submit) section.\n",
    "4.  **<span style=\"color: red\">NO</span> LAST Minute Submission**: The submission deadline is strict. Upload link will expires just one minute before the deadline. So, please make sure you submit your code well in advance.\n",
    "5.  Any **<span style=\"color: red\">HACKEY</span>** approach or **hard-coding** will lead to disqualification.\n",
    "    -   E.g., Any hard-coded *adversarial attacks* that make A-agent hallucinates.\n",
    "6.  **Language Restriction**: ONLY English language is allowed for both Q-agent and A-agent. Any other language will lead to disqualification.\n",
    "7.  Strictly stay within the `max_tokens` limit as specified in `agen.yaml` & `qgen.yaml`. While other parameters can be changed as per your convenience.\n",
    "8.  $N$ should be passed as an argument to `question_agent.py`. We'll test for $N=1$. `--num_questions` is the argument.\n",
    "9.  Ensure **$40\\%$** of the questions you generate gets filtered into `questions.json`.\n",
    "\n",
    "\n",
    "### ALLOWED\n",
    "<!-- ✅  -->\n",
    "1.  Participants are encouraged to modify the code scripts (for any sort of training, data construction, inference, such that the above constraints are not overruled).\n",
    "2.  If you want to add `WANDB_API_KEY` for `wandb` logging do it in add `WANDB_API_KEY=xxxxxxx` before `python -m <script>.py` command. E.g., `!WANDB_API_KEY=xxxxxxx python -m agents.question_agent \\`\n"
   ]
  },
  {
   "cell_type": "markdown",
   "id": "f0f34ed1",
   "metadata": {},
   "source": [
    "## Token & Time Limit:\n",
    "<!-- ⏱  -->\n",
    "*   Maximum length (e.g., `max_token`) limit for your model response should be within following tokens.\n",
    "    *   For question-agent (Q-Agent) it is $100$ tokens cumulatively for the content corresponding to [`topic`, `question`, `choices`, and `answer`]. This excludes token count for double quotes as well as string length for topic, question, choices, and answer string it\n",
    "    *   And the rest is for explanation i.e., $1024-100 = 924$. But within time limit\n",
    "*   `ckpt` is the folder 📂 which you will place under `AAIPL_XXX_XXX_XXX_XXX`. While `checkpoints` folder 📂 inside `tutorial/` is meant for tutorial.\n",
    "*   Each question should be generated under `10 secs`. Overall time for 100 questions should be no more than `1000 secs` ~ `17 mins`.\n",
    "*   Each answer should be generated under `6 secs`. Overall time for 100 answers should be no more than `600 secs` ~ `10 mins`.\n",
    "*   *Note: We will only consider those questions' and answers' JSON file that remain under the time limit.*"
   ]
  },
  {
   "cell_type": "markdown",
   "id": "7b562cb4",
   "metadata": {},
   "source": [
    "### Directory & Files overview\n",
    "<!-- 📂  -->\n",
    "```\n",
    ".\n",
    "├── agents\n",
    "│   ├── question_model.py\n",
    "│   ├── question_agent.py\n",
    "│   ├── answer_model.py\n",
    "│   └── answer_agent.py\n",
    "├── tutorial # guide on how to SFT and GRPO\n",
    "│   ├── checkpoints #\n",
    "│   │     ├── sft # save sft checkpoints here while in tutorial\n",
    "│   │     ├── grpo # save grpo checkpoints here while in tutorial\n",
    "│   │     └── demo\n",
    "│   │         ├── sft # pre-trained sft (LoRA) ckpt\n",
    "│   │         └── grpo # same as above but for GRPO\n",
    "│   ├── tutorial.ipynb # guide on how to SFT and GRPO\n",
    "│   ├── trainer.py # sample training for Gemma with LoRA (SFT) and GRPO\n",
    "│   ├── answer_model2.py # inference script for the same. Copy it to agents/. for using this as question generator\n",
    "│   ├── formatted_questions_array.json # Sample question data for doing SFT and GRPO\n",
    "│   └── test_questions_array.json # Sample test question to evaluate the SFTed or GRPOed model\n",
    "├── assets\n",
    "│   ├── topics_example.json # example questions w.r.t each topic\n",
    "│   ├── topics.json # Topics on which we require to generate questions\n",
    "│   ├── sample_question.json # File specifying expected format of questions generated\n",
    "│   ├── sample_answer.json # Expected format of answers generated\n",
    "│   └── AMDAAIPL.png # Teaser image for the AAIPL\n",
    "├── utils\n",
    "│   └── build_prompt.py # prompt-tuning scripts\n",
    "├── README.ipynb\n",
    "├── outputs # That will consists of outputs from question_agent.py and answer_agent.py\n",
    "├── ckpt # That will consists of checkpoints for question_agent.py and answer_agent.py if any training is done.\n",
    "├── qgen.yaml # Generation specific parameters for Q-agent\n",
    "├── agen.yaml # Generation specific parameters for A-agent\n",
    "└── default_requirements.txt # Packages required\n",
    "```\n",
    "   "
   ]
  },
  {
   "cell_type": "markdown",
   "id": "f4fc970e",
   "metadata": {},
   "source": [
    "### Env Setup\n",
    "<!-- 🚀 -->"
   ]
  },
  {
   "cell_type": "code",
   "execution_count": 35,
   "id": "4308a46f",
   "metadata": {
    "scrolled": true
   },
   "outputs": [
    {
     "name": "stdout",
     "output_type": "stream",
     "text": [
      "Requirement already satisfied: trl==0.19.0 in /usr/local/lib/python3.12/dist-packages (from -r default_requirements.txt (line 1)) (0.19.0)\n",
      "Requirement already satisfied: wandb==0.20.1 in /usr/local/lib/python3.12/dist-packages (from -r default_requirements.txt (line 2)) (0.20.1)\n",
      "Requirement already satisfied: ipdb==0.13.13 in /usr/local/lib/python3.12/dist-packages (from -r default_requirements.txt (line 3)) (0.13.13)\n",
      "Requirement already satisfied: transformers==4.51.3 in /usr/local/lib/python3.12/dist-packages (from -r default_requirements.txt (line 4)) (4.51.3)\n",
      "Requirement already satisfied: unsloth in /usr/local/lib/python3.12/dist-packages (from -r default_requirements.txt (line 5)) (2025.7.3)\n",
      "Requirement already satisfied: accelerate>=1.4.0 in /usr/local/lib/python3.12/dist-packages (from trl==0.19.0->-r default_requirements.txt (line 1)) (1.7.0)\n",
      "Requirement already satisfied: datasets>=3.0.0 in /usr/local/lib/python3.12/dist-packages (from trl==0.19.0->-r default_requirements.txt (line 1)) (3.6.0)\n",
      "Requirement already satisfied: click!=8.0.0,>=7.1 in /usr/local/lib/python3.12/dist-packages (from wandb==0.20.1->-r default_requirements.txt (line 2)) (8.1.8)\n",
      "Requirement already satisfied: gitpython!=3.1.29,>=1.0.0 in /usr/local/lib/python3.12/dist-packages (from wandb==0.20.1->-r default_requirements.txt (line 2)) (3.1.44)\n",
      "Requirement already satisfied: packaging in /usr/local/lib/python3.12/dist-packages (from wandb==0.20.1->-r default_requirements.txt (line 2)) (24.2)\n",
      "Requirement already satisfied: platformdirs in /usr/local/lib/python3.12/dist-packages (from wandb==0.20.1->-r default_requirements.txt (line 2)) (4.3.8)\n",
      "Requirement already satisfied: protobuf!=4.21.0,!=5.28.0,<7,>=3.19.0 in /usr/local/lib/python3.12/dist-packages (from wandb==0.20.1->-r default_requirements.txt (line 2)) (3.20.3)\n",
      "Requirement already satisfied: psutil>=5.0.0 in /usr/local/lib/python3.12/dist-packages (from wandb==0.20.1->-r default_requirements.txt (line 2)) (7.0.0)\n",
      "Requirement already satisfied: pydantic<3 in /usr/local/lib/python3.12/dist-packages (from wandb==0.20.1->-r default_requirements.txt (line 2)) (2.11.4)\n",
      "Requirement already satisfied: pyyaml in /usr/local/lib/python3.12/dist-packages (from wandb==0.20.1->-r default_requirements.txt (line 2)) (6.0.2)\n",
      "Requirement already satisfied: requests<3,>=2.0.0 in /usr/local/lib/python3.12/dist-packages (from wandb==0.20.1->-r default_requirements.txt (line 2)) (2.32.3)\n",
      "Requirement already satisfied: sentry-sdk>=2.0.0 in /usr/local/lib/python3.12/dist-packages (from wandb==0.20.1->-r default_requirements.txt (line 2)) (2.33.0)\n",
      "Requirement already satisfied: setproctitle in /usr/local/lib/python3.12/dist-packages (from wandb==0.20.1->-r default_requirements.txt (line 2)) (1.3.6)\n",
      "Requirement already satisfied: typing-extensions<5,>=4.8 in /usr/local/lib/python3.12/dist-packages (from wandb==0.20.1->-r default_requirements.txt (line 2)) (4.14.1)\n",
      "Requirement already satisfied: ipython>=7.31.1 in /usr/local/lib/python3.12/dist-packages (from ipdb==0.13.13->-r default_requirements.txt (line 3)) (9.3.0)\n",
      "Requirement already satisfied: decorator in /usr/local/lib/python3.12/dist-packages (from ipdb==0.13.13->-r default_requirements.txt (line 3)) (5.2.1)\n",
      "Requirement already satisfied: filelock in /usr/local/lib/python3.12/dist-packages (from transformers==4.51.3->-r default_requirements.txt (line 4)) (3.18.0)\n",
      "Requirement already satisfied: huggingface-hub<1.0,>=0.30.0 in /usr/local/lib/python3.12/dist-packages (from transformers==4.51.3->-r default_requirements.txt (line 4)) (0.31.4)\n",
      "Requirement already satisfied: numpy>=1.17 in /usr/local/lib/python3.12/dist-packages (from transformers==4.51.3->-r default_requirements.txt (line 4)) (1.26.4)\n",
      "Requirement already satisfied: regex!=2019.12.17 in /usr/local/lib/python3.12/dist-packages (from transformers==4.51.3->-r default_requirements.txt (line 4)) (2024.11.6)\n",
      "Requirement already satisfied: tokenizers<0.22,>=0.21 in /usr/local/lib/python3.12/dist-packages (from transformers==4.51.3->-r default_requirements.txt (line 4)) (0.21.1)\n",
      "Requirement already satisfied: safetensors>=0.4.3 in /usr/local/lib/python3.12/dist-packages (from transformers==4.51.3->-r default_requirements.txt (line 4)) (0.5.3)\n",
      "Requirement already satisfied: tqdm>=4.27 in /usr/local/lib/python3.12/dist-packages (from transformers==4.51.3->-r default_requirements.txt (line 4)) (4.67.1)\n",
      "Requirement already satisfied: fsspec>=2023.5.0 in /usr/local/lib/python3.12/dist-packages (from huggingface-hub<1.0,>=0.30.0->transformers==4.51.3->-r default_requirements.txt (line 4)) (2025.3.0)\n",
      "Requirement already satisfied: annotated-types>=0.6.0 in /usr/local/lib/python3.12/dist-packages (from pydantic<3->wandb==0.20.1->-r default_requirements.txt (line 2)) (0.7.0)\n",
      "Requirement already satisfied: pydantic-core==2.33.2 in /usr/local/lib/python3.12/dist-packages (from pydantic<3->wandb==0.20.1->-r default_requirements.txt (line 2)) (2.33.2)\n",
      "Requirement already satisfied: typing-inspection>=0.4.0 in /usr/local/lib/python3.12/dist-packages (from pydantic<3->wandb==0.20.1->-r default_requirements.txt (line 2)) (0.4.0)\n",
      "Requirement already satisfied: charset-normalizer<4,>=2 in /usr/local/lib/python3.12/dist-packages (from requests<3,>=2.0.0->wandb==0.20.1->-r default_requirements.txt (line 2)) (3.4.2)\n",
      "Requirement already satisfied: idna<4,>=2.5 in /usr/local/lib/python3.12/dist-packages (from requests<3,>=2.0.0->wandb==0.20.1->-r default_requirements.txt (line 2)) (3.10)\n",
      "Requirement already satisfied: urllib3<3,>=1.21.1 in /usr/local/lib/python3.12/dist-packages (from requests<3,>=2.0.0->wandb==0.20.1->-r default_requirements.txt (line 2)) (2.4.0)\n",
      "Requirement already satisfied: certifi>=2017.4.17 in /usr/local/lib/python3.12/dist-packages (from requests<3,>=2.0.0->wandb==0.20.1->-r default_requirements.txt (line 2)) (2025.4.26)\n",
      "Requirement already satisfied: unsloth_zoo>=2025.7.4 in /usr/local/lib/python3.12/dist-packages (from unsloth->-r default_requirements.txt (line 5)) (2025.7.4)\n",
      "Requirement already satisfied: torch>=2.4.0 in /usr/local/lib/python3.12/dist-packages (from unsloth->-r default_requirements.txt (line 5)) (2.7.1)\n",
      "Requirement already satisfied: xformers>=0.0.27.post2 in /usr/local/lib/python3.12/dist-packages (from unsloth->-r default_requirements.txt (line 5)) (0.0.31.post1)\n",
      "Requirement already satisfied: bitsandbytes in /usr/local/lib/python3.12/dist-packages (from unsloth->-r default_requirements.txt (line 5)) (0.46.1)\n",
      "Requirement already satisfied: triton>=3.0.0 in /usr/local/lib/python3.12/dist-packages (from unsloth->-r default_requirements.txt (line 5)) (3.3.1)\n",
      "Requirement already satisfied: tyro in /usr/local/lib/python3.12/dist-packages (from unsloth->-r default_requirements.txt (line 5)) (0.9.26)\n",
      "Requirement already satisfied: sentencepiece>=0.2.0 in /usr/local/lib/python3.12/dist-packages (from unsloth->-r default_requirements.txt (line 5)) (0.2.0)\n",
      "Requirement already satisfied: wheel>=0.42.0 in /usr/local/lib/python3.12/dist-packages (from unsloth->-r default_requirements.txt (line 5)) (0.45.1)\n",
      "Requirement already satisfied: peft!=0.11.0,>=0.7.1 in /usr/local/lib/python3.12/dist-packages (from unsloth->-r default_requirements.txt (line 5)) (0.15.2)\n",
      "Requirement already satisfied: hf_transfer in /usr/local/lib/python3.12/dist-packages (from unsloth->-r default_requirements.txt (line 5)) (0.1.9)\n",
      "Requirement already satisfied: diffusers in /usr/local/lib/python3.12/dist-packages (from unsloth->-r default_requirements.txt (line 5)) (0.34.0)\n",
      "Requirement already satisfied: torchvision in /usr/local/lib/python3.12/dist-packages (from unsloth->-r default_requirements.txt (line 5)) (0.21.0+7af6987)\n",
      "Requirement already satisfied: pyarrow>=15.0.0 in /usr/local/lib/python3.12/dist-packages (from datasets>=3.0.0->trl==0.19.0->-r default_requirements.txt (line 1)) (20.0.0)\n",
      "Requirement already satisfied: dill<0.3.9,>=0.3.0 in /usr/local/lib/python3.12/dist-packages (from datasets>=3.0.0->trl==0.19.0->-r default_requirements.txt (line 1)) (0.3.8)\n",
      "Requirement already satisfied: pandas in /usr/local/lib/python3.12/dist-packages (from datasets>=3.0.0->trl==0.19.0->-r default_requirements.txt (line 1)) (2.2.3)\n",
      "Requirement already satisfied: xxhash in /usr/local/lib/python3.12/dist-packages (from datasets>=3.0.0->trl==0.19.0->-r default_requirements.txt (line 1)) (3.5.0)\n",
      "Requirement already satisfied: multiprocess<0.70.17 in /usr/local/lib/python3.12/dist-packages (from datasets>=3.0.0->trl==0.19.0->-r default_requirements.txt (line 1)) (0.70.16)\n",
      "Requirement already satisfied: aiohttp!=4.0.0a0,!=4.0.0a1 in /usr/local/lib/python3.12/dist-packages (from fsspec[http]<=2025.3.0,>=2023.1.0->datasets>=3.0.0->trl==0.19.0->-r default_requirements.txt (line 1)) (3.11.18)\n",
      "Requirement already satisfied: aiohappyeyeballs>=2.3.0 in /usr/local/lib/python3.12/dist-packages (from aiohttp!=4.0.0a0,!=4.0.0a1->fsspec[http]<=2025.3.0,>=2023.1.0->datasets>=3.0.0->trl==0.19.0->-r default_requirements.txt (line 1)) (2.6.1)\n",
      "Requirement already satisfied: aiosignal>=1.1.2 in /usr/local/lib/python3.12/dist-packages (from aiohttp!=4.0.0a0,!=4.0.0a1->fsspec[http]<=2025.3.0,>=2023.1.0->datasets>=3.0.0->trl==0.19.0->-r default_requirements.txt (line 1)) (1.3.2)\n",
      "Requirement already satisfied: attrs>=17.3.0 in /usr/local/lib/python3.12/dist-packages (from aiohttp!=4.0.0a0,!=4.0.0a1->fsspec[http]<=2025.3.0,>=2023.1.0->datasets>=3.0.0->trl==0.19.0->-r default_requirements.txt (line 1)) (25.3.0)\n",
      "Requirement already satisfied: frozenlist>=1.1.1 in /usr/local/lib/python3.12/dist-packages (from aiohttp!=4.0.0a0,!=4.0.0a1->fsspec[http]<=2025.3.0,>=2023.1.0->datasets>=3.0.0->trl==0.19.0->-r default_requirements.txt (line 1)) (1.6.0)\n",
      "Requirement already satisfied: multidict<7.0,>=4.5 in /usr/local/lib/python3.12/dist-packages (from aiohttp!=4.0.0a0,!=4.0.0a1->fsspec[http]<=2025.3.0,>=2023.1.0->datasets>=3.0.0->trl==0.19.0->-r default_requirements.txt (line 1)) (6.4.4)\n",
      "Requirement already satisfied: propcache>=0.2.0 in /usr/local/lib/python3.12/dist-packages (from aiohttp!=4.0.0a0,!=4.0.0a1->fsspec[http]<=2025.3.0,>=2023.1.0->datasets>=3.0.0->trl==0.19.0->-r default_requirements.txt (line 1)) (0.3.1)\n",
      "Requirement already satisfied: yarl<2.0,>=1.17.0 in /usr/local/lib/python3.12/dist-packages (from aiohttp!=4.0.0a0,!=4.0.0a1->fsspec[http]<=2025.3.0,>=2023.1.0->datasets>=3.0.0->trl==0.19.0->-r default_requirements.txt (line 1)) (1.20.0)\n",
      "Requirement already satisfied: gitdb<5,>=4.0.1 in /usr/local/lib/python3.12/dist-packages (from gitpython!=3.1.29,>=1.0.0->wandb==0.20.1->-r default_requirements.txt (line 2)) (4.0.12)\n",
      "Requirement already satisfied: smmap<6,>=3.0.1 in /usr/local/lib/python3.12/dist-packages (from gitdb<5,>=4.0.1->gitpython!=3.1.29,>=1.0.0->wandb==0.20.1->-r default_requirements.txt (line 2)) (5.0.2)\n",
      "Requirement already satisfied: ipython-pygments-lexers in /usr/local/lib/python3.12/dist-packages (from ipython>=7.31.1->ipdb==0.13.13->-r default_requirements.txt (line 3)) (1.1.1)\n",
      "Requirement already satisfied: jedi>=0.16 in /usr/local/lib/python3.12/dist-packages (from ipython>=7.31.1->ipdb==0.13.13->-r default_requirements.txt (line 3)) (0.19.2)\n",
      "Requirement already satisfied: matplotlib-inline in /usr/local/lib/python3.12/dist-packages (from ipython>=7.31.1->ipdb==0.13.13->-r default_requirements.txt (line 3)) (0.1.7)\n",
      "Requirement already satisfied: pexpect>4.3 in /usr/local/lib/python3.12/dist-packages (from ipython>=7.31.1->ipdb==0.13.13->-r default_requirements.txt (line 3)) (4.9.0)\n",
      "Requirement already satisfied: prompt_toolkit<3.1.0,>=3.0.41 in /usr/local/lib/python3.12/dist-packages (from ipython>=7.31.1->ipdb==0.13.13->-r default_requirements.txt (line 3)) (3.0.51)\n",
      "Requirement already satisfied: pygments>=2.4.0 in /usr/local/lib/python3.12/dist-packages (from ipython>=7.31.1->ipdb==0.13.13->-r default_requirements.txt (line 3)) (2.19.1)\n",
      "Requirement already satisfied: stack_data in /usr/local/lib/python3.12/dist-packages (from ipython>=7.31.1->ipdb==0.13.13->-r default_requirements.txt (line 3)) (0.6.3)\n",
      "Requirement already satisfied: traitlets>=5.13.0 in /usr/local/lib/python3.12/dist-packages (from ipython>=7.31.1->ipdb==0.13.13->-r default_requirements.txt (line 3)) (5.14.3)\n",
      "Requirement already satisfied: wcwidth in /usr/local/lib/python3.12/dist-packages (from prompt_toolkit<3.1.0,>=3.0.41->ipython>=7.31.1->ipdb==0.13.13->-r default_requirements.txt (line 3)) (0.2.13)\n",
      "Requirement already satisfied: parso<0.9.0,>=0.8.4 in /usr/local/lib/python3.12/dist-packages (from jedi>=0.16->ipython>=7.31.1->ipdb==0.13.13->-r default_requirements.txt (line 3)) (0.8.4)\n",
      "Requirement already satisfied: ptyprocess>=0.5 in /usr/local/lib/python3.12/dist-packages (from pexpect>4.3->ipython>=7.31.1->ipdb==0.13.13->-r default_requirements.txt (line 3)) (0.7.0)\n",
      "Requirement already satisfied: setuptools in /usr/local/lib/python3.12/dist-packages (from torch>=2.4.0->unsloth->-r default_requirements.txt (line 5)) (79.0.1)\n",
      "Requirement already satisfied: sympy>=1.13.3 in /usr/local/lib/python3.12/dist-packages (from torch>=2.4.0->unsloth->-r default_requirements.txt (line 5)) (1.14.0)\n",
      "Requirement already satisfied: networkx in /usr/local/lib/python3.12/dist-packages (from torch>=2.4.0->unsloth->-r default_requirements.txt (line 5)) (3.4.2)\n",
      "Requirement already satisfied: jinja2 in /usr/local/lib/python3.12/dist-packages (from torch>=2.4.0->unsloth->-r default_requirements.txt (line 5)) (3.1.6)\n",
      "Requirement already satisfied: nvidia-cuda-nvrtc-cu12==12.6.77 in /usr/local/lib/python3.12/dist-packages (from torch>=2.4.0->unsloth->-r default_requirements.txt (line 5)) (12.6.77)\n",
      "Requirement already satisfied: nvidia-cuda-runtime-cu12==12.6.77 in /usr/local/lib/python3.12/dist-packages (from torch>=2.4.0->unsloth->-r default_requirements.txt (line 5)) (12.6.77)\n",
      "Requirement already satisfied: nvidia-cuda-cupti-cu12==12.6.80 in /usr/local/lib/python3.12/dist-packages (from torch>=2.4.0->unsloth->-r default_requirements.txt (line 5)) (12.6.80)\n",
      "Requirement already satisfied: nvidia-cudnn-cu12==9.5.1.17 in /usr/local/lib/python3.12/dist-packages (from torch>=2.4.0->unsloth->-r default_requirements.txt (line 5)) (9.5.1.17)\n",
      "Requirement already satisfied: nvidia-cublas-cu12==12.6.4.1 in /usr/local/lib/python3.12/dist-packages (from torch>=2.4.0->unsloth->-r default_requirements.txt (line 5)) (12.6.4.1)\n",
      "Requirement already satisfied: nvidia-cufft-cu12==11.3.0.4 in /usr/local/lib/python3.12/dist-packages (from torch>=2.4.0->unsloth->-r default_requirements.txt (line 5)) (11.3.0.4)\n",
      "Requirement already satisfied: nvidia-curand-cu12==10.3.7.77 in /usr/local/lib/python3.12/dist-packages (from torch>=2.4.0->unsloth->-r default_requirements.txt (line 5)) (10.3.7.77)\n",
      "Requirement already satisfied: nvidia-cusolver-cu12==11.7.1.2 in /usr/local/lib/python3.12/dist-packages (from torch>=2.4.0->unsloth->-r default_requirements.txt (line 5)) (11.7.1.2)\n",
      "Requirement already satisfied: nvidia-cusparse-cu12==12.5.4.2 in /usr/local/lib/python3.12/dist-packages (from torch>=2.4.0->unsloth->-r default_requirements.txt (line 5)) (12.5.4.2)\n",
      "Requirement already satisfied: nvidia-cusparselt-cu12==0.6.3 in /usr/local/lib/python3.12/dist-packages (from torch>=2.4.0->unsloth->-r default_requirements.txt (line 5)) (0.6.3)\n",
      "Requirement already satisfied: nvidia-nccl-cu12==2.26.2 in /usr/local/lib/python3.12/dist-packages (from torch>=2.4.0->unsloth->-r default_requirements.txt (line 5)) (2.26.2)\n",
      "Requirement already satisfied: nvidia-nvtx-cu12==12.6.77 in /usr/local/lib/python3.12/dist-packages (from torch>=2.4.0->unsloth->-r default_requirements.txt (line 5)) (12.6.77)\n",
      "Requirement already satisfied: nvidia-nvjitlink-cu12==12.6.85 in /usr/local/lib/python3.12/dist-packages (from torch>=2.4.0->unsloth->-r default_requirements.txt (line 5)) (12.6.85)\n",
      "Requirement already satisfied: nvidia-cufile-cu12==1.11.1.6 in /usr/local/lib/python3.12/dist-packages (from torch>=2.4.0->unsloth->-r default_requirements.txt (line 5)) (1.11.1.6)\n",
      "Requirement already satisfied: mpmath<1.4,>=1.1.0 in /usr/local/lib/python3.12/dist-packages (from sympy>=1.13.3->torch>=2.4.0->unsloth->-r default_requirements.txt (line 5)) (1.3.0)\n",
      "Requirement already satisfied: cut_cross_entropy in /usr/local/lib/python3.12/dist-packages (from unsloth_zoo>=2025.7.4->unsloth->-r default_requirements.txt (line 5)) (25.1.1)\n",
      "Requirement already satisfied: pillow in /usr/local/lib/python3.12/dist-packages (from unsloth_zoo>=2025.7.4->unsloth->-r default_requirements.txt (line 5)) (11.2.1)\n",
      "Requirement already satisfied: msgspec in /usr/local/lib/python3.12/dist-packages (from unsloth_zoo>=2025.7.4->unsloth->-r default_requirements.txt (line 5)) (0.19.0)\n",
      "Requirement already satisfied: importlib_metadata in /usr/local/lib/python3.12/dist-packages (from diffusers->unsloth->-r default_requirements.txt (line 5)) (8.6.1)\n",
      "Requirement already satisfied: zipp>=3.20 in /usr/local/lib/python3.12/dist-packages (from importlib_metadata->diffusers->unsloth->-r default_requirements.txt (line 5)) (3.21.0)\n",
      "Requirement already satisfied: MarkupSafe>=2.0 in /usr/local/lib/python3.12/dist-packages (from jinja2->torch>=2.4.0->unsloth->-r default_requirements.txt (line 5)) (3.0.2)\n",
      "Requirement already satisfied: python-dateutil>=2.8.2 in /usr/local/lib/python3.12/dist-packages (from pandas->datasets>=3.0.0->trl==0.19.0->-r default_requirements.txt (line 1)) (2.9.0.post0)\n",
      "Requirement already satisfied: pytz>=2020.1 in /usr/local/lib/python3.12/dist-packages (from pandas->datasets>=3.0.0->trl==0.19.0->-r default_requirements.txt (line 1)) (2025.2)\n",
      "Requirement already satisfied: tzdata>=2022.7 in /usr/local/lib/python3.12/dist-packages (from pandas->datasets>=3.0.0->trl==0.19.0->-r default_requirements.txt (line 1)) (2025.2)\n",
      "Requirement already satisfied: six>=1.5 in /usr/local/lib/python3.12/dist-packages (from python-dateutil>=2.8.2->pandas->datasets>=3.0.0->trl==0.19.0->-r default_requirements.txt (line 1)) (1.17.0)\n",
      "Requirement already satisfied: executing>=1.2.0 in /usr/local/lib/python3.12/dist-packages (from stack_data->ipython>=7.31.1->ipdb==0.13.13->-r default_requirements.txt (line 3)) (2.2.0)\n",
      "Requirement already satisfied: asttokens>=2.1.0 in /usr/local/lib/python3.12/dist-packages (from stack_data->ipython>=7.31.1->ipdb==0.13.13->-r default_requirements.txt (line 3)) (3.0.0)\n",
      "Requirement already satisfied: pure-eval in /usr/local/lib/python3.12/dist-packages (from stack_data->ipython>=7.31.1->ipdb==0.13.13->-r default_requirements.txt (line 3)) (0.2.3)\n",
      "Requirement already satisfied: docstring-parser>=0.15 in /usr/local/lib/python3.12/dist-packages (from tyro->unsloth->-r default_requirements.txt (line 5)) (0.16)\n",
      "Requirement already satisfied: rich>=11.1.0 in /usr/local/lib/python3.12/dist-packages (from tyro->unsloth->-r default_requirements.txt (line 5)) (14.0.0)\n",
      "Requirement already satisfied: shtab>=1.5.6 in /usr/local/lib/python3.12/dist-packages (from tyro->unsloth->-r default_requirements.txt (line 5)) (1.7.2)\n",
      "Requirement already satisfied: typeguard>=4.0.0 in /usr/local/lib/python3.12/dist-packages (from tyro->unsloth->-r default_requirements.txt (line 5)) (4.4.4)\n",
      "Requirement already satisfied: markdown-it-py>=2.2.0 in /usr/local/lib/python3.12/dist-packages (from rich>=11.1.0->tyro->unsloth->-r default_requirements.txt (line 5)) (3.0.0)\n",
      "Requirement already satisfied: mdurl~=0.1 in /usr/local/lib/python3.12/dist-packages (from markdown-it-py>=2.2.0->rich>=11.1.0->tyro->unsloth->-r default_requirements.txt (line 5)) (0.1.2)\n",
      "\u001b[33mWARNING: Running pip as the 'root' user can result in broken permissions and conflicting behaviour with the system package manager, possibly rendering your system unusable. It is recommended to use a virtual environment instead: https://pip.pypa.io/warnings/venv. Use the --root-user-action option if you know what you are doing and want to suppress this warning.\u001b[0m\u001b[33m\n",
      "\u001b[0m"
     ]
    }
   ],
   "source": [
    "# Install the necessary packages\n",
    "!pip install -r default_requirements.txt"
   ]
  },
  {
   "cell_type": "code",
   "execution_count": 36,
   "id": "50090b9b",
   "metadata": {},
   "outputs": [],
   "source": [
    "# import basic packages\n",
    "import json\n",
    "from typing import Dict, Any, List"
   ]
  },
  {
   "cell_type": "markdown",
   "id": "2187a198",
   "metadata": {},
   "source": [
    "### Let the GAME begin!!!\n",
    "<!-- 🎮  -->\n",
    "#### Q-Agent\n",
    "<!-- 🤔 -->\n",
    "<u>NOTE</u>: You are encouraged to invoke your own custom code into `question_model.py` and `question_agent.py` at `agents/`, to control its operation, respectively."
   ]
  },
  {
   "cell_type": "markdown",
   "id": "93fdb0b0",
   "metadata": {},
   "source": [
    "__Topics:__\n",
    "1.  `Logical Reasoning`: Truth-teller and Liar Problems\n",
    "2.  `Puzzles`: Seating Arrangements (Linear, Circular)\n",
    "3.  `Blood Relations and Family Tree`: Puzzles involving generations and family tree logic\n",
    "\n",
    "*To know what all topics are available, visit: **[topics.json](assets/topics.json)***"
   ]
  },
  {
   "cell_type": "code",
   "execution_count": 37,
   "id": "bf0b72a6-79d4-40f9-b6c7-ad19cfe70ba5",
   "metadata": {},
   "outputs": [
    {
     "name": "stdout",
     "output_type": "stream",
     "text": [
      "CUDA Available: True\n",
      "Total GPUs: 1\n",
      "GPU ID 0: AMD Instinct MI300X VF\n"
     ]
    }
   ],
   "source": [
    "import torch\n",
    "\n",
    "# Check if CUDA (NVIDIA) or ROCm (AMD) GPU is available\n",
    "print(\"CUDA Available:\", torch.cuda.is_available())\n",
    "\n",
    "# Number of GPUs\n",
    "print(\"Total GPUs:\", torch.cuda.device_count())\n",
    "\n",
    "# List all GPU devices with their names and IDs\n",
    "for i in range(torch.cuda.device_count()):\n",
    "    print(f\"GPU ID {i}: {torch.cuda.get_device_name(i)}\")\n"
   ]
  },
  {
   "cell_type": "code",
   "execution_count": 38,
   "id": "4f181848",
   "metadata": {
    "scrolled": true
   },
   "outputs": [
    {
     "name": "stdout",
     "output_type": "stream",
     "text": [
      "Loading checkpoint shards: 100%|██████████████████| 3/3 [00:00<00:00, 61.82it/s]\n",
      "STEPS: 100%|██████████████████████████████████████| 4/4 [05:35<00:00, 83.83s/it]\n",
      "Generated 20 questions!\n",
      "{\n",
      "  \"topic\": \"Seating Arrangements (Linear, Circular)\",\n",
      "  \"question\": \"Nine people A, B, C, D, E, F, G, H, I sit in a circular table with three facing the center and six facing outward. A is directly opposite D, who is adjacent to E. B is two seats to the left of C, who is facing outward. F is seated between G and H, who are both facing outward. I is adjacent to A and faces outward. If E is facing outward, who is sitting between F and G?\",\n",
      "  \"choices\": [\"A) A) B\", \"B) B) H\", \"C) C) I\", \"D) D) C\"],\n",
      "  \"answer\": \"B\",\n",
      "  \"explanation\": \"E facing outward places D opposite A. B is two left of C (facing outward). F is between G and H (both outward). I is adjacent to A and outward. Only H fits between F and G without conflicting with other constraints.\"\n",
      "}\n",
      "{\n",
      "  \"topic\": \"Truth-teller and Liar Problems\",\n",
      "  \"question\": \"Three individuals, P, Q, and R, are on an island where everyone is either a truth-teller (always tells the truth) or a liar (always lies). P says, 'Q is a liar.' Q says, 'R is a truth-teller.' R says, 'P is a liar.' How many truth-tellers are there?\",\n",
      "  \"choices\": [\"A) A) 0\", \"B) B) 1\", \"C) C) 2\", \"D) D) 3\"],\n",
      "  \"answer\": \"B\",\n",
      "  \"explanation\": \"If P is a truth-teller, then Q is a liar. If Q is a liar, then R is not a truth-teller. If R is a liar, then P is not a liar, which contradicts P being a truth-teller. If P is a liar, then Q is not a liar, so Q is a truth-teller. If Q is a truth-teller, then R is a truth-teller. If R is a truth-teller, then P is a liar, which fits. So only one truth-teller (Q) exists.\"\n",
      "}\n",
      "{\n",
      "  \"topic\": \"Puzzles involving generations and family tree logic\",\n",
      "  \"question\": \"In a family, Ravi is the son of Ramesh, who is the brother of Radha. Radha is the daughter of Ramesh's only sister. Ravi's mother is married to the son of Ramesh's father's only son. How is Ravi related to Radha's son?\",\n",
      "  \"choices\": [\"A) A) Cousin\", \"B) B) Nephew\", \"C) C) Brother\", \"D) D) Uncle\"],\n",
      "  \"answer\": \"C\",\n",
      "  \"explanation\": \"Ravi and Radha share the same father, Ramesh. Radha's son is Ravi's brother. Thus, Ravi is the brother of Radha's son.\"\n",
      "}\n",
      "{\n",
      "  \"topic\": \"Truth-teller and Liar Problems\",\n",
      "  \"question\": \"Three individuals, P, Q, and R, make the following statements: P says, 'Q is a liar.' Q says, 'R is a truth-teller.' R says, 'P is a liar.' If exactly one of them is a truth-teller, who is the truth-teller?\",\n",
      "  \"choices\": [\"A) A) P is the truth-teller\", \"B) B) Q is the truth-teller\", \"C) C) R is the truth-teller\", \"D) D) None of them is the truth-teller\"],\n",
      "  \"answer\": \"D\",\n",
      "  \"explanation\": \"Assume P is truthful: then Q is a liar, making Q's statement false (so R is not a truth-teller). R says P is a liar, which would be a lie if R is a liar, but R's status is uncertain. If Q is truthful, then R is a truth-teller, contradicting R's statement. If R is truthful, then P is a liar, making P's statement false (so Q is not a liar), but Q's statement would be true, contradicting R's truthfulness. No consistent configuration with exactly one truth-teller exists.\"\n",
      "}\n",
      "{\n",
      "  \"topic\": \"Puzzles involving generations and family tree logic\",\n",
      "  \"question\": \"In a family, Ravi is the son of Priya's maternal uncle. Priya's father's only sister is married to the only son of Ravi's paternal grandfather's only daughter. How is Ravi related to Priya?\",\n",
      "  \"choices\": [\"A) A) Cousin\", \"B) B) Brother\", \"C) C) Nephew\", \"D) D) Uncle\"],\n",
      "  \"answer\": \"A\",\n",
      "  \"explanation\": \"Ravi is the son of Priya's maternal uncle, making him her cousin. The marriage described confirms they share a common grandparent, reinforcing the cousin relationship.\"\n",
      "}\n",
      "{\n",
      "  \"topic\": \"Truth-teller and Liar Problems\",\n",
      "  \"question\": \"On an island, three inhabitants A, B, and C make statements: A says, 'B is a liar.' B says, 'C is a truth-teller.' C says, 'A is a liar.' If exactly one of them is a truth-teller, who is the truth-teller?\",\n",
      "  \"choices\": [\"A) A) A\", \"B) B) B\", \"C) C) C\", \"D) D) None\"],\n",
      "  \"answer\": \"B\",\n",
      "  \"explanation\": \"If B is the truth-teller, then C is a truth-teller (from B's statement), which contradicts the condition of exactly one truth-teller. If A is the truth-teller, then B is a liar, making C's statement true, which contradicts the one truth-teller rule. If C is the truth-teller, then A is a liar, making B's statement false, so B is a liar. This fits: only C is truthful, others are liars.\"\n",
      "}\n",
      "{\n",
      "  \"topic\": \"Truth-teller and Liar Problems\",\n",
      "  \"question\": \"Three inhabitants, X, Y, and Z, live on an island where everyone is either a truth-teller or a liar. X says, 'Y is a liar.' Y says, 'Z is a truth-teller.' Z says, 'X is a liar.' How many truth-tellers are there?\",\n",
      "  \"choices\": [\"A) A) One\", \"B) B) Two\", \"C) C) Three\", \"D) D) None\"],\n",
      "  \"answer\": \"A\",\n",
      "  \"explanation\": \"If X is a truth-teller, Y is a liar, so Z's statement that X is a liar is false, making Z a liar. This gives one truth-teller (X). If X is a liar, then Y is a truth-teller, so Z is a truth-teller, making Z's statement true, which contradicts Z being a truth-teller. Only one consistent configuration: X is a truth-teller, Y and Z are liars.\"\n",
      "}\n",
      "{\n",
      "  \"topic\": \"Puzzles involving generations and family tree logic\",\n",
      "  \"question\": \"In a family tree, A is the brother of B, who is the daughter of C. D is the son of E, who is the only daughter of F. G is the son of H, who is the only son of I. J is the daughter of K, who is the only daughter of L. If M is the son of N, who is the only son of O, and O is the only son of P, who is the only daughter of Q, how is A related to J?\",\n",
      "  \"choices\": [\"A) A) Cousin\", \"B) B) Nephew\", \"C) C) Uncle\", \"D) D) Brother\"],\n",
      "  \"answer\": \"C\",\n",
      "  \"explanation\": \"A is the brother of B, who is the daughter of C. J is the daughter of K, who is the only daughter of L. The family tree shows that A and J are on different branches of the tree, with A being the brother of B and J being the daughter of K. Since C and L are not related, A is not directly related to J. However, since M is the son of N, who is the only son of O, and O is the only son of P, who is the only daughter of Q, this shows that A and J are on different branches of the tree, making A the uncle of J.\"\n",
      "}\n",
      "{\n",
      "  \"topic\": \"Seating Arrangements (Linear, Circular)\",\n",
      "  \"question\": \"Six people A, B, C, D, E, F sit in a circular table. A is between B and F. D is two seats to the right of E. C is not adjacent to B. F is directly opposite A. Who is sitting between E and D?\",\n",
      "  \"choices\": [\"A) A) C\", \"B) B) B\", \"C) C) F\", \"D) D) A\"],\n",
      "  \"answer\": \"A\",\n",
      "  \"explanation\": \"A is between B and F, F is opposite A. D is two seats right of E. C not adjacent to B. Only C fits between E and D without conflicts.\"\n",
      "}\n",
      "{\n",
      "  \"topic\": \"Puzzles involving generations and family tree logic\",\n",
      "  \"question\": \"In a family, Ravi is the son of Suman's only sister. Suman's father is the brother of Lata's mother. Lata is the daughter of Ravi's paternal grandfather. How is Lata related to Ravi?\",\n",
      "  \"choices\": [\"A) A) Cousin\", \"B) B) Niece\", \"C) C) Sister\", \"D) D) Aunt\"],\n",
      "  \"answer\": \"C\",\n",
      "  \"explanation\": \"Ravi's paternal grandfather is Lata's father. Suman is Ravi's maternal aunt. Lata is Ravi's sister. Thus, Lata is Ravi's sister.\"\n",
      "}\n",
      "{\n",
      "  \"topic\": \"Truth-teller and Liar Problems\",\n",
      "  \"question\": \"Three individuals, X, Y, and Z, are on an island where truth-tellers always tell the truth and liars always lie. X says, 'Y is a liar.' Y says, 'Z is a truth-teller.' Z says, 'X and Y are of the same type.' How many truth-tellers are there?\",\n",
      "  \"choices\": [\"A) A) One truth-teller\", \"B) B) Two truth-tellers\", \"C) C) Three truth-tellers\", \"D) D) No truth-tellers\"],\n",
      "  \"answer\": \"A\",\n",
      "  \"explanation\": \"If X is a truth-teller, Y is a liar. Then Y's statement that Z is a truth-teller is false, so Z is a liar. Z says X and Y are the same type, which is false, consistent with Z being a liar. Thus, only X is a truth-teller. If X is a liar, Y is a truth-teller, making Z a truth-teller, contradicting Z's statement. Only valid configuration: one truth-teller.\"\n",
      "}\n",
      "{\n",
      "  \"topic\": \"Truth-teller and Liar Problems\",\n",
      "  \"question\": \"Three individuals, P, Q, and R, make the following statements: P says, 'Q is a liar.' Q says, 'R is a truth-teller.' R says, 'P is a liar.' If exactly one of them is a truth-teller, who is it?\",\n",
      "  \"choices\": [\"A) A) P is the truth-teller\", \"B) B) Q is the truth-teller\", \"C) C) R is the truth-teller\", \"D) D) None of them is a truth-teller\"],\n",
      "  \"answer\": \"D\",\n",
      "  \"explanation\": \"Assume P is truthful: then Q is a liar, so Q's statement that R is a truth-teller is false, making R a liar. R says P is a liar, which would be true if R is a liar, but R is supposed to be a liar, so R's statement must be false. Contradiction. Try Q as truthful: Q says R is truthful, so R is truthful. R says P is a liar, which would be true, making P a liar. But then P's statement that Q is a liar is false, making Q truthful—consistent. However, this gives two truth-tellers (Q and R), violating the condition. Try R as truthful: R says P is a liar, so P is a liar. P says Q is a liar, so Q is truthful. Q says R is truthful, which is true. Now we have two truth-tellers (Q and R), again violating the condition. Hence, no valid configuration with exactly one truth-teller exists.\"\n",
      "}\n",
      "{\n",
      "  \"topic\": \"Truth-teller and Liar Problems\",\n",
      "  \"question\": \"Three individuals, P, Q, and R, are on an island where each is either a truth-teller (always tells the truth) or a liar (always lies). P says, 'Q is a liar.' Q says, 'R is a truth-teller.' R says, 'P and Q are of the same type.' If exactly one of them is a truth-teller, who is the truth-teller?\",\n",
      "  \"choices\": [\"A) A) P is the truth-teller\", \"B) B) Q is the truth-teller\", \"C) C) R is the truth-teller\", \"D) D) None of them is a truth-teller\"],\n",
      "  \"answer\": \"B\",\n",
      "  \"explanation\": \"If Q is the truth-teller, then R is a truth-teller, contradicting the 'exactly one' condition. If R is the truth-teller, then P and Q are of the same type, but P says Q is a liar, which would make P a liar, and Q would be a liar, contradicting R's statement. If P is the truth-teller, Q is a liar, and R's statement that P and Q are the same type would be false, making R a liar. Only Q being the truth-teller fits without contradiction.\"\n",
      "}\n",
      "{\n",
      "  \"topic\": \"Truth-teller and Liar Problems\",\n",
      "  \"question\": \"Three individuals, X, Y, and Z, are on an island where truth-tellers always tell the truth and liars always lie. X says, 'Y is a liar.' Y says, 'Z is a truth-teller.' Z says, 'X and Y are of the same type.' If exactly one is a truth-teller, who is the truth-teller?\",\n",
      "  \"choices\": [\"A) A) X is the truth-teller\", \"B) B) Y is the truth-teller\", \"C) C) Z is the truth-teller\", \"D) D) None of them are truth-tellers\"],\n",
      "  \"answer\": \"C\",\n",
      "  \"explanation\": \"If Z is the truth-teller, then X and Y are of the same type. If X is a liar, Y is a liar, which makes Y's statement false, so Z is not a truth-teller—contradiction. If Y is a truth-teller, then Z is a truth-teller, making Z's statement true, but Z cannot be both truth-teller and liar. Only consistent solution: Z is the truth-teller, X and Y are liars.\"\n",
      "}\n",
      "{\n",
      "  \"topic\": \"Truth-teller and Liar Problems\",\n",
      "  \"question\": \"On an island, four inhabitants A, B, C, and D make the following statements: A says, 'B is a liar.' B says, 'C is a truth-teller.' C says, 'D is a liar.' D says, 'A is a truth-teller.' If exactly two are truth-tellers and two are liars, who are the truth-tellers?\",\n",
      "  \"choices\": [\"A) A) A and B\", \"B) B) B and C\", \"C) C) C and D\", \"D) D) A and D\"],\n",
      "  \"answer\": \"D\",\n",
      "  \"explanation\": \"Assume A and D are truth-tellers. Then B is a liar (A's statement), C is a liar (B's statement), and D's statement is true. This fits: two truth-tellers (A and D), two liars (B and C). Other options lead to contradictions or inconsistent counts.\"\n",
      "}\n",
      "{\n",
      "  \"topic\": \"Truth-teller and Liar Problems\",\n",
      "  \"question\": \"Three individuals, P, Q, and R, are on an island where truth-tellers always tell the truth and liars always lie. P says, 'Q is a liar.' Q says, 'R is a truth-teller.' R says, 'P is a liar.' How many truth-tellers are there?\",\n",
      "  \"choices\": [\"A) A) 0\", \"B) B) 1\", \"C) C) 2\", \"D) D) 3\"],\n",
      "  \"answer\": \"C\",\n",
      "  \"explanation\": \"If P is a truth-teller, then Q is a liar. If Q is a liar, then R is not a truth-teller. If R is a liar, then P is not a liar, which contradicts P being a truth-teller. So P must be a liar. If P is a liar, then Q is not a liar, so Q is a truth-teller. If Q is a truth-teller, then R is a truth-teller. Thus, Q and R are truth-tellers, making the answer 2.\"\n",
      "}\n",
      "{\n",
      "  \"topic\": \"Truth-teller and Liar Problems\",\n",
      "  \"question\": \"On an island, three inhabitants A, B, and C make the following statements: A says, 'B is a truth-teller.' B says, 'C is a liar.' C says, 'A is a liar.' If exactly one of them is a truth-teller, who is the truth-teller?\",\n",
      "  \"choices\": [\"A) A) A\", \"B) B) B\", \"C) C) C\", \"D) D) None\"],\n",
      "  \"answer\": \"D\",\n",
      "  \"explanation\": \"Assume A is truthful: then B is truthful, contradicting exactly one truth-teller. Assume B is truthful: then C is a liar, and C's statement 'A is a liar' is false, so A is truthful—again contradiction. Assume C is truthful: then A is a liar, so A's statement 'B is a truth-teller' is false, making B a liar. This fits: only C is truthful, others are liars. Thus, D is correct.\"\n",
      "}\n",
      "{\n",
      "  \"topic\": \"Seating Arrangements (Linear, Circular)\",\n",
      "  \"question\": \"Six people A, B, C, D, E, F sit around a circular table. A is directly opposite B. C is two seats to the right of D. E is adjacent to A and F. F is not adjacent to D. Who is sitting between D and E?\",\n",
      "  \"choices\": [\"A) A) B\", \"B) B) C\", \"C) C) E\", \"D) D) F\"],\n",
      "  \"answer\": \"C\",\n",
      "  \"explanation\": \"A is opposite B. C is two seats right of D. E is adjacent to A and F. F is not adjacent to D. Therefore, D must be two seats left of C, and E is adjacent to A, so E is between D and C.\"\n",
      "}\n",
      "{\n",
      "  \"topic\": \"Puzzles involving generations and family tree logic\",\n",
      "  \"question\": \"In a family, Ravi is the father of Anika, who is the daughter of Ravi's only sister. Ravi's mother is the sister-in-law of Anika's paternal grandfather. How is Ravi related to Anika's paternal grandfather?\",\n",
      "  \"choices\": [\"A) A) Brother\", \"B) B) Son-in-law\", \"C) C) Father\", \"D) D) Uncle\"],\n",
      "  \"answer\": \"B\",\n",
      "  \"explanation\": \"Anika's paternal grandfather is the father of her father. Ravi is the father of Anika, making him the son-in-law of Anika's paternal grandfather.\"\n",
      "}\n",
      "{\n",
      "  \"topic\": \"Puzzles involving generations and family tree logic\",\n",
      "  \"question\": \"In a family, A is the son of B, who is the daughter of C. D is the son of E, who is the daughter of F. G is the son of H, who is the daughter of I. J is the son of K, who is the daughter of L. If M is the son of N, who is the daughter of O, and O is the son of P, who is the daughter of Q, how is A related to J?\",\n",
      "  \"choices\": [\"A) A) Cousin\", \"B) B) Nephew\", \"C) C) Brother\", \"D) D) Uncle\"],\n",
      "  \"answer\": \"D\",\n",
      "  \"explanation\": \"A is the son of B, who is the daughter of C. J is the son of M, who is the daughter of N. O is the son of P, who is the daughter of Q. Since A and J are both sons of different generations and their parents are not directly related, A is the uncle of J.\"\n",
      "}\n",
      "\n",
      "==================================================\n",
      "\n",
      "\n",
      "Time taken per batch generation: [81.44262218475342, 85.390878200531, 93.83476305007935, 74.58852124214172]\n",
      "Tokens generated per batch: [1355, 1535, 1775, 1235]\n",
      "Total Time Taken: 335.257 seconds; Total Tokens: 5900; TGPS: 17.598 seconds\n",
      "\n",
      "\n",
      "\n",
      "++++++++++++++++++++++++++++++++++++++++++++++++++\n",
      "\n",
      "Saved to outputs/questions.json!\n"
     ]
    }
   ],
   "source": [
    "# Run the following code to generate questions.\n",
    "# For demo purpose, we have used the base Qwen3-4B model for Q-Agent. Participants are expected to improve upon this\n",
    "!WANDB_API_KEY=cff2e2af28595b4caaadc640a8874ad00b282dcb python -m agents.question_agent-Copy2_shravan \\\n",
    "    --output_file \"outputs/questions.json\" \\\n",
    "    --num_questions 20 \\\n",
    "    --verbose"
   ]
  },
  {
   "cell_type": "markdown",
   "id": "9e511c33",
   "metadata": {},
   "source": [
    "#### Basic format-checks for questions from Q-agent\n",
    "1. Here we filter questions into `questions.json` for usage of answer agent.\n",
    "2. Further, the filtered questions will pass through an **`Oracle`** (a part of JUDGING system, hence closed and not demonstrated here) that checks *validity* of question, choices, and answer from Q-agent. It also provides the actual correct answer to the question.\n",
    "3. BYOC (Bring Your Own Code): Well, again we emphasize to have your own innovations & code. Also the places with following tag/block or **similar**, expect some real improvements.\n",
    "    ```python\n",
    "    # TODO: IMPROVE THE FOLLOWING\n",
    "    <code>\n",
    "    ```\n",
    "4. <span style=\"color : red\">**Ensure**</span> on an average: $50\\% \\times \\text{num\\_questions} > N$ questions are filtered out.\n",
    "5. The following filter is added into the `question_agent.py`. *<span style=\"color : red\">Note that</span> we generate two version of questions, one is the usual, unfiltered one `questions.json` and the other is `filtered_questions.json` after passing through the below filter. <span style=\"color : green\">We'll use this `filtered_questions.json` for conducting matches i.e., this file will be sent to opponent's answer agent. But do keep both in `outputs/` folder.</span>*\n"
   ]
  },
  {
   "cell_type": "code",
   "execution_count": 39,
   "id": "a3770ec5",
   "metadata": {},
   "outputs": [],
   "source": [
    "from transformers import AutoTokenizer\n",
    "tokenizer = AutoTokenizer.from_pretrained(\"/jupyter-tutorial/hf_models/Qwen3-4B\", padding_side='left')\n",
    "\n",
    "def count_tokens_q(text: str) -> int:\n",
    "    \"\"\"Count the number of tokens using Qwen3-4B tokenizer\"\"\"\n",
    "    return len(tokenizer.encode(text, add_special_tokens=False))\n",
    "\n",
    "def filter_questions(questions: List[str|Dict[str, str|Any]]) -> List[Dict[str, str|Any]]:\n",
    "    def basic_checks(q2: Dict[str, str])->bool:\n",
    "        # check required keys\n",
    "        required_keys = ['topic', 'question', 'choices', 'answer']\n",
    "        if all((key in q2) for key in required_keys):\n",
    "            # check choices format\n",
    "            checks = all(isinstance(choice, str) and len(choice) > 2 and choice[0].upper() in 'ABCD' for choice in q2['choices'])\n",
    "            if isinstance(q2['choices'], list) and len(q2['choices']) == 4 and checks:\n",
    "                # check answer format\n",
    "                # Check token length\n",
    "                check_len = sum(count_tokens_q(q2[k]) for k in ['question', 'answer'])\n",
    "                check_len += sum(count_tokens_q(choice) for choice in q2['choices']) - 15\n",
    "                if check_len < 130:\n",
    "                    if check_len + count_tokens_q(q2.get('explanation', 'None')) <= 1024:\n",
    "                        # Extra Checks: (PLUS checks) len(q2['answer']) == 1 and q2['answer'].upper() in 'ABCD':\n",
    "                        if isinstance(q2['answer'], str):\n",
    "                            return True\n",
    "        return False\n",
    "    correct_format_question = []\n",
    "    for i, q in enumerate(questions):\n",
    "        if isinstance(q, dict):\n",
    "            if basic_checks(q):\n",
    "                correct_format_question.append(q)\n",
    "        elif isinstance(q, str):\n",
    "            try:\n",
    "                q1 = json.loads(q)\n",
    "                if basic_checks(q1):\n",
    "                    correct_format_question.append(q1)\n",
    "            except json.JSONDecodeError:\n",
    "                # If JSON decoding fails, skip this answer\n",
    "                print(f\"Skipping invalid JSON at index {i}: {q}\")\n",
    "                continue\n",
    "        else:\n",
    "            continue\n",
    "    if len(correct_format_question) >= 0.5 * len(questions):\n",
    "        return correct_format_question\n",
    "    return list()"
   ]
  },
  {
   "cell_type": "code",
   "execution_count": 40,
   "id": "8a66e521",
   "metadata": {
    "scrolled": true
   },
   "outputs": [],
   "source": [
    "with open(\"outputs/questions.json\", \"r\") as f:\n",
    "    questions = json.load(f)\n",
    "\n",
    "filtered_questions = filter_questions(questions)\n",
    "\n",
    "# +++++++++++++++++++++++++++++++++++++++++++++++++++++++++++++++\n",
    "# Further filtering will happen with our Oracle (not shown here) which also have its own answer for the question.\n",
    "# If Q-agent answer to its own question is wrong, then that question will not be considered.\n",
    "# +++++++++++++++++++++++++++++++++++++++++++++++++++++++++++++++\n",
    "\n",
    "with open(\"outputs/filtered_questions.json\", \"w\") as f:\n",
    "    json.dump(filtered_questions, f, indent=4)"
   ]
  },
  {
   "cell_type": "code",
   "execution_count": 41,
   "id": "ba3fe904",
   "metadata": {},
   "outputs": [
    {
     "data": {
      "text/plain": [
       "20"
      ]
     },
     "execution_count": 41,
     "metadata": {},
     "output_type": "execute_result"
    }
   ],
   "source": [
    "len(filtered_questions)"
   ]
  },
  {
   "cell_type": "markdown",
   "id": "8f96209d",
   "metadata": {},
   "source": [
    "#### A-agent\n",
    "<!-- 🤖  -->\n",
    "<u>NOTE</u>: Here in the `answer_agent.py` you can integrate your custom model -- ***E.g., SFTed or GRPOed model [answer_model2.py](./tutorial/answer_model2.py)**. But first do SFT / GRPO -> load the checkpoint with correct path in [answer_model2.py](./tutorial/answer_model2.py) and then integrate it into `answer_agent.py`.*"
   ]
  },
  {
   "cell_type": "code",
   "execution_count": 42,
   "id": "61da0098-fb44-45f1-96e4-13f8e492e79f",
   "metadata": {
    "scrolled": true
   },
   "outputs": [
    {
     "name": "stdout",
     "output_type": "stream",
     "text": [
      "\u001b[34m\u001b[1mwandb\u001b[0m: Currently logged in as: \u001b[33mnshravanreddy6\u001b[0m (\u001b[33mnshravanreddy6-freelancer\u001b[0m) to \u001b[32mhttps://api.wandb.ai\u001b[0m. Use \u001b[1m`wandb login --relogin`\u001b[0m to force relogin\n"
     ]
    },
    {
     "data": {
      "text/html": [
       "Tracking run with wandb version 0.20.1"
      ],
      "text/plain": [
       "<IPython.core.display.HTML object>"
      ]
     },
     "metadata": {},
     "output_type": "display_data"
    },
    {
     "data": {
      "text/html": [
       "Run data is saved locally in <code>/jupyter-tutorial/AAIPL_134_199_198_15/wandb/run-20250720_054747-d496os3r</code>"
      ],
      "text/plain": [
       "<IPython.core.display.HTML object>"
      ]
     },
     "metadata": {},
     "output_type": "display_data"
    },
    {
     "data": {
      "text/html": [
       "Syncing run <strong><a href='https://wandb.ai/nshravanreddy6-freelancer/my-awesome-project/runs/d496os3r' target=\"_blank\">dulcet-feather-13</a></strong> to <a href='https://wandb.ai/nshravanreddy6-freelancer/my-awesome-project' target=\"_blank\">Weights & Biases</a> (<a href='https://wandb.me/developer-guide' target=\"_blank\">docs</a>)<br>"
      ],
      "text/plain": [
       "<IPython.core.display.HTML object>"
      ]
     },
     "metadata": {},
     "output_type": "display_data"
    },
    {
     "data": {
      "text/html": [
       " View project at <a href='https://wandb.ai/nshravanreddy6-freelancer/my-awesome-project' target=\"_blank\">https://wandb.ai/nshravanreddy6-freelancer/my-awesome-project</a>"
      ],
      "text/plain": [
       "<IPython.core.display.HTML object>"
      ]
     },
     "metadata": {},
     "output_type": "display_data"
    },
    {
     "data": {
      "text/html": [
       " View run at <a href='https://wandb.ai/nshravanreddy6-freelancer/my-awesome-project/runs/d496os3r' target=\"_blank\">https://wandb.ai/nshravanreddy6-freelancer/my-awesome-project/runs/d496os3r</a>"
      ],
      "text/plain": [
       "<IPython.core.display.HTML object>"
      ]
     },
     "metadata": {},
     "output_type": "display_data"
    },
    {
     "data": {
      "text/html": [
       "<button onClick=\"this.nextSibling.style.display='block';this.style.display='none';\">Display W&B run</button><iframe src='https://wandb.ai/nshravanreddy6-freelancer/my-awesome-project/runs/d496os3r?jupyter=true' style='border:none;width:100%;height:420px;display:none;'></iframe>"
      ],
      "text/plain": [
       "<wandb.sdk.wandb_run.Run at 0x7df47fc13bf0>"
      ]
     },
     "execution_count": 42,
     "metadata": {},
     "output_type": "execute_result"
    }
   ],
   "source": [
    "import wandb\n",
    "\n",
    "# 1. Init W&B\n",
    "!wandb login\n",
    " # Set the wandb entity where your project will be logged (generally your team name).\n",
    "\n",
    "wandb.init(project=\"my-awesome-project\")\n"
   ]
  },
  {
   "cell_type": "code",
   "execution_count": 56,
   "id": "d51af0a4",
   "metadata": {
    "scrolled": true
   },
   "outputs": [
    {
     "name": "stdout",
     "output_type": "stream",
     "text": [
      "Loading checkpoint shards: 100%|██████████████████| 3/3 [00:00<00:00, 63.94it/s]\n",
      "Loading required adapter\n",
      "Found 1 checkpoints. Using latest: /jupyter-tutorial/AAIPL_134_199_198_15/tutorial/checkpoints/sft/checkpoint-9\n",
      "Loading LoRA adapters from: /jupyter-tutorial/AAIPL_134_199_198_15/tutorial/checkpoints/sft/checkpoint-9\n",
      "The installed version of bitsandbytes was compiled without GPU support. 8-bit optimizers and GPU quantization are unavailable.\n",
      "STEPS:  75%|██████████████████████████▎        | 3/4 [01:57<00:38, 38.94s/batch]^C\n",
      "Traceback (most recent call last):\n",
      "  File \"<frozen runpy>\", line 198, in _run_module_as_main\n",
      "  File \"<frozen runpy>\", line 88, in _run_code\n",
      "  File \"/jupyter-tutorial/AAIPL_134_199_198_15/agents/answer_agent_shravan.py\", line 215, in <module>\n",
      "    answer, tls, gts = agent.answer_batches(\n",
      "                       ^^^^^^^^^^^^^^^^^^^^^\n",
      "  File \"/jupyter-tutorial/AAIPL_134_199_198_15/agents/answer_agent_shravan.py\", line 92, in answer_batches\n",
      "    batch_answers, tl, gt = self.answer_question(batch_questions, **kwargs)\n",
      "                            ^^^^^^^^^^^^^^^^^^^^^^^^^^^^^^^^^^^^^^^^^^^^^^^\n",
      "  File \"/jupyter-tutorial/AAIPL_134_199_198_15/agents/answer_agent_shravan.py\", line 77, in answer_question\n",
      "    resp, tl, gt = self.agent.generate_response(prompt, sp, **kwargs)\n",
      "                   ^^^^^^^^^^^^^^^^^^^^^^^^^^^^^^^^^^^^^^^^^^^^^^^^^^\n",
      "  File \"/jupyter-tutorial/AAIPL_134_199_198_15/agents/answer_model2.py\", line 127, in generate_response\n",
      "    generated_ids = self.model.generate(\n",
      "                    ^^^^^^^^^^^^^^^^^^^^\n",
      "  File \"/usr/local/lib/python3.12/dist-packages/peft/peft_model.py\", line 1875, in generate\n",
      "    outputs = self.base_model.generate(*args, **kwargs)\n",
      "              ^^^^^^^^^^^^^^^^^^^^^^^^^^^^^^^^^^^^^^^^^\n",
      "  File \"/usr/local/lib/python3.12/dist-packages/torch/utils/_contextlib.py\", line 116, in decorate_context\n",
      "    return func(*args, **kwargs)\n",
      "           ^^^^^^^^^^^^^^^^^^^^^\n",
      "  File \"/usr/local/lib/python3.12/dist-packages/transformers/generation/utils.py\", line 2465, in generate\n",
      "    result = self._sample(\n",
      "             ^^^^^^^^^^^^^\n",
      "  File \"/usr/local/lib/python3.12/dist-packages/transformers/generation/utils.py\", line 3434, in _sample\n",
      "    outputs = model_forward(**model_inputs, return_dict=True)\n",
      "              ^^^^^^^^^^^^^^^^^^^^^^^^^^^^^^^^^^^^^^^^^^^^^^^\n",
      "  File \"/usr/local/lib/python3.12/dist-packages/torch/nn/modules/module.py\", line 1751, in _wrapped_call_impl\n",
      "    return self._call_impl(*args, **kwargs)\n",
      "           ^^^^^^^^^^^^^^^^^^^^^^^^^^^^^^^^\n",
      "  File \"/usr/local/lib/python3.12/dist-packages/torch/nn/modules/module.py\", line 1762, in _call_impl\n",
      "    return forward_call(*args, **kwargs)\n",
      "           ^^^^^^^^^^^^^^^^^^^^^^^^^^^^^\n",
      "  File \"/usr/local/lib/python3.12/dist-packages/accelerate/hooks.py\", line 175, in new_forward\n",
      "    output = module._old_forward(*args, **kwargs)\n",
      "             ^^^^^^^^^^^^^^^^^^^^^^^^^^^^^^^^^^^^\n",
      "  File \"/usr/local/lib/python3.12/dist-packages/transformers/utils/generic.py\", line 965, in wrapper\n",
      "    output = func(self, *args, **kwargs)\n",
      "             ^^^^^^^^^^^^^^^^^^^^^^^^^^^\n",
      "  File \"/usr/local/lib/python3.12/dist-packages/transformers/utils/deprecation.py\", line 172, in wrapped_func\n",
      "    return func(*args, **kwargs)\n",
      "           ^^^^^^^^^^^^^^^^^^^^^\n",
      "  File \"/usr/local/lib/python3.12/dist-packages/transformers/models/qwen3/modeling_qwen3.py\", line 850, in forward\n",
      "    outputs: BaseModelOutputWithPast = self.model(\n",
      "                                       ^^^^^^^^^^^\n",
      "  File \"/usr/local/lib/python3.12/dist-packages/torch/nn/modules/module.py\", line 1751, in _wrapped_call_impl\n",
      "    return self._call_impl(*args, **kwargs)\n",
      "           ^^^^^^^^^^^^^^^^^^^^^^^^^^^^^^^^\n",
      "  File \"/usr/local/lib/python3.12/dist-packages/torch/nn/modules/module.py\", line 1762, in _call_impl\n",
      "    return forward_call(*args, **kwargs)\n",
      "           ^^^^^^^^^^^^^^^^^^^^^^^^^^^^^\n",
      "  File \"/usr/local/lib/python3.12/dist-packages/transformers/utils/generic.py\", line 965, in wrapper\n",
      "    output = func(self, *args, **kwargs)\n",
      "             ^^^^^^^^^^^^^^^^^^^^^^^^^^^\n",
      "  File \"/usr/local/lib/python3.12/dist-packages/transformers/models/qwen3/modeling_qwen3.py\", line 576, in forward\n",
      "    layer_outputs = decoder_layer(\n",
      "                    ^^^^^^^^^^^^^^\n",
      "  File \"/usr/local/lib/python3.12/dist-packages/torch/nn/modules/module.py\", line 1751, in _wrapped_call_impl\n",
      "    return self._call_impl(*args, **kwargs)\n",
      "           ^^^^^^^^^^^^^^^^^^^^^^^^^^^^^^^^\n",
      "  File \"/usr/local/lib/python3.12/dist-packages/torch/nn/modules/module.py\", line 1762, in _call_impl\n",
      "    return forward_call(*args, **kwargs)\n",
      "           ^^^^^^^^^^^^^^^^^^^^^^^^^^^^^\n",
      "  File \"/usr/local/lib/python3.12/dist-packages/transformers/models/qwen3/modeling_qwen3.py\", line 305, in forward\n",
      "    hidden_states = self.mlp(hidden_states)\n",
      "                    ^^^^^^^^^^^^^^^^^^^^^^^\n",
      "  File \"/usr/local/lib/python3.12/dist-packages/torch/nn/modules/module.py\", line 1751, in _wrapped_call_impl\n",
      "    return self._call_impl(*args, **kwargs)\n",
      "           ^^^^^^^^^^^^^^^^^^^^^^^^^^^^^^^^\n",
      "  File \"/usr/local/lib/python3.12/dist-packages/torch/nn/modules/module.py\", line 1762, in _call_impl\n",
      "    return forward_call(*args, **kwargs)\n",
      "           ^^^^^^^^^^^^^^^^^^^^^^^^^^^^^\n",
      "  File \"/usr/local/lib/python3.12/dist-packages/transformers/models/qwen3/modeling_qwen3.py\", line 94, in forward\n",
      "    down_proj = self.down_proj(self.act_fn(self.gate_proj(x)) * self.up_proj(x))\n",
      "                ^^^^^^^^^^^^^^^^^^^^^^^^^^^^^^^^^^^^^^^^^^^^^^^^^^^^^^^^^^^^^^^^\n",
      "  File \"/usr/local/lib/python3.12/dist-packages/torch/nn/modules/module.py\", line 1751, in _wrapped_call_impl\n",
      "    return self._call_impl(*args, **kwargs)\n",
      "           ^^^^^^^^^^^^^^^^^^^^^^^^^^^^^^^^\n",
      "  File \"/usr/local/lib/python3.12/dist-packages/torch/nn/modules/module.py\", line 1762, in _call_impl\n",
      "    return forward_call(*args, **kwargs)\n",
      "           ^^^^^^^^^^^^^^^^^^^^^^^^^^^^^\n",
      "  File \"/usr/local/lib/python3.12/dist-packages/peft/tuners/lora/layer.py\", line 712, in forward\n",
      "    result = self.base_layer(x, *args, **kwargs)\n",
      "             ^^^^^^^^^^^^^^^^^^^^^^^^^^^^^^^^^^^\n",
      "  File \"/usr/local/lib/python3.12/dist-packages/torch/nn/modules/module.py\", line 1751, in _wrapped_call_impl\n",
      "    return self._call_impl(*args, **kwargs)\n",
      "           ^^^^^^^^^^^^^^^^^^^^^^^^^^^^^^^^\n",
      "  File \"/usr/local/lib/python3.12/dist-packages/torch/nn/modules/module.py\", line 1762, in _call_impl\n",
      "    return forward_call(*args, **kwargs)\n",
      "           ^^^^^^^^^^^^^^^^^^^^^^^^^^^^^\n",
      "  File \"/usr/local/lib/python3.12/dist-packages/torch/nn/modules/linear.py\", line 125, in forward\n",
      "    return F.linear(input, self.weight, self.bias)\n",
      "           ^^^^^^^^^^^^^^^^^^^^^^^^^^^^^^^^^^^^^^^\n",
      "KeyboardInterrupt\n",
      "STEPS:  75%|██████████████████████████▎        | 3/4 [02:22<00:47, 47.47s/batch]\n"
     ]
    }
   ],
   "source": [
    "# Same instructions apply for the answer agent.\n",
    "# For demo purpose, we have used the base Qwen3-4B model for A-agent. Participants are expected to improve upon this.\n",
    "!WANDB_API_KEY=cff2e2af28595b4caaadc640a8874ad00b282dcb python -m agents.answer_agent_shravan \\\n",
    "    --input_file \"outputs/filtered_questions.json\" \\\n",
    "    --output_file \"outputs/answers.json\" \\\n",
    "    --batch_size 5 \\\n",
    "    --verbose\n"
   ]
  },
  {
   "cell_type": "markdown",
   "id": "3891529b",
   "metadata": {},
   "source": [
    "#### Basic format-checks for answers from A-agent.\n",
    "\n",
    "1. Checks for expected `JSON` format as suggested in [instructions](#format-overview).\n",
    "2. Same as Q-Agents, improvements are required here too.\n",
    "3. Answers not having above format will not be considered and thus no point will be awarded.\n",
    "4. The following filter is added into the `answer_agent.py`. Similarly here too, two versions are saved, `answers.json` and `filtered_answers.json`. The latter is used for evaluation."
   ]
  },
  {
   "cell_type": "code",
   "execution_count": 44,
   "id": "7bed9431-9750-4fe5-b558-f037aae128d5",
   "metadata": {},
   "outputs": [],
   "source": [
    "import time"
   ]
  },
  {
   "cell_type": "code",
   "execution_count": 45,
   "id": "3acad45e",
   "metadata": {},
   "outputs": [],
   "source": [
    "from transformers import AutoTokenizer\n",
    "tokenizer = AutoTokenizer.from_pretrained(\"/jupyter-tutorial/hf_models/Qwen3-4B\", padding_side='left')\n",
    "\n",
    "def count_tokens_a(text: str) -> int:\n",
    "    \"\"\"Count the number of tokens in the text using the agent's tokenizer\"\"\"\n",
    "    return len(tokenizer.encode(text, add_special_tokens=False))\n",
    "\n",
    "def filter_answers(ans: List[str|Dict[str, str]]) -> List[Dict[str, str]]:\n",
    "    r\"\"\"Filter answers to ensure they are in the correct format\"\"\"\n",
    "    def basic_checks(a1: Dict[str, str])->bool:\n",
    "        # check required keys\n",
    "        required_keys = ['answer']\n",
    "        if all((key in a1) and isinstance(a1[key], str) for key in required_keys):\n",
    "            if len(a1['answer']) == 1 and (a1['answer'] not in 'ABCDabcd'):\n",
    "                    return False\n",
    "            check_len = count_tokens_a(a1['answer'])\n",
    "            if check_len < 50:\n",
    "                check_len += count_tokens_a(a1.get('reasoning', 'None'))\n",
    "                if check_len < 512:\n",
    "                    # check answer format - EXTRA checks\n",
    "                    # if len(a1['answer']) == 1 and a1['answer'].upper() in 'ABCD':\n",
    "                    return True\n",
    "        return False\n",
    "\n",
    "    filtered_answers = []\n",
    "    for i, a in enumerate(ans):\n",
    "        start_time = time.time()\n",
    "        if isinstance(a, dict):\n",
    "            if basic_checks(a):\n",
    "                filtered_answers.append(a)\n",
    "            else:\n",
    "                filtered_answers.append(None)\n",
    "        elif isinstance(a, str):\n",
    "            # Basic checks: at least with correct JSON format\n",
    "            try:\n",
    "                a1 = json.loads(a)\n",
    "                if basic_checks(a1):\n",
    "                    filtered_answers.append(a1)\n",
    "                else:\n",
    "                    filtered_answers.append(None)\n",
    "            except json.JSONDecodeError:\n",
    "                # If JSON decoding fails, skip this answer\n",
    "                print(f\"Skipping invalid JSON at index {i}: {a}\")\n",
    "                filtered_answers.append(None)\n",
    "                continue\n",
    "        else:\n",
    "            # If the answer is neither a dict nor a str, skip it\n",
    "            print(f\"Skipping unsupported type at index {i}: {type(a)}\")\n",
    "            filtered_answers.append(None)\n",
    "        end_time = time.time()\n",
    "        time_taken = end_time - start_time\n",
    "        print(f\"Time taken to answer question {i+1}: {time_taken:.4f} seconds\")\n",
    "    return filtered_answers"
   ]
  },
  {
   "cell_type": "code",
   "execution_count": 46,
   "id": "49a4301d",
   "metadata": {
    "scrolled": true
   },
   "outputs": [
    {
     "name": "stdout",
     "output_type": "stream",
     "text": [
      "Time taken to answer question 1: 0.0005 seconds\n",
      "Time taken to answer question 2: 0.0003 seconds\n",
      "Time taken to answer question 3: 0.0000 seconds\n",
      "Time taken to answer question 4: 0.0002 seconds\n",
      "Time taken to answer question 5: 0.0004 seconds\n",
      "Time taken to answer question 6: 0.0002 seconds\n",
      "Time taken to answer question 7: 0.0002 seconds\n",
      "Time taken to answer question 8: 0.0002 seconds\n",
      "Time taken to answer question 9: 0.0002 seconds\n",
      "Time taken to answer question 10: 0.0003 seconds\n",
      "Time taken to answer question 11: 0.0002 seconds\n",
      "Time taken to answer question 12: 0.0003 seconds\n",
      "Time taken to answer question 13: 0.0003 seconds\n",
      "Time taken to answer question 14: 0.0002 seconds\n",
      "Time taken to answer question 15: 0.0000 seconds\n",
      "Time taken to answer question 16: 0.0000 seconds\n",
      "Time taken to answer question 17: 0.0002 seconds\n",
      "Time taken to answer question 18: 0.0002 seconds\n",
      "Time taken to answer question 19: 0.0002 seconds\n",
      "Time taken to answer question 20: 0.0002 seconds\n"
     ]
    }
   ],
   "source": [
    "with open(\"outputs/answers.json\", \"r\") as f:\n",
    "    answers = json.load(f)\n",
    "filtered_answers = filter_answers(answers)"
   ]
  },
  {
   "cell_type": "code",
   "execution_count": 47,
   "id": "74567658-996c-4cf0-bdc3-a50140126051",
   "metadata": {
    "scrolled": true
   },
   "outputs": [
    {
     "data": {
      "text/plain": [
       "20"
      ]
     },
     "execution_count": 47,
     "metadata": {},
     "output_type": "execute_result"
    }
   ],
   "source": [
    "len(answers)"
   ]
  },
  {
   "cell_type": "code",
   "execution_count": 48,
   "id": "75bc092e",
   "metadata": {},
   "outputs": [
    {
     "data": {
      "text/plain": [
       "20"
      ]
     },
     "execution_count": 48,
     "metadata": {},
     "output_type": "execute_result"
    }
   ],
   "source": [
    "len(filtered_answers)"
   ]
  },
  {
   "cell_type": "markdown",
   "id": "79a6a911",
   "metadata": {},
   "source": [
    "#### Evaluation\n",
    "<!-- 🏅  -->"
   ]
  },
  {
   "cell_type": "markdown",
   "id": "f2aa2284",
   "metadata": {},
   "source": [
    "##### Scoring Criteria\n",
    "\n",
    "<!-- 📊  -->\n",
    "\n",
    "Simply, we assign scores based on, out of $N$ questions from Q-agent, how many an A-agent can answer and vice-versa. *No negative marking for wrong answers.*\n",
    "\n",
    "$$\\text{A-agent Score} = \\dfrac{\\#\\ \\text{of questions correctly answered with expected format}}{N}\\times 100$$\n",
    "$$\\text{Q-agent Score} = \\dfrac{\\#\\ \\text{of questions incorrectly answered by A-agent}}{N}\\times 100$$"
   ]
  },
  {
   "cell_type": "code",
   "execution_count": 49,
   "id": "aec36efc-8612-4833-81b6-55b129111726",
   "metadata": {
    "scrolled": true
   },
   "outputs": [
    {
     "data": {
      "text/plain": [
       "[{'topic': 'Seating Arrangements (Linear, Circular)',\n",
       "  'question': 'Nine people A, B, C, D, E, F, G, H, I sit in a circular table with three facing the center and six facing outward. A is directly opposite D, who is adjacent to E. B is two seats to the left of C, who is facing outward. F is seated between G and H, who are both facing outward. I is adjacent to A and faces outward. If E is facing outward, who is sitting between F and G?',\n",
       "  'choices': ['A) A) B', 'B) B) H', 'C) C) I', 'D) D) C'],\n",
       "  'answer': 'B',\n",
       "  'explanation': 'E facing outward places D opposite A. B is two left of C (facing outward). F is between G and H (both outward). I is adjacent to A and outward. Only H fits between F and G without conflicting with other constraints.'},\n",
       " {'topic': 'Truth-teller and Liar Problems',\n",
       "  'question': \"Three individuals, P, Q, and R, are on an island where everyone is either a truth-teller (always tells the truth) or a liar (always lies). P says, 'Q is a liar.' Q says, 'R is a truth-teller.' R says, 'P is a liar.' How many truth-tellers are there?\",\n",
       "  'choices': ['A) A) 0', 'B) B) 1', 'C) C) 2', 'D) D) 3'],\n",
       "  'answer': 'B',\n",
       "  'explanation': 'If P is a truth-teller, then Q is a liar. If Q is a liar, then R is not a truth-teller. If R is a liar, then P is not a liar, which contradicts P being a truth-teller. If P is a liar, then Q is not a liar, so Q is a truth-teller. If Q is a truth-teller, then R is a truth-teller. If R is a truth-teller, then P is a liar, which fits. So only one truth-teller (Q) exists.'},\n",
       " {'topic': 'Puzzles involving generations and family tree logic',\n",
       "  'question': \"In a family, Ravi is the son of Ramesh, who is the brother of Radha. Radha is the daughter of Ramesh's only sister. Ravi's mother is married to the son of Ramesh's father's only son. How is Ravi related to Radha's son?\",\n",
       "  'choices': ['A) A) Cousin', 'B) B) Nephew', 'C) C) Brother', 'D) D) Uncle'],\n",
       "  'answer': 'C',\n",
       "  'explanation': \"Ravi and Radha share the same father, Ramesh. Radha's son is Ravi's brother. Thus, Ravi is the brother of Radha's son.\"},\n",
       " {'topic': 'Truth-teller and Liar Problems',\n",
       "  'question': \"Three individuals, P, Q, and R, make the following statements: P says, 'Q is a liar.' Q says, 'R is a truth-teller.' R says, 'P is a liar.' If exactly one of them is a truth-teller, who is the truth-teller?\",\n",
       "  'choices': ['A) A) P is the truth-teller',\n",
       "   'B) B) Q is the truth-teller',\n",
       "   'C) C) R is the truth-teller',\n",
       "   'D) D) None of them is the truth-teller'],\n",
       "  'answer': 'D',\n",
       "  'explanation': \"Assume P is truthful: then Q is a liar, making Q's statement false (so R is not a truth-teller). R says P is a liar, which would be a lie if R is a liar, but R's status is uncertain. If Q is truthful, then R is a truth-teller, contradicting R's statement. If R is truthful, then P is a liar, making P's statement false (so Q is not a liar), but Q's statement would be true, contradicting R's truthfulness. No consistent configuration with exactly one truth-teller exists.\"},\n",
       " {'topic': 'Puzzles involving generations and family tree logic',\n",
       "  'question': \"In a family, Ravi is the son of Priya's maternal uncle. Priya's father's only sister is married to the only son of Ravi's paternal grandfather's only daughter. How is Ravi related to Priya?\",\n",
       "  'choices': ['A) A) Cousin', 'B) B) Brother', 'C) C) Nephew', 'D) D) Uncle'],\n",
       "  'answer': 'A',\n",
       "  'explanation': \"Ravi is the son of Priya's maternal uncle, making him her cousin. The marriage described confirms they share a common grandparent, reinforcing the cousin relationship.\"},\n",
       " {'topic': 'Truth-teller and Liar Problems',\n",
       "  'question': \"On an island, three inhabitants A, B, and C make statements: A says, 'B is a liar.' B says, 'C is a truth-teller.' C says, 'A is a liar.' If exactly one of them is a truth-teller, who is the truth-teller?\",\n",
       "  'choices': ['A) A) A', 'B) B) B', 'C) C) C', 'D) D) None'],\n",
       "  'answer': 'B',\n",
       "  'explanation': \"If B is the truth-teller, then C is a truth-teller (from B's statement), which contradicts the condition of exactly one truth-teller. If A is the truth-teller, then B is a liar, making C's statement true, which contradicts the one truth-teller rule. If C is the truth-teller, then A is a liar, making B's statement false, so B is a liar. This fits: only C is truthful, others are liars.\"},\n",
       " {'topic': 'Truth-teller and Liar Problems',\n",
       "  'question': \"Three inhabitants, X, Y, and Z, live on an island where everyone is either a truth-teller or a liar. X says, 'Y is a liar.' Y says, 'Z is a truth-teller.' Z says, 'X is a liar.' How many truth-tellers are there?\",\n",
       "  'choices': ['A) A) One', 'B) B) Two', 'C) C) Three', 'D) D) None'],\n",
       "  'answer': 'A',\n",
       "  'explanation': \"If X is a truth-teller, Y is a liar, so Z's statement that X is a liar is false, making Z a liar. This gives one truth-teller (X). If X is a liar, then Y is a truth-teller, so Z is a truth-teller, making Z's statement true, which contradicts Z being a truth-teller. Only one consistent configuration: X is a truth-teller, Y and Z are liars.\"},\n",
       " {'topic': 'Puzzles involving generations and family tree logic',\n",
       "  'question': 'In a family tree, A is the brother of B, who is the daughter of C. D is the son of E, who is the only daughter of F. G is the son of H, who is the only son of I. J is the daughter of K, who is the only daughter of L. If M is the son of N, who is the only son of O, and O is the only son of P, who is the only daughter of Q, how is A related to J?',\n",
       "  'choices': ['A) A) Cousin', 'B) B) Nephew', 'C) C) Uncle', 'D) D) Brother'],\n",
       "  'answer': 'C',\n",
       "  'explanation': 'A is the brother of B, who is the daughter of C. J is the daughter of K, who is the only daughter of L. The family tree shows that A and J are on different branches of the tree, with A being the brother of B and J being the daughter of K. Since C and L are not related, A is not directly related to J. However, since M is the son of N, who is the only son of O, and O is the only son of P, who is the only daughter of Q, this shows that A and J are on different branches of the tree, making A the uncle of J.'},\n",
       " {'topic': 'Seating Arrangements (Linear, Circular)',\n",
       "  'question': 'Six people A, B, C, D, E, F sit in a circular table. A is between B and F. D is two seats to the right of E. C is not adjacent to B. F is directly opposite A. Who is sitting between E and D?',\n",
       "  'choices': ['A) A) C', 'B) B) B', 'C) C) F', 'D) D) A'],\n",
       "  'answer': 'A',\n",
       "  'explanation': 'A is between B and F, F is opposite A. D is two seats right of E. C not adjacent to B. Only C fits between E and D without conflicts.'},\n",
       " {'topic': 'Puzzles involving generations and family tree logic',\n",
       "  'question': \"In a family, Ravi is the son of Suman's only sister. Suman's father is the brother of Lata's mother. Lata is the daughter of Ravi's paternal grandfather. How is Lata related to Ravi?\",\n",
       "  'choices': ['A) A) Cousin', 'B) B) Niece', 'C) C) Sister', 'D) D) Aunt'],\n",
       "  'answer': 'C',\n",
       "  'explanation': \"Ravi's paternal grandfather is Lata's father. Suman is Ravi's maternal aunt. Lata is Ravi's sister. Thus, Lata is Ravi's sister.\"},\n",
       " {'topic': 'Truth-teller and Liar Problems',\n",
       "  'question': \"Three individuals, X, Y, and Z, are on an island where truth-tellers always tell the truth and liars always lie. X says, 'Y is a liar.' Y says, 'Z is a truth-teller.' Z says, 'X and Y are of the same type.' How many truth-tellers are there?\",\n",
       "  'choices': ['A) A) One truth-teller',\n",
       "   'B) B) Two truth-tellers',\n",
       "   'C) C) Three truth-tellers',\n",
       "   'D) D) No truth-tellers'],\n",
       "  'answer': 'A',\n",
       "  'explanation': \"If X is a truth-teller, Y is a liar. Then Y's statement that Z is a truth-teller is false, so Z is a liar. Z says X and Y are the same type, which is false, consistent with Z being a liar. Thus, only X is a truth-teller. If X is a liar, Y is a truth-teller, making Z a truth-teller, contradicting Z's statement. Only valid configuration: one truth-teller.\"},\n",
       " {'topic': 'Truth-teller and Liar Problems',\n",
       "  'question': \"Three individuals, P, Q, and R, make the following statements: P says, 'Q is a liar.' Q says, 'R is a truth-teller.' R says, 'P is a liar.' If exactly one of them is a truth-teller, who is it?\",\n",
       "  'choices': ['A) A) P is the truth-teller',\n",
       "   'B) B) Q is the truth-teller',\n",
       "   'C) C) R is the truth-teller',\n",
       "   'D) D) None of them is a truth-teller'],\n",
       "  'answer': 'D',\n",
       "  'explanation': \"Assume P is truthful: then Q is a liar, so Q's statement that R is a truth-teller is false, making R a liar. R says P is a liar, which would be true if R is a liar, but R is supposed to be a liar, so R's statement must be false. Contradiction. Try Q as truthful: Q says R is truthful, so R is truthful. R says P is a liar, which would be true, making P a liar. But then P's statement that Q is a liar is false, making Q truthful—consistent. However, this gives two truth-tellers (Q and R), violating the condition. Try R as truthful: R says P is a liar, so P is a liar. P says Q is a liar, so Q is truthful. Q says R is truthful, which is true. Now we have two truth-tellers (Q and R), again violating the condition. Hence, no valid configuration with exactly one truth-teller exists.\"},\n",
       " {'topic': 'Truth-teller and Liar Problems',\n",
       "  'question': \"Three individuals, P, Q, and R, are on an island where each is either a truth-teller (always tells the truth) or a liar (always lies). P says, 'Q is a liar.' Q says, 'R is a truth-teller.' R says, 'P and Q are of the same type.' If exactly one of them is a truth-teller, who is the truth-teller?\",\n",
       "  'choices': ['A) A) P is the truth-teller',\n",
       "   'B) B) Q is the truth-teller',\n",
       "   'C) C) R is the truth-teller',\n",
       "   'D) D) None of them is a truth-teller'],\n",
       "  'answer': 'B',\n",
       "  'explanation': \"If Q is the truth-teller, then R is a truth-teller, contradicting the 'exactly one' condition. If R is the truth-teller, then P and Q are of the same type, but P says Q is a liar, which would make P a liar, and Q would be a liar, contradicting R's statement. If P is the truth-teller, Q is a liar, and R's statement that P and Q are the same type would be false, making R a liar. Only Q being the truth-teller fits without contradiction.\"},\n",
       " {'topic': 'Truth-teller and Liar Problems',\n",
       "  'question': \"Three individuals, X, Y, and Z, are on an island where truth-tellers always tell the truth and liars always lie. X says, 'Y is a liar.' Y says, 'Z is a truth-teller.' Z says, 'X and Y are of the same type.' If exactly one is a truth-teller, who is the truth-teller?\",\n",
       "  'choices': ['A) A) X is the truth-teller',\n",
       "   'B) B) Y is the truth-teller',\n",
       "   'C) C) Z is the truth-teller',\n",
       "   'D) D) None of them are truth-tellers'],\n",
       "  'answer': 'C',\n",
       "  'explanation': \"If Z is the truth-teller, then X and Y are of the same type. If X is a liar, Y is a liar, which makes Y's statement false, so Z is not a truth-teller—contradiction. If Y is a truth-teller, then Z is a truth-teller, making Z's statement true, but Z cannot be both truth-teller and liar. Only consistent solution: Z is the truth-teller, X and Y are liars.\"},\n",
       " {'topic': 'Truth-teller and Liar Problems',\n",
       "  'question': \"On an island, four inhabitants A, B, C, and D make the following statements: A says, 'B is a liar.' B says, 'C is a truth-teller.' C says, 'D is a liar.' D says, 'A is a truth-teller.' If exactly two are truth-tellers and two are liars, who are the truth-tellers?\",\n",
       "  'choices': ['A) A) A and B',\n",
       "   'B) B) B and C',\n",
       "   'C) C) C and D',\n",
       "   'D) D) A and D'],\n",
       "  'answer': 'D',\n",
       "  'explanation': \"Assume A and D are truth-tellers. Then B is a liar (A's statement), C is a liar (B's statement), and D's statement is true. This fits: two truth-tellers (A and D), two liars (B and C). Other options lead to contradictions or inconsistent counts.\"},\n",
       " {'topic': 'Truth-teller and Liar Problems',\n",
       "  'question': \"Three individuals, P, Q, and R, are on an island where truth-tellers always tell the truth and liars always lie. P says, 'Q is a liar.' Q says, 'R is a truth-teller.' R says, 'P is a liar.' How many truth-tellers are there?\",\n",
       "  'choices': ['A) A) 0', 'B) B) 1', 'C) C) 2', 'D) D) 3'],\n",
       "  'answer': 'C',\n",
       "  'explanation': 'If P is a truth-teller, then Q is a liar. If Q is a liar, then R is not a truth-teller. If R is a liar, then P is not a liar, which contradicts P being a truth-teller. So P must be a liar. If P is a liar, then Q is not a liar, so Q is a truth-teller. If Q is a truth-teller, then R is a truth-teller. Thus, Q and R are truth-tellers, making the answer 2.'},\n",
       " {'topic': 'Truth-teller and Liar Problems',\n",
       "  'question': \"On an island, three inhabitants A, B, and C make the following statements: A says, 'B is a truth-teller.' B says, 'C is a liar.' C says, 'A is a liar.' If exactly one of them is a truth-teller, who is the truth-teller?\",\n",
       "  'choices': ['A) A) A', 'B) B) B', 'C) C) C', 'D) D) None'],\n",
       "  'answer': 'D',\n",
       "  'explanation': \"Assume A is truthful: then B is truthful, contradicting exactly one truth-teller. Assume B is truthful: then C is a liar, and C's statement 'A is a liar' is false, so A is truthful—again contradiction. Assume C is truthful: then A is a liar, so A's statement 'B is a truth-teller' is false, making B a liar. This fits: only C is truthful, others are liars. Thus, D is correct.\"},\n",
       " {'topic': 'Seating Arrangements (Linear, Circular)',\n",
       "  'question': 'Six people A, B, C, D, E, F sit around a circular table. A is directly opposite B. C is two seats to the right of D. E is adjacent to A and F. F is not adjacent to D. Who is sitting between D and E?',\n",
       "  'choices': ['A) A) B', 'B) B) C', 'C) C) E', 'D) D) F'],\n",
       "  'answer': 'C',\n",
       "  'explanation': 'A is opposite B. C is two seats right of D. E is adjacent to A and F. F is not adjacent to D. Therefore, D must be two seats left of C, and E is adjacent to A, so E is between D and C.'},\n",
       " {'topic': 'Puzzles involving generations and family tree logic',\n",
       "  'question': \"In a family, Ravi is the father of Anika, who is the daughter of Ravi's only sister. Ravi's mother is the sister-in-law of Anika's paternal grandfather. How is Ravi related to Anika's paternal grandfather?\",\n",
       "  'choices': ['A) A) Brother',\n",
       "   'B) B) Son-in-law',\n",
       "   'C) C) Father',\n",
       "   'D) D) Uncle'],\n",
       "  'answer': 'B',\n",
       "  'explanation': \"Anika's paternal grandfather is the father of her father. Ravi is the father of Anika, making him the son-in-law of Anika's paternal grandfather.\"},\n",
       " {'topic': 'Puzzles involving generations and family tree logic',\n",
       "  'question': 'In a family, A is the son of B, who is the daughter of C. D is the son of E, who is the daughter of F. G is the son of H, who is the daughter of I. J is the son of K, who is the daughter of L. If M is the son of N, who is the daughter of O, and O is the son of P, who is the daughter of Q, how is A related to J?',\n",
       "  'choices': ['A) A) Cousin', 'B) B) Nephew', 'C) C) Brother', 'D) D) Uncle'],\n",
       "  'answer': 'D',\n",
       "  'explanation': 'A is the son of B, who is the daughter of C. J is the son of M, who is the daughter of N. O is the son of P, who is the daughter of Q. Since A and J are both sons of different generations and their parents are not directly related, A is the uncle of J.'}]"
      ]
     },
     "execution_count": 49,
     "metadata": {},
     "output_type": "execute_result"
    }
   ],
   "source": [
    "filtered_questions"
   ]
  },
  {
   "cell_type": "code",
   "execution_count": 50,
   "id": "bbbd6a4e-4657-4840-aedb-1df75d46e2fd",
   "metadata": {
    "scrolled": true
   },
   "outputs": [
    {
     "name": "stdout",
     "output_type": "stream",
     "text": [
      "{'answer': 'C', 'reasoning': 'If R is the truth-teller, then P and Q are of the same type. P says Q is a liar, which would be a lie if P is a liar. Q says R is a truth-teller, which is true. This fits with R being the only truth-teller, making P and Q liars. Thus, R is the truth-teller.'}\n",
      "{'answer': 'C', 'reasoning': 'A is opposite B, so they are seated with two people between them. C is two seats to the right of D, and E is adjacent to A and F. F is not adjacent to D. By placing A and B opposite each other, and considering the positions of C, D, E, and F, C must be between D and E.'}\n",
      "{'answer': 'D', 'reasoning': 'From the clues, A is between B and F. F is two seats to the left of G, so G is two seats to the right of F. D is two seats to the right of E. C is adjacent to G and faces the center. B is not adjacent to D. By placing the people in a circle and satisfying all conditions, D ends up opposite A.'}\n",
      "{'answer': 'C', 'reasoning': \"If R is the truth-teller, then R's statement 'P is a liar' is true, making P a liar. P's statement 'Q is a liar' would then be a lie, making Q a truth-teller. But this contradicts the condition that only one is a truth-teller. Re-evaluating, if Q is the truth-teller, then R is a truth-teller, which also contradicts. If P is the truth-teller, then Q is a liar, making R a truth-teller, again a contradiction. Thus, the only consistent scenario is if R is the truth-teller, making P and Q liars, satisfying the condition of exactly one truth-teller.\"}\n",
      "{'answer': 'B', 'reasoning': 'If A is a truth-teller, then B is a liar. But if B is a liar, then C is not a truth-teller. However, C says A is a liar, which would make C a truth-teller if A is a liar. This creates a contradiction. If B is a truth-teller, then C is a truth-teller, making A a liar. This is consistent. Thus, only B is a truth-teller.'}\n",
      "{'answer': 'A', 'reasoning': \"Rajesh is the brother of Priya's father, making him the brother of Ramesh. Since Ramesh is the son of Lata, Rajesh is Lata's son-in-law as he is married to Priya's father. Therefore, the correct answer is A) Son-in-law.\"}\n",
      "{'answer': 'C', 'reasoning': 'A is opposite D, so they are separated by three people. B is two seats to the right of E, and C is adjacent to F. F is not adjacent to A. By placing A and D opposite each other, and considering the positions of B, E, C, and F, C ends up between B and E.'}\n",
      "{'answer': 'D', 'reasoning': 'A is opposite B, so they are separated by two people. E is adjacent to F, who is adjacent to A. Since F is adjacent to A, F must be next to A. D is two seats to the left of C, and D is not adjacent to E. The only person that fits between A and B is D.'}\n",
      "{'answer': 'A', 'reasoning': 'If X is a truth-teller, then Y is a liar. If Y is a liar, then Z is not a truth-teller. If Z is a liar, then X is not a liar, which contradicts X being a truth-teller. Thus, X must be a liar. If X is a liar, then Y is not a liar, so Y is a truth-teller. If Y is a truth-teller, then Z is a truth-teller. But Z says X is a liar, which is true, so Z is a truth-teller. This creates a contradiction. Therefore, only one person can be a truth-teller, which is Y.'}\n",
      "{'answer': 'C', 'reasoning': 'From the given information, A is between B and F, and B is opposite F. This places B and F across from each other, with A between them. D is two seats to the left of E, and C is not adjacent to A. Placing D and E accordingly, C ends up next to D. Thus, the correct answer is C.'}\n",
      "{'answer': 'C', 'reasoning': \"If R is the truth-teller, then P is a liar, making P's statement false (so Q is not a liar, i.e., Q is a truth-teller). But this contradicts the condition that only one is a truth-teller. If Q is the truth-teller, then R is a truth-teller, again contradicting the condition. If P is the truth-teller, then Q is a liar, making R a liar, but this also contradicts the condition. Thus, the only consistent scenario is if R is the truth-teller, making P and Q liars, satisfying the condition of exactly one truth-teller.\"}\n",
      "{'answer': 'C', 'reasoning': 'If C is the truth-teller, then A is a truth-teller, which contradicts the condition that only one is a truth-teller. If A is the truth-teller, then B is a liar, making C a truth-teller, which again contradicts the condition. If B is the truth-teller, then C is a liar, making A a truth-teller, which also contradicts the condition. Therefore, the only consistent scenario is if C is the truth-teller, making A a liar and B a liar, satisfying the condition of exactly one truth-teller.'}\n",
      "{'answer': 'B', 'reasoning': 'If X is a truth-teller, then Y is a liar. If Y is a liar, then Z is not a truth-teller. If Z is a liar, then X is not a liar, which contradicts X being a truth-teller. If X is a liar, then Y is a truth-teller. If Y is a truth-teller, then Z is a truth-teller. If Z is a truth-teller, then X is a liar, which is consistent. Thus, only Y and Z are truth-tellers, making the answer B (1).'}\n",
      "{'answer': 'C', 'reasoning': \"If Z is the truth-teller, then X and Y are of the same type. If X is a liar, then Y is a liar, which contradicts Z's statement. If Y is a truth-teller, then Z is a truth-teller, which is consistent. Since exactly one is a truth-teller, Z must be the truth-teller, making X and Y liars. This satisfies all conditions.\"}\n",
      "{'answer': 'D', 'reasoning': 'From the clues, A is between B and F. D is two seats to the right of E. C is opposite G. B is adjacent to D. F is not adjacent to E. By placing the people around the table and checking the positions, D is two seats to the left of A.'}\n",
      "{'answer': 'D', 'reasoning': 'A is opposite B, so they are separated by three seats. F is two seats to the right of A, placing F in the seat two positions clockwise from A. E is adjacent to F, so E is either immediately next to F. C is two seats to the left of D. By placing the people around the table according to these constraints, D ends up between A and B.'}\n",
      "{'answer': 'C', 'reasoning': 'In a circular table with six people, A is opposite B. C is two seats to the right of D, and E is adjacent to A and F. F is not adjacent to D. By placing A and B opposite each other, and considering the positions of C, D, E, and F, C must be between D and E. This satisfies all conditions and eliminates other options.'}\n"
     ]
    }
   ],
   "source": [
    "for a in filtered_answers:\n",
    "    if a is not None: print(a)"
   ]
  },
  {
   "cell_type": "markdown",
   "id": "ba1f7ccf",
   "metadata": {},
   "source": [
    "**An Example demonstrating how Q-agent matches up with A-agent**"
   ]
  },
  {
   "cell_type": "code",
   "execution_count": 51,
   "id": "57c11592",
   "metadata": {},
   "outputs": [
    {
     "name": "stdout",
     "output_type": "stream",
     "text": [
      "Number of questions: 20\n",
      "Number of correct answers: 4\n",
      "Scores:\n",
      "Team B: A-agent score: 20.00\n",
      "Team A: Q-agent score: 80.00\n",
      "Innings 1 winner: Team A\n"
     ]
    }
   ],
   "source": [
    "# calculate scores...\n",
    "N = len(filtered_questions)\n",
    "assert N == len(filtered_answers), \"Number of questions and answers must match.\"\n",
    "num_correct_answers = len([1 for q,a in zip(filtered_questions, filtered_answers) if a is not None and q['answer'] == a['answer']])\n",
    "\n",
    "# Here the answer may be correct, but since q['answer'] is not an option letter is not there, we face problems\n",
    "# Below shown is one way of simple string parsing\n",
    "num_correct_answers = len([1 for q,a in zip(filtered_questions, filtered_answers) if a is not None and q['answer'][0] == a['answer']])\n",
    "\n",
    "a_score = num_correct_answers*100/(N+1e-9)\n",
    "q_score = (N-num_correct_answers)*100/(N+1e-9)\n",
    "# Announce the scores\n",
    "print(f\"Number of questions: {N}\")\n",
    "print(f\"Number of correct answers: {num_correct_answers}\")\n",
    "print(\"Scores:\")\n",
    "print(f\"Team B: A-agent score: {a_score:.2f}\")\n",
    "print(f\"Team A: Q-agent score: {q_score:.2f}\")\n",
    "print(f\"Innings 1 winner: {'Team A' if q_score > a_score else 'Team B' if q_score < a_score else 'Draw'}\")\n",
    "# DRAW case is not HANDLED now"
   ]
  },
  {
   "cell_type": "code",
   "execution_count": 52,
   "id": "390fca1d-fd45-4d25-a06a-b909edaf8bbb",
   "metadata": {},
   "outputs": [
    {
     "data": {
      "text/html": [],
      "text/plain": [
       "<IPython.core.display.HTML object>"
      ]
     },
     "metadata": {},
     "output_type": "display_data"
    },
    {
     "data": {
      "text/html": [
       " View run <strong style=\"color:#cdcd00\">dulcet-feather-13</strong> at: <a href='https://wandb.ai/nshravanreddy6-freelancer/my-awesome-project/runs/d496os3r' target=\"_blank\">https://wandb.ai/nshravanreddy6-freelancer/my-awesome-project/runs/d496os3r</a><br> View project at: <a href='https://wandb.ai/nshravanreddy6-freelancer/my-awesome-project' target=\"_blank\">https://wandb.ai/nshravanreddy6-freelancer/my-awesome-project</a><br>Synced 5 W&B file(s), 0 media file(s), 0 artifact file(s) and 0 other file(s)"
      ],
      "text/plain": [
       "<IPython.core.display.HTML object>"
      ]
     },
     "metadata": {},
     "output_type": "display_data"
    },
    {
     "data": {
      "text/html": [
       "Find logs at: <code>./wandb/run-20250720_054747-d496os3r/logs</code>"
      ],
      "text/plain": [
       "<IPython.core.display.HTML object>"
      ]
     },
     "metadata": {},
     "output_type": "display_data"
    }
   ],
   "source": [
    "wandb.finish()"
   ]
  },
  {
   "cell_type": "code",
   "execution_count": 53,
   "id": "14acf744-114f-4082-9d79-6c95aa778cc3",
   "metadata": {},
   "outputs": [
    {
     "name": "stdout",
     "output_type": "stream",
     "text": [
      "Find logs at: /jupyter-tutorial/AAIPL_134_199_198_15/wandb/debug-cli.root.log\n",
      "Skipping directory: /jupyter-tutorial/AAIPL_134_199_198_15/wandb\n"
     ]
    }
   ],
   "source": [
    "!wandb sync wandb\n"
   ]
  },
  {
   "cell_type": "code",
   "execution_count": null,
   "id": "5959b066-8c27-4ad7-9af4-4eaae616c37a",
   "metadata": {},
   "outputs": [],
   "source": []
  }
 ],
 "metadata": {
  "kernelspec": {
   "display_name": "Python 3 (ipykernel)",
   "language": "python",
   "name": "python3"
  },
  "language_info": {
   "codemirror_mode": {
    "name": "ipython",
    "version": 3
   },
   "file_extension": ".py",
   "mimetype": "text/x-python",
   "name": "python",
   "nbconvert_exporter": "python",
   "pygments_lexer": "ipython3",
   "version": "3.12.10"
  }
 },
 "nbformat": 4,
 "nbformat_minor": 5
}
