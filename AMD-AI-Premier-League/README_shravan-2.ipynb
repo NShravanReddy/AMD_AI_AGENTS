{
 "cells": [
  {
   "cell_type": "markdown",
   "id": "480066b8",
   "metadata": {},
   "source": [
    "<h1 align='center'>Welcome to the AMD AI Premier League (AAIPL)!</h1>\n"
   ]
  },
  {
   "cell_type": "markdown",
   "id": "e3ea12fc",
   "metadata": {},
   "source": [
    "#<!-- <img src=\"./assets/aaipl.png\"> -->\n",
    "#<img src=\"./assets/AMDAAIPL.png\">"
   ]
  },
  {
   "cell_type": "markdown",
   "id": "09b4b3fe",
   "metadata": {},
   "source": [
    "\n",
    "---\n",
    "## Task:\n",
    "Here you will be building:\n",
    "1.  A question agent or Q-agent (e.g., [question_model.py](./agents/question_model.py) & [question_agent.py](./agents/question_agent.py)) that will ask some $N$ puzzle-based questions based on some given [topics](./assets/topics.json). *Note your question agent should output questions in the format specified in [sample_question.json](./assets/sample_question.json)*.\n",
    "2.  Also, an answer agent or A-agent (e.g., [answer_model.py](./agents/answer_model.py) & [answer_agent.py](./agents/answer_agent.py)) that answer questions asked from question agent. Here too, the format of the output should follow as specified in [sample_answer.json](./assets/sample_answer.json) file.\n",
    "\n",
    "---\n"
   ]
  },
  {
   "cell_type": "markdown",
   "id": "5ed3cfa0",
   "metadata": {
    "jp-MarkdownHeadingCollapsed": true
   },
   "source": [
    "## Instructions\n",
    "\n",
    "1.  How to initiate your work station?\n",
    "    -   Type `http://xxx.xxx.xxx.xxx:8080` link (in *Chrome*), where `xxx.xxx.xxx.xxx` is the 12 (or 11) digit IP shared with each team. Hiting this URL, will open up a Jupyter lab page. Enter the token as `amdhack` (same for all).\n",
    "    -   Upon landing into Jupyter Lab page, on left side (i.e., folders), you will see `AAIPL/`, `hf_models/`. All this will be inside `/jupyter-tutorial` directory.\n",
    "    -   Within `hf_models/` there are some base checkpoints which will be used for question and answer agent creation. For both, Q-agent and A-agent, we are using `Qwen3-4B` (with `enable_thinking=False` to avoid thinking tokens) as base model.\n",
    "    -   Note that inside `AAIPL/`, there is a `tutorial` folder which consists of python scripts and `.ipynb` file demonstrating how to do *SFT*, *GRPO*, and *Prompt-tuning*. You are encouraged to, of course, improve/edit upon this (BYOC). No need to stick with this strictly.\n",
    "2.  You got 24 hrs to bake this cake!\n",
    "3.  All the BEST!"
   ]
  },
  {
   "cell_type": "markdown",
   "id": "3cfd0427",
   "metadata": {},
   "source": [
    "## 📚 Table of Contents:\n",
    "- 🏁 [Welcome to the AMD AI Premier League (AAIPL)!](#welcome-to-the-amd-ai-premier-league-aaipl)\n",
    "- 📝 [Task](#task)\n",
    "- ⚙️ [Instructions](#instructions)\n",
    "- 🏏 [Tournament Overview](#tournament-overview)\n",
    "- 📋 [Guidelines](#guidelines)\n",
    "    - [Naming Conventions](#naming-conventions)\n",
    "    - [Format Overview](#format-overview)\n",
    "- 🛠️ [What you will submit?](#️what-you-will-submit)\n",
    "- ⚠️ [RESTRICTIONS](#restrictions)\n",
    "    - [ALLOWED](#allowed)\n",
    "- 📂 [Directory & Files overview](#directory--files-overview)\n",
    "- 🚀 [Env Setup](#env-setup)\n",
    "- 🎮 [Let the GAME begin!!!](#let-the-game-begin)\n",
    "    - 🤔 [Q-Agent](#q-agent)\n",
    "        - ✅ [Basic format-checks for questions from Q-agent](#basic-format-checks-for-questions-from-q-agent)\n",
    "    - 🤖 [A-agent](#a-agent)\n",
    "        - ✅ [Basic format-checks for answers from A-agent](#basic-format-checks-for-answers-from-a-agent)\n",
    "- 🏅 [Evaluation](#evaluation)\n",
    "    - 📊 [Scoring Criteria](#scoring-criteria)\n",
    "- ⏱ [Time Limit](#time-limit)\n",
    "<!-- - 🏆 [LeaderBoard UI/UX](#leaderboard-uiux) -->"
   ]
  },
  {
   "cell_type": "markdown",
   "id": "9386cb37",
   "metadata": {
    "jp-MarkdownHeadingCollapsed": true
   },
   "source": [
    "## Tournament Overview\n",
    "<!-- 🏏  -->\n",
    "1.  All matches in this tournament will be **1v1** knockout format where two teams, Team-A vs Team-B, will compete with their Q-agent (question agent) and A-agent (answer agent). For simplicity think Q-agent to be bowler and A-agent to be batsman.\n",
    "2.  Like a cricket match, this would also have two innings:\n",
    "\n",
    "    -   1st inning:\n",
    "        *   $N$ Question from the Q-agent (Team-A) and their corresponding $N$ answers from the A-agent (Team-B).\n",
    "        *   Q-agent score (Team-A): Say, $40$\n",
    "        *   A-agent score (Team-B): $60$\n",
    "\n",
    "    -   2nd inning:\n",
    "        *   $N$ Question from the Q-agent (Team-B) and their respective $N$ responses from the A-agent (Team-A).\n",
    "        *   Q-agent score (Team-B): Say, $70$\n",
    "        *   A-agent score (Team-A): $30$\n",
    "    -   Final Score:\n",
    "        *   Team-A score $=$ 1st inning Q-agent score $+$ 2nd inning A-agent score $= 40 + 30 = 70$\n",
    "        *   Team-B score $=$ 1st inning Q-agent score $+$ 2nd inning A-agent score $= 60 + 70 = 130$\n",
    "\n",
    "    -   Winner: **Team-B** with a score of $130$.\n",
    "    -   For more info on <b> how SCORING is done</b>, kindly refer to this [cell](#scoring-criteria).\n",
    "\n",
    "<u>NOTE</u>: In case of **TIE**, we will use some (closed) benchmark questions, we will evaluate your answer agents (A-agent) and rank the teams accordingly.\n",
    "\n",
    "**Whichever Team's Q-agent fails to generate atleast $50\\%$ of `num_questions` (where `num_questions` ranges from $2$ to $1000+$) of the questions correctly (as per [format-checking](#format-overview)) will be automatically disqualified.**<br>\n",
    "<u>Note</u>: Here $N$ denotes the number of filtered / format-correct questions.\n"
   ]
  },
  {
   "cell_type": "markdown",
   "id": "2deab9cf",
   "metadata": {},
   "source": [
    "\n",
    "## Guidelines:\n",
    "<!-- 📋  -->\n",
    "#### Naming Conventions:\n",
    "<ol type=\"a\">\n",
    "    <li>Rename this whole folder as <code>AAIPL_your_IP</code> if not done already. This <code>your_IP</code> will be <code>_</code> separated IPv4 address, no special-characters allowed. Follow the below <a href=\"#what-you-will-submit\">cell</a> for more info</li>\n",
    "    <li> For Q-agent:\n",
    "        <ol type=\"i\">\n",
    "            <li>For Q-agent wrapper <code>.py</code> file: <code>agents/question_agent.py</code>.</li>\n",
    "            <li>For Q-agent model <code>.py</code> file: <code>agents/question_model.py</code>.</li>\n",
    "        </ol>\n",
    "    </li>\n",
    "    <li> For A-agent:\n",
    "        <ol type=\"i\">\n",
    "            <li>For A-agent wrapper <code>.py</code> file: <code>agents/answer_agent.py</code>.</li>\n",
    "            <li>For A-agent model <code>.py</code> file: <code>agents/answer_model.py</code>.</li>\n",
    "        </ol>\n",
    "    </li>\n",
    "</ol>\n",
    "\n",
    "\n",
    "#### Format Overview\n",
    "-   <u>Q-Agent</u>: Given a topic, the Q-agent should generate questions in the specified JSON format:\n",
    "    ```json\n",
    "    {\n",
    "    \"topic\": \"<Topic of the Question>\",\n",
    "    \"question\": \"<full question text>\",\n",
    "    \"choices\": [\n",
    "        \"A) <choice A text>\",\n",
    "        \"B) <choice B text>\",\n",
    "        \"C) <choice C text>\",\n",
    "        \"D) <choice D text>\"\n",
    "    ],\n",
    "    \"answer\": \"<correct choice letter only>\",\n",
    "    \"explanation\": \"brief explanation within 100 words for why the answer is correct\"\n",
    "    }\n",
    "    ```\n",
    "    from which we will extract **ONLY** the **\"Question\"** and **\"Choices\"** keys and feed it to the answer agent. The **\"Topic\"**, **\"Question\"**, **\"Choices\"**, and **\"Answer\"** will be verified for correctness from an Oracle.\n",
    "-   <u>A-agent</u>: Given a Question and Choices, A-agent should produce answer in the format of:\n",
    "    ```json\n",
    "    {\n",
    "        \"answer\": \"<correct choice letter only>\",\n",
    "        \"reasoning\": \"brief reasoning within 100 words for why the answer is correct\"\n",
    "    }\n",
    "    ```\n",
    "    where we will extract ONLY the **\"Answer\"** key and compare it with **\"Answer\"** from the opponent's question.\n",
    "-   *<u>Remarks</u>: Having explanation and reasoning is a plus. Not having them doesn't disqualify the question or answer being correct.*\n",
    "    \n",
    "**<u>Note</u>**: *We will only consider those responses from the Q-agent and the A-agent which follow the above format.*\n"
   ]
  },
  {
   "cell_type": "markdown",
   "id": "b858a803",
   "metadata": {},
   "source": [
    "## What you will submit?\n",
    "<!-- 🛠️  -->\n",
    "You need to submit your code which should contain these main files:\n",
    "\n",
    "<!-- *   `q_agent.py` (with one arg as `num_quetions: int`) - On running with `num_questions=20` should generate 20 questions in the required format as above.\n",
    "*   `a_agent.py` (with two args as `Question: str` and `Choices: List[str]`) - On running with the above two args should produce the o/p in the required format as above. -->\n",
    "<!-- 1. Submit the whole folder AAIPL with its name modified to `AAIP_<your_team_name_in_alphanumeric>`. No special characters, e.g., `#`, `@`, `!`, etc. are allowed in the team name. \n",
    "   - Example: `AAIP_Team1` or `AAIP_Team23` or `AAIP_Win47` are valid, but `AAIP_Team#1` or `AAIP_Team@1` are not.\n",
    "2. Also put Checkpoints (e.g., `model.safetensors` or `.pt` or `.pth`) file (situated at e.g., `ckpts/`) - given that they get successfully loaded automatically, when we execute inference as done above for both, question and answer agent.\n",
    "3. `requirements.txt` - This file lists all the extra dependencies required to run your agents apart from `default_requirements.txt`. -->\n",
    "\n",
    "1. Rename the `AAIPL` folder to `AAIPL_<your_IP_address>` if not done already. NO special characters, e.g., `#`, `@`, `!`, etc. are allowed except underscore, `_`, in the team name. \n",
    "   - Example: `AAIPL_192_154_162_143` or `AAIPL_192_154_182_14` are valid, but `AAIPL_Team#1` or `AAIPL_Team@1` are not. \n",
    "1. **No need to upload anything to anywhere, we'll collect your codes at sharp 2:00 PM - 13th July, 2025 from your Jupyter Server.**\n",
    "2. <span style=\"color: red;\">Don't forget to add your PPT (in `solution.pdf` format) summarizing the techniques you adopted to execute this task better, relative to this file (i.e., just inside `AAIPL_xxx_xxx_xxx_xxx` folder).</span>\n",
    "3. **ENSURE model checkpoint(s) (e.g., `model.safetensors` or `.pt` or `.pth`) is(are) loading and expected files are getting generated from Q-agent and A-agent, when inference is done. And put all your checkpoints in the `ckpt/` folder, located just inside `AAIPL_<your_IP>/`.**\n",
    "4. **<u>NOTE</u>: You are not required to generate any `.json` for us, we'll do that for you during evaluation setting a specific value to $N$.**\n",
    "\n",
    "<u><span style=\"color: blue\">NOTE</span></u>: These files will be checked for any hardcoding, RAG, or other unfair practices.<br>\n",
    "<u><span style=\"color: red\">REMARKS / CAUTION</span></u>: A-agent is equally important as Q-agent. So, please do focus on both."
   ]
  },
  {
   "cell_type": "markdown",
   "id": "fe1cc2ce",
   "metadata": {},
   "source": [
    "## RESTRICTIONS\n",
    "<!-- ⚠️ -->\n",
    "\n",
    "1.  Kindly don't use any sort of ***RAG (Retrieval Augmented Generation)*** techniques. If found, the submission won't be considered for further evaluations.\n",
    "2.  **Usage of base models other than what given for Question (i.e., `Qwen3-4B`) and Answer (i.e., again `Qwen3-4B`) agent, will lead to disqualification.**\n",
    "3.  Do follow the guidelines as mentioned in [What you will submit?](#what-you-will-submit) section.\n",
    "4.  **<span style=\"color: red\">NO</span> LAST Minute Submission**: The submission deadline is strict. Upload link will expires just one minute before the deadline. So, please make sure you submit your code well in advance.\n",
    "5.  Any **<span style=\"color: red\">HACKEY</span>** approach or **hard-coding** will lead to disqualification.\n",
    "    -   E.g., Any hard-coded *adversarial attacks* that make A-agent hallucinates.\n",
    "6.  **Language Restriction**: ONLY English language is allowed for both Q-agent and A-agent. Any other language will lead to disqualification.\n",
    "7.  Strictly stay within the `max_tokens` limit as specified in `agen.yaml` & `qgen.yaml`. While other parameters can be changed as per your convenience.\n",
    "8.  $N$ should be passed as an argument to `question_agent.py`. We'll test for $N=1$. `--num_questions` is the argument.\n",
    "9.  Ensure **$40\\%$** of the questions you generate gets filtered into `questions.json`.\n",
    "\n",
    "\n",
    "### ALLOWED\n",
    "<!-- ✅  -->\n",
    "1.  Participants are encouraged to modify the code scripts (for any sort of training, data construction, inference, such that the above constraints are not overruled).\n",
    "2.  If you want to add `WANDB_API_KEY` for `wandb` logging do it in add `WANDB_API_KEY=xxxxxxx` before `python -m <script>.py` command. E.g., `!WANDB_API_KEY=xxxxxxx python -m agents.question_agent \\`\n"
   ]
  },
  {
   "cell_type": "markdown",
   "id": "f0f34ed1",
   "metadata": {},
   "source": [
    "## Token & Time Limit:\n",
    "<!-- ⏱  -->\n",
    "*   Maximum length (e.g., `max_token`) limit for your model response should be within following tokens.\n",
    "    *   For question-agent (Q-Agent) it is $100$ tokens cumulatively for the content corresponding to [`topic`, `question`, `choices`, and `answer`]. This excludes token count for double quotes as well as string length for topic, question, choices, and answer string it\n",
    "    *   And the rest is for explanation i.e., $1024-100 = 924$. But within time limit\n",
    "*   `ckpt` is the folder 📂 which you will place under `AAIPL_XXX_XXX_XXX_XXX`. While `checkpoints` folder 📂 inside `tutorial/` is meant for tutorial.\n",
    "*   Each question should be generated under `10 secs`. Overall time for 100 questions should be no more than `1000 secs` ~ `17 mins`.\n",
    "*   Each answer should be generated under `6 secs`. Overall time for 100 answers should be no more than `600 secs` ~ `10 mins`.\n",
    "*   *Note: We will only consider those questions' and answers' JSON file that remain under the time limit.*"
   ]
  },
  {
   "cell_type": "markdown",
   "id": "7b562cb4",
   "metadata": {},
   "source": [
    "### Directory & Files overview\n",
    "<!-- 📂  -->\n",
    "```\n",
    ".\n",
    "├── agents\n",
    "│   ├── question_model.py\n",
    "│   ├── question_agent.py\n",
    "│   ├── answer_model.py\n",
    "│   └── answer_agent.py\n",
    "├── tutorial # guide on how to SFT and GRPO\n",
    "│   ├── checkpoints #\n",
    "│   │     ├── sft # save sft checkpoints here while in tutorial\n",
    "│   │     ├── grpo # save grpo checkpoints here while in tutorial\n",
    "│   │     └── demo\n",
    "│   │         ├── sft # pre-trained sft (LoRA) ckpt\n",
    "│   │         └── grpo # same as above but for GRPO\n",
    "│   ├── tutorial.ipynb # guide on how to SFT and GRPO\n",
    "│   ├── trainer.py # sample training for Gemma with LoRA (SFT) and GRPO\n",
    "│   ├── answer_model2.py # inference script for the same. Copy it to agents/. for using this as question generator\n",
    "│   ├── formatted_questions_array.json # Sample question data for doing SFT and GRPO\n",
    "│   └── test_questions_array.json # Sample test question to evaluate the SFTed or GRPOed model\n",
    "├── assets\n",
    "│   ├── topics_example.json # example questions w.r.t each topic\n",
    "│   ├── topics.json # Topics on which we require to generate questions\n",
    "│   ├── sample_question.json # File specifying expected format of questions generated\n",
    "│   ├── sample_answer.json # Expected format of answers generated\n",
    "│   └── AMDAAIPL.png # Teaser image for the AAIPL\n",
    "├── utils\n",
    "│   └── build_prompt.py # prompt-tuning scripts\n",
    "├── README.ipynb\n",
    "├── outputs # That will consists of outputs from question_agent.py and answer_agent.py\n",
    "├── ckpt # That will consists of checkpoints for question_agent.py and answer_agent.py if any training is done.\n",
    "├── qgen.yaml # Generation specific parameters for Q-agent\n",
    "├── agen.yaml # Generation specific parameters for A-agent\n",
    "└── default_requirements.txt # Packages required\n",
    "```\n",
    "   "
   ]
  },
  {
   "cell_type": "markdown",
   "id": "f4fc970e",
   "metadata": {},
   "source": [
    "### Env Setup\n",
    "<!-- 🚀 -->"
   ]
  },
  {
   "cell_type": "code",
   "execution_count": 1,
   "id": "4308a46f",
   "metadata": {
    "scrolled": true
   },
   "outputs": [
    {
     "name": "stdout",
     "output_type": "stream",
     "text": [
      "Requirement already satisfied: trl==0.19.0 in /usr/local/lib/python3.12/dist-packages (from -r default_requirements.txt (line 1)) (0.19.0)\n",
      "Requirement already satisfied: wandb==0.20.1 in /usr/local/lib/python3.12/dist-packages (from -r default_requirements.txt (line 2)) (0.20.1)\n",
      "Requirement already satisfied: ipdb==0.13.13 in /usr/local/lib/python3.12/dist-packages (from -r default_requirements.txt (line 3)) (0.13.13)\n",
      "Requirement already satisfied: transformers==4.51.3 in /usr/local/lib/python3.12/dist-packages (from -r default_requirements.txt (line 4)) (4.51.3)\n",
      "Requirement already satisfied: unsloth in /usr/local/lib/python3.12/dist-packages (from -r default_requirements.txt (line 5)) (2025.7.3)\n",
      "Requirement already satisfied: accelerate>=1.4.0 in /usr/local/lib/python3.12/dist-packages (from trl==0.19.0->-r default_requirements.txt (line 1)) (1.7.0)\n",
      "Requirement already satisfied: datasets>=3.0.0 in /usr/local/lib/python3.12/dist-packages (from trl==0.19.0->-r default_requirements.txt (line 1)) (3.6.0)\n",
      "Requirement already satisfied: click!=8.0.0,>=7.1 in /usr/local/lib/python3.12/dist-packages (from wandb==0.20.1->-r default_requirements.txt (line 2)) (8.1.8)\n",
      "Requirement already satisfied: gitpython!=3.1.29,>=1.0.0 in /usr/local/lib/python3.12/dist-packages (from wandb==0.20.1->-r default_requirements.txt (line 2)) (3.1.44)\n",
      "Requirement already satisfied: packaging in /usr/local/lib/python3.12/dist-packages (from wandb==0.20.1->-r default_requirements.txt (line 2)) (24.2)\n",
      "Requirement already satisfied: platformdirs in /usr/local/lib/python3.12/dist-packages (from wandb==0.20.1->-r default_requirements.txt (line 2)) (4.3.8)\n",
      "Requirement already satisfied: protobuf!=4.21.0,!=5.28.0,<7,>=3.19.0 in /usr/local/lib/python3.12/dist-packages (from wandb==0.20.1->-r default_requirements.txt (line 2)) (3.20.3)\n",
      "Requirement already satisfied: psutil>=5.0.0 in /usr/local/lib/python3.12/dist-packages (from wandb==0.20.1->-r default_requirements.txt (line 2)) (7.0.0)\n",
      "Requirement already satisfied: pydantic<3 in /usr/local/lib/python3.12/dist-packages (from wandb==0.20.1->-r default_requirements.txt (line 2)) (2.11.4)\n",
      "Requirement already satisfied: pyyaml in /usr/local/lib/python3.12/dist-packages (from wandb==0.20.1->-r default_requirements.txt (line 2)) (6.0.2)\n",
      "Requirement already satisfied: requests<3,>=2.0.0 in /usr/local/lib/python3.12/dist-packages (from wandb==0.20.1->-r default_requirements.txt (line 2)) (2.32.3)\n",
      "Requirement already satisfied: sentry-sdk>=2.0.0 in /usr/local/lib/python3.12/dist-packages (from wandb==0.20.1->-r default_requirements.txt (line 2)) (2.33.0)\n",
      "Requirement already satisfied: setproctitle in /usr/local/lib/python3.12/dist-packages (from wandb==0.20.1->-r default_requirements.txt (line 2)) (1.3.6)\n",
      "Requirement already satisfied: typing-extensions<5,>=4.8 in /usr/local/lib/python3.12/dist-packages (from wandb==0.20.1->-r default_requirements.txt (line 2)) (4.14.1)\n",
      "Requirement already satisfied: ipython>=7.31.1 in /usr/local/lib/python3.12/dist-packages (from ipdb==0.13.13->-r default_requirements.txt (line 3)) (9.3.0)\n",
      "Requirement already satisfied: decorator in /usr/local/lib/python3.12/dist-packages (from ipdb==0.13.13->-r default_requirements.txt (line 3)) (5.2.1)\n",
      "Requirement already satisfied: filelock in /usr/local/lib/python3.12/dist-packages (from transformers==4.51.3->-r default_requirements.txt (line 4)) (3.18.0)\n",
      "Requirement already satisfied: huggingface-hub<1.0,>=0.30.0 in /usr/local/lib/python3.12/dist-packages (from transformers==4.51.3->-r default_requirements.txt (line 4)) (0.31.4)\n",
      "Requirement already satisfied: numpy>=1.17 in /usr/local/lib/python3.12/dist-packages (from transformers==4.51.3->-r default_requirements.txt (line 4)) (1.26.4)\n",
      "Requirement already satisfied: regex!=2019.12.17 in /usr/local/lib/python3.12/dist-packages (from transformers==4.51.3->-r default_requirements.txt (line 4)) (2024.11.6)\n",
      "Requirement already satisfied: tokenizers<0.22,>=0.21 in /usr/local/lib/python3.12/dist-packages (from transformers==4.51.3->-r default_requirements.txt (line 4)) (0.21.1)\n",
      "Requirement already satisfied: safetensors>=0.4.3 in /usr/local/lib/python3.12/dist-packages (from transformers==4.51.3->-r default_requirements.txt (line 4)) (0.5.3)\n",
      "Requirement already satisfied: tqdm>=4.27 in /usr/local/lib/python3.12/dist-packages (from transformers==4.51.3->-r default_requirements.txt (line 4)) (4.67.1)\n",
      "Requirement already satisfied: fsspec>=2023.5.0 in /usr/local/lib/python3.12/dist-packages (from huggingface-hub<1.0,>=0.30.0->transformers==4.51.3->-r default_requirements.txt (line 4)) (2025.3.0)\n",
      "Requirement already satisfied: annotated-types>=0.6.0 in /usr/local/lib/python3.12/dist-packages (from pydantic<3->wandb==0.20.1->-r default_requirements.txt (line 2)) (0.7.0)\n",
      "Requirement already satisfied: pydantic-core==2.33.2 in /usr/local/lib/python3.12/dist-packages (from pydantic<3->wandb==0.20.1->-r default_requirements.txt (line 2)) (2.33.2)\n",
      "Requirement already satisfied: typing-inspection>=0.4.0 in /usr/local/lib/python3.12/dist-packages (from pydantic<3->wandb==0.20.1->-r default_requirements.txt (line 2)) (0.4.0)\n",
      "Requirement already satisfied: charset-normalizer<4,>=2 in /usr/local/lib/python3.12/dist-packages (from requests<3,>=2.0.0->wandb==0.20.1->-r default_requirements.txt (line 2)) (3.4.2)\n",
      "Requirement already satisfied: idna<4,>=2.5 in /usr/local/lib/python3.12/dist-packages (from requests<3,>=2.0.0->wandb==0.20.1->-r default_requirements.txt (line 2)) (3.10)\n",
      "Requirement already satisfied: urllib3<3,>=1.21.1 in /usr/local/lib/python3.12/dist-packages (from requests<3,>=2.0.0->wandb==0.20.1->-r default_requirements.txt (line 2)) (2.4.0)\n",
      "Requirement already satisfied: certifi>=2017.4.17 in /usr/local/lib/python3.12/dist-packages (from requests<3,>=2.0.0->wandb==0.20.1->-r default_requirements.txt (line 2)) (2025.4.26)\n",
      "Requirement already satisfied: unsloth_zoo>=2025.7.4 in /usr/local/lib/python3.12/dist-packages (from unsloth->-r default_requirements.txt (line 5)) (2025.7.4)\n",
      "Requirement already satisfied: torch>=2.4.0 in /usr/local/lib/python3.12/dist-packages (from unsloth->-r default_requirements.txt (line 5)) (2.7.1)\n",
      "Requirement already satisfied: xformers>=0.0.27.post2 in /usr/local/lib/python3.12/dist-packages (from unsloth->-r default_requirements.txt (line 5)) (0.0.31.post1)\n",
      "Requirement already satisfied: bitsandbytes in /usr/local/lib/python3.12/dist-packages (from unsloth->-r default_requirements.txt (line 5)) (0.46.1)\n",
      "Requirement already satisfied: triton>=3.0.0 in /usr/local/lib/python3.12/dist-packages (from unsloth->-r default_requirements.txt (line 5)) (3.3.1)\n",
      "Requirement already satisfied: tyro in /usr/local/lib/python3.12/dist-packages (from unsloth->-r default_requirements.txt (line 5)) (0.9.26)\n",
      "Requirement already satisfied: sentencepiece>=0.2.0 in /usr/local/lib/python3.12/dist-packages (from unsloth->-r default_requirements.txt (line 5)) (0.2.0)\n",
      "Requirement already satisfied: wheel>=0.42.0 in /usr/local/lib/python3.12/dist-packages (from unsloth->-r default_requirements.txt (line 5)) (0.45.1)\n",
      "Requirement already satisfied: peft!=0.11.0,>=0.7.1 in /usr/local/lib/python3.12/dist-packages (from unsloth->-r default_requirements.txt (line 5)) (0.15.2)\n",
      "Requirement already satisfied: hf_transfer in /usr/local/lib/python3.12/dist-packages (from unsloth->-r default_requirements.txt (line 5)) (0.1.9)\n",
      "Requirement already satisfied: diffusers in /usr/local/lib/python3.12/dist-packages (from unsloth->-r default_requirements.txt (line 5)) (0.34.0)\n",
      "Requirement already satisfied: torchvision in /usr/local/lib/python3.12/dist-packages (from unsloth->-r default_requirements.txt (line 5)) (0.21.0+7af6987)\n",
      "Requirement already satisfied: pyarrow>=15.0.0 in /usr/local/lib/python3.12/dist-packages (from datasets>=3.0.0->trl==0.19.0->-r default_requirements.txt (line 1)) (20.0.0)\n",
      "Requirement already satisfied: dill<0.3.9,>=0.3.0 in /usr/local/lib/python3.12/dist-packages (from datasets>=3.0.0->trl==0.19.0->-r default_requirements.txt (line 1)) (0.3.8)\n",
      "Requirement already satisfied: pandas in /usr/local/lib/python3.12/dist-packages (from datasets>=3.0.0->trl==0.19.0->-r default_requirements.txt (line 1)) (2.2.3)\n",
      "Requirement already satisfied: xxhash in /usr/local/lib/python3.12/dist-packages (from datasets>=3.0.0->trl==0.19.0->-r default_requirements.txt (line 1)) (3.5.0)\n",
      "Requirement already satisfied: multiprocess<0.70.17 in /usr/local/lib/python3.12/dist-packages (from datasets>=3.0.0->trl==0.19.0->-r default_requirements.txt (line 1)) (0.70.16)\n",
      "Requirement already satisfied: aiohttp!=4.0.0a0,!=4.0.0a1 in /usr/local/lib/python3.12/dist-packages (from fsspec[http]<=2025.3.0,>=2023.1.0->datasets>=3.0.0->trl==0.19.0->-r default_requirements.txt (line 1)) (3.11.18)\n",
      "Requirement already satisfied: aiohappyeyeballs>=2.3.0 in /usr/local/lib/python3.12/dist-packages (from aiohttp!=4.0.0a0,!=4.0.0a1->fsspec[http]<=2025.3.0,>=2023.1.0->datasets>=3.0.0->trl==0.19.0->-r default_requirements.txt (line 1)) (2.6.1)\n",
      "Requirement already satisfied: aiosignal>=1.1.2 in /usr/local/lib/python3.12/dist-packages (from aiohttp!=4.0.0a0,!=4.0.0a1->fsspec[http]<=2025.3.0,>=2023.1.0->datasets>=3.0.0->trl==0.19.0->-r default_requirements.txt (line 1)) (1.3.2)\n",
      "Requirement already satisfied: attrs>=17.3.0 in /usr/local/lib/python3.12/dist-packages (from aiohttp!=4.0.0a0,!=4.0.0a1->fsspec[http]<=2025.3.0,>=2023.1.0->datasets>=3.0.0->trl==0.19.0->-r default_requirements.txt (line 1)) (25.3.0)\n",
      "Requirement already satisfied: frozenlist>=1.1.1 in /usr/local/lib/python3.12/dist-packages (from aiohttp!=4.0.0a0,!=4.0.0a1->fsspec[http]<=2025.3.0,>=2023.1.0->datasets>=3.0.0->trl==0.19.0->-r default_requirements.txt (line 1)) (1.6.0)\n",
      "Requirement already satisfied: multidict<7.0,>=4.5 in /usr/local/lib/python3.12/dist-packages (from aiohttp!=4.0.0a0,!=4.0.0a1->fsspec[http]<=2025.3.0,>=2023.1.0->datasets>=3.0.0->trl==0.19.0->-r default_requirements.txt (line 1)) (6.4.4)\n",
      "Requirement already satisfied: propcache>=0.2.0 in /usr/local/lib/python3.12/dist-packages (from aiohttp!=4.0.0a0,!=4.0.0a1->fsspec[http]<=2025.3.0,>=2023.1.0->datasets>=3.0.0->trl==0.19.0->-r default_requirements.txt (line 1)) (0.3.1)\n",
      "Requirement already satisfied: yarl<2.0,>=1.17.0 in /usr/local/lib/python3.12/dist-packages (from aiohttp!=4.0.0a0,!=4.0.0a1->fsspec[http]<=2025.3.0,>=2023.1.0->datasets>=3.0.0->trl==0.19.0->-r default_requirements.txt (line 1)) (1.20.0)\n",
      "Requirement already satisfied: gitdb<5,>=4.0.1 in /usr/local/lib/python3.12/dist-packages (from gitpython!=3.1.29,>=1.0.0->wandb==0.20.1->-r default_requirements.txt (line 2)) (4.0.12)\n",
      "Requirement already satisfied: smmap<6,>=3.0.1 in /usr/local/lib/python3.12/dist-packages (from gitdb<5,>=4.0.1->gitpython!=3.1.29,>=1.0.0->wandb==0.20.1->-r default_requirements.txt (line 2)) (5.0.2)\n",
      "Requirement already satisfied: ipython-pygments-lexers in /usr/local/lib/python3.12/dist-packages (from ipython>=7.31.1->ipdb==0.13.13->-r default_requirements.txt (line 3)) (1.1.1)\n",
      "Requirement already satisfied: jedi>=0.16 in /usr/local/lib/python3.12/dist-packages (from ipython>=7.31.1->ipdb==0.13.13->-r default_requirements.txt (line 3)) (0.19.2)\n",
      "Requirement already satisfied: matplotlib-inline in /usr/local/lib/python3.12/dist-packages (from ipython>=7.31.1->ipdb==0.13.13->-r default_requirements.txt (line 3)) (0.1.7)\n",
      "Requirement already satisfied: pexpect>4.3 in /usr/local/lib/python3.12/dist-packages (from ipython>=7.31.1->ipdb==0.13.13->-r default_requirements.txt (line 3)) (4.9.0)\n",
      "Requirement already satisfied: prompt_toolkit<3.1.0,>=3.0.41 in /usr/local/lib/python3.12/dist-packages (from ipython>=7.31.1->ipdb==0.13.13->-r default_requirements.txt (line 3)) (3.0.51)\n",
      "Requirement already satisfied: pygments>=2.4.0 in /usr/local/lib/python3.12/dist-packages (from ipython>=7.31.1->ipdb==0.13.13->-r default_requirements.txt (line 3)) (2.19.1)\n",
      "Requirement already satisfied: stack_data in /usr/local/lib/python3.12/dist-packages (from ipython>=7.31.1->ipdb==0.13.13->-r default_requirements.txt (line 3)) (0.6.3)\n",
      "Requirement already satisfied: traitlets>=5.13.0 in /usr/local/lib/python3.12/dist-packages (from ipython>=7.31.1->ipdb==0.13.13->-r default_requirements.txt (line 3)) (5.14.3)\n",
      "Requirement already satisfied: wcwidth in /usr/local/lib/python3.12/dist-packages (from prompt_toolkit<3.1.0,>=3.0.41->ipython>=7.31.1->ipdb==0.13.13->-r default_requirements.txt (line 3)) (0.2.13)\n",
      "Requirement already satisfied: parso<0.9.0,>=0.8.4 in /usr/local/lib/python3.12/dist-packages (from jedi>=0.16->ipython>=7.31.1->ipdb==0.13.13->-r default_requirements.txt (line 3)) (0.8.4)\n",
      "Requirement already satisfied: ptyprocess>=0.5 in /usr/local/lib/python3.12/dist-packages (from pexpect>4.3->ipython>=7.31.1->ipdb==0.13.13->-r default_requirements.txt (line 3)) (0.7.0)\n",
      "Requirement already satisfied: setuptools in /usr/local/lib/python3.12/dist-packages (from torch>=2.4.0->unsloth->-r default_requirements.txt (line 5)) (79.0.1)\n",
      "Requirement already satisfied: sympy>=1.13.3 in /usr/local/lib/python3.12/dist-packages (from torch>=2.4.0->unsloth->-r default_requirements.txt (line 5)) (1.14.0)\n",
      "Requirement already satisfied: networkx in /usr/local/lib/python3.12/dist-packages (from torch>=2.4.0->unsloth->-r default_requirements.txt (line 5)) (3.4.2)\n",
      "Requirement already satisfied: jinja2 in /usr/local/lib/python3.12/dist-packages (from torch>=2.4.0->unsloth->-r default_requirements.txt (line 5)) (3.1.6)\n",
      "Requirement already satisfied: nvidia-cuda-nvrtc-cu12==12.6.77 in /usr/local/lib/python3.12/dist-packages (from torch>=2.4.0->unsloth->-r default_requirements.txt (line 5)) (12.6.77)\n",
      "Requirement already satisfied: nvidia-cuda-runtime-cu12==12.6.77 in /usr/local/lib/python3.12/dist-packages (from torch>=2.4.0->unsloth->-r default_requirements.txt (line 5)) (12.6.77)\n",
      "Requirement already satisfied: nvidia-cuda-cupti-cu12==12.6.80 in /usr/local/lib/python3.12/dist-packages (from torch>=2.4.0->unsloth->-r default_requirements.txt (line 5)) (12.6.80)\n",
      "Requirement already satisfied: nvidia-cudnn-cu12==9.5.1.17 in /usr/local/lib/python3.12/dist-packages (from torch>=2.4.0->unsloth->-r default_requirements.txt (line 5)) (9.5.1.17)\n",
      "Requirement already satisfied: nvidia-cublas-cu12==12.6.4.1 in /usr/local/lib/python3.12/dist-packages (from torch>=2.4.0->unsloth->-r default_requirements.txt (line 5)) (12.6.4.1)\n",
      "Requirement already satisfied: nvidia-cufft-cu12==11.3.0.4 in /usr/local/lib/python3.12/dist-packages (from torch>=2.4.0->unsloth->-r default_requirements.txt (line 5)) (11.3.0.4)\n",
      "Requirement already satisfied: nvidia-curand-cu12==10.3.7.77 in /usr/local/lib/python3.12/dist-packages (from torch>=2.4.0->unsloth->-r default_requirements.txt (line 5)) (10.3.7.77)\n",
      "Requirement already satisfied: nvidia-cusolver-cu12==11.7.1.2 in /usr/local/lib/python3.12/dist-packages (from torch>=2.4.0->unsloth->-r default_requirements.txt (line 5)) (11.7.1.2)\n",
      "Requirement already satisfied: nvidia-cusparse-cu12==12.5.4.2 in /usr/local/lib/python3.12/dist-packages (from torch>=2.4.0->unsloth->-r default_requirements.txt (line 5)) (12.5.4.2)\n",
      "Requirement already satisfied: nvidia-cusparselt-cu12==0.6.3 in /usr/local/lib/python3.12/dist-packages (from torch>=2.4.0->unsloth->-r default_requirements.txt (line 5)) (0.6.3)\n",
      "Requirement already satisfied: nvidia-nccl-cu12==2.26.2 in /usr/local/lib/python3.12/dist-packages (from torch>=2.4.0->unsloth->-r default_requirements.txt (line 5)) (2.26.2)\n",
      "Requirement already satisfied: nvidia-nvtx-cu12==12.6.77 in /usr/local/lib/python3.12/dist-packages (from torch>=2.4.0->unsloth->-r default_requirements.txt (line 5)) (12.6.77)\n",
      "Requirement already satisfied: nvidia-nvjitlink-cu12==12.6.85 in /usr/local/lib/python3.12/dist-packages (from torch>=2.4.0->unsloth->-r default_requirements.txt (line 5)) (12.6.85)\n",
      "Requirement already satisfied: nvidia-cufile-cu12==1.11.1.6 in /usr/local/lib/python3.12/dist-packages (from torch>=2.4.0->unsloth->-r default_requirements.txt (line 5)) (1.11.1.6)\n",
      "Requirement already satisfied: mpmath<1.4,>=1.1.0 in /usr/local/lib/python3.12/dist-packages (from sympy>=1.13.3->torch>=2.4.0->unsloth->-r default_requirements.txt (line 5)) (1.3.0)\n",
      "Requirement already satisfied: cut_cross_entropy in /usr/local/lib/python3.12/dist-packages (from unsloth_zoo>=2025.7.4->unsloth->-r default_requirements.txt (line 5)) (25.1.1)\n",
      "Requirement already satisfied: pillow in /usr/local/lib/python3.12/dist-packages (from unsloth_zoo>=2025.7.4->unsloth->-r default_requirements.txt (line 5)) (11.2.1)\n",
      "Requirement already satisfied: msgspec in /usr/local/lib/python3.12/dist-packages (from unsloth_zoo>=2025.7.4->unsloth->-r default_requirements.txt (line 5)) (0.19.0)\n",
      "Requirement already satisfied: importlib_metadata in /usr/local/lib/python3.12/dist-packages (from diffusers->unsloth->-r default_requirements.txt (line 5)) (8.6.1)\n",
      "Requirement already satisfied: zipp>=3.20 in /usr/local/lib/python3.12/dist-packages (from importlib_metadata->diffusers->unsloth->-r default_requirements.txt (line 5)) (3.21.0)\n",
      "Requirement already satisfied: MarkupSafe>=2.0 in /usr/local/lib/python3.12/dist-packages (from jinja2->torch>=2.4.0->unsloth->-r default_requirements.txt (line 5)) (3.0.2)\n",
      "Requirement already satisfied: python-dateutil>=2.8.2 in /usr/local/lib/python3.12/dist-packages (from pandas->datasets>=3.0.0->trl==0.19.0->-r default_requirements.txt (line 1)) (2.9.0.post0)\n",
      "Requirement already satisfied: pytz>=2020.1 in /usr/local/lib/python3.12/dist-packages (from pandas->datasets>=3.0.0->trl==0.19.0->-r default_requirements.txt (line 1)) (2025.2)\n",
      "Requirement already satisfied: tzdata>=2022.7 in /usr/local/lib/python3.12/dist-packages (from pandas->datasets>=3.0.0->trl==0.19.0->-r default_requirements.txt (line 1)) (2025.2)\n",
      "Requirement already satisfied: six>=1.5 in /usr/local/lib/python3.12/dist-packages (from python-dateutil>=2.8.2->pandas->datasets>=3.0.0->trl==0.19.0->-r default_requirements.txt (line 1)) (1.17.0)\n",
      "Requirement already satisfied: executing>=1.2.0 in /usr/local/lib/python3.12/dist-packages (from stack_data->ipython>=7.31.1->ipdb==0.13.13->-r default_requirements.txt (line 3)) (2.2.0)\n",
      "Requirement already satisfied: asttokens>=2.1.0 in /usr/local/lib/python3.12/dist-packages (from stack_data->ipython>=7.31.1->ipdb==0.13.13->-r default_requirements.txt (line 3)) (3.0.0)\n",
      "Requirement already satisfied: pure-eval in /usr/local/lib/python3.12/dist-packages (from stack_data->ipython>=7.31.1->ipdb==0.13.13->-r default_requirements.txt (line 3)) (0.2.3)\n",
      "Requirement already satisfied: docstring-parser>=0.15 in /usr/local/lib/python3.12/dist-packages (from tyro->unsloth->-r default_requirements.txt (line 5)) (0.16)\n",
      "Requirement already satisfied: rich>=11.1.0 in /usr/local/lib/python3.12/dist-packages (from tyro->unsloth->-r default_requirements.txt (line 5)) (14.0.0)\n",
      "Requirement already satisfied: shtab>=1.5.6 in /usr/local/lib/python3.12/dist-packages (from tyro->unsloth->-r default_requirements.txt (line 5)) (1.7.2)\n",
      "Requirement already satisfied: typeguard>=4.0.0 in /usr/local/lib/python3.12/dist-packages (from tyro->unsloth->-r default_requirements.txt (line 5)) (4.4.4)\n",
      "Requirement already satisfied: markdown-it-py>=2.2.0 in /usr/local/lib/python3.12/dist-packages (from rich>=11.1.0->tyro->unsloth->-r default_requirements.txt (line 5)) (3.0.0)\n",
      "Requirement already satisfied: mdurl~=0.1 in /usr/local/lib/python3.12/dist-packages (from markdown-it-py>=2.2.0->rich>=11.1.0->tyro->unsloth->-r default_requirements.txt (line 5)) (0.1.2)\n",
      "\u001b[33mWARNING: Running pip as the 'root' user can result in broken permissions and conflicting behaviour with the system package manager, possibly rendering your system unusable. It is recommended to use a virtual environment instead: https://pip.pypa.io/warnings/venv. Use the --root-user-action option if you know what you are doing and want to suppress this warning.\u001b[0m\u001b[33m\n",
      "\u001b[0m"
     ]
    }
   ],
   "source": [
    "# Install the necessary packages\n",
    "!pip install -r default_requirements.txt"
   ]
  },
  {
   "cell_type": "code",
   "execution_count": 3,
   "id": "50090b9b",
   "metadata": {},
   "outputs": [],
   "source": [
    "# import basic packages\n",
    "import json\n",
    "from typing import Dict, Any, List"
   ]
  },
  {
   "cell_type": "markdown",
   "id": "2187a198",
   "metadata": {},
   "source": [
    "### Let the GAME begin!!!\n",
    "<!-- 🎮  -->\n",
    "#### Q-Agent\n",
    "<!-- 🤔 -->\n",
    "<u>NOTE</u>: You are encouraged to invoke your own custom code into `question_model.py` and `question_agent.py` at `agents/`, to control its operation, respectively."
   ]
  },
  {
   "cell_type": "markdown",
   "id": "93fdb0b0",
   "metadata": {},
   "source": [
    "__Topics:__\n",
    "1.  `Logical Reasoning`: Truth-teller and Liar Problems\n",
    "2.  `Puzzles`: Seating Arrangements (Linear, Circular)\n",
    "3.  `Blood Relations and Family Tree`: Puzzles involving generations and family tree logic\n",
    "\n",
    "*To know what all topics are available, visit: **[topics.json](assets/topics.json)***"
   ]
  },
  {
   "cell_type": "code",
   "execution_count": 1,
   "id": "bf0b72a6-79d4-40f9-b6c7-ad19cfe70ba5",
   "metadata": {},
   "outputs": [
    {
     "name": "stdout",
     "output_type": "stream",
     "text": [
      "CUDA Available: True\n",
      "Total GPUs: 1\n",
      "GPU ID 0: AMD Instinct MI300X VF\n"
     ]
    }
   ],
   "source": [
    "import torch\n",
    "\n",
    "# Check if CUDA (NVIDIA) or ROCm (AMD) GPU is available\n",
    "print(\"CUDA Available:\", torch.cuda.is_available())\n",
    "\n",
    "# Number of GPUs\n",
    "print(\"Total GPUs:\", torch.cuda.device_count())\n",
    "\n",
    "# List all GPU devices with their names and IDs\n",
    "for i in range(torch.cuda.device_count()):\n",
    "    print(f\"GPU ID {i}: {torch.cuda.get_device_name(i)}\")\n"
   ]
  },
  {
   "cell_type": "code",
   "execution_count": 9,
   "id": "4f181848",
   "metadata": {
    "scrolled": true
   },
   "outputs": [
    {
     "name": "stdout",
     "output_type": "stream",
     "text": [
      "Loading checkpoint shards: 100%|██████████████████| 3/3 [00:02<00:00,  1.03it/s]\n",
      "STEPS: 100%|██████████████████████████████████████| 4/4 [00:59<00:00, 14.85s/it]\n",
      "Generated 20 questions!\n",
      "{\n",
      "  \"topic\": \"Logical Reasoning\",\n",
      "  \"question\": \"On an island of knights and knaves, three individuals make the following statements: A says, 'B is a knight and C is a knave.' B says, 'A is a knave or C is a knight.' C says, 'A is a knight if and only if B is a knave.' If exactly one of them is a knight, who is the knight?\",\n",
      "  \"choices\": [\n",
      "    \"A) A) A\",\n",
      "    \"B) B) B\",\n",
      "    \"C) C) C\",\n",
      "    \"D) D) None\"\n",
      "  ],\n",
      "  \"answer\": \"B\",\n",
      "  \"explanation\": \"Assume A is a knight: then B is a knight and C is a knave. But B's statement 'A is a knave or C is a knight' would be false (since A is a knight and C is a knave), contradicting B being a knight. Assume C is a knight: then A is a knight iff B is a knave. If A is a knight, B is a knave, but A's statement would be true, making B a knave. B's statement 'A is a knave or C is a knight' would be true (since C is a knight), contradicting B being a knave. Only consistent case: B is a knight, A and C are knaves. B's statement is true, and A and C's statements are false.\"\n",
      "}\n",
      "{\n",
      "  \"topic\": \"Puzzles involving generations and family tree logic\",\n",
      "  \"question\": \"In a family, A is the brother of B, who is the daughter of C. D is the son of E, who is the daughter of F. G is the son of H, who is the daughter of I. J is the son of K, who is the daughter of L. M is the son of N, who is the daughter of O. If A is the cousin of D, and D is the cousin of G, and G is the cousin of J, and J is the cousin of M, how is A related to M?\",\n",
      "  \"choices\": [\n",
      "    \"A) A) Uncle\",\n",
      "    \"B) B) Cousin\",\n",
      "    \"C) C) Nephew\",\n",
      "    \"D) D) Brother\"\n",
      "  ],\n",
      "  \"answer\": \"A\",\n",
      "  \"explanation\": \"All individuals (A, D, G, J, M) are in separate family lines, each with a common ancestor. Since A is the cousin of D, and D is the cousin of G, and so on, A and M share the same grandparent. Thus, A is the uncle of M.\"\n",
      "}\n",
      "{\n",
      "  \"topic\": \"Puzzles involving generations and family tree logic\",\n",
      "  \"question\": \"In a family, A is the father of B, who is the daughter of C. D is the brother of C, and E is the daughter of D. F is the son of E. G is the mother of F. H is the brother of G. How is H related to A?\",\n",
      "  \"choices\": [\n",
      "    \"A) Father\",\n",
      "    \"B) Son\",\n",
      "    \"C) Brother\",\n",
      "    \"D) Uncle\"\n",
      "  ],\n",
      "  \"answer\": \"C\",\n",
      "  \"explanation\": \"H is the brother of G, who is the mother of F. Since A is the father of B, and B is the daughter of C, A is the father of C's child. G is the mother of F, making A the grandfather of F. H, being G's brother, is the uncle of F, and thus the uncle of A's grandchild. Therefore, H is A's brother.\"\n",
      "}\n",
      "{\n",
      "  \"topic\": \"Seating Arrangements (Linear, Circular)\",\n",
      "  \"question\": \"Nine people sit around a circular table. A is seated between B and C. D is two seats to the right of E, who is adjacent to F. G is directly opposite H, and I is seated between G and H. If J is seated three seats to the left of A, who is seated directly opposite A?\",\n",
      "  \"choices\": [\n",
      "    \"A) B\",\n",
      "    \"B) F\",\n",
      "    \"C) I\",\n",
      "    \"D) J\"\n",
      "  ],\n",
      "  \"answer\": \"B\",\n",
      "  \"explanation\": \"A is between B and C. J is three left of A, so J is opposite A. G is opposite H, and I is between G and H. F is adjacent to E, who is two right of D. Only F is directly opposite A based on relative positions.\"\n",
      "}\n",
      "{\n",
      "  \"topic\": \"Seating Arrangements (Linear, Circular)\",\n",
      "  \"question\": \"Six people A, B, C, D, E, F sit around a circular table. A is between B and F. C is two seats to the left of D. E is directly opposite A. B is not adjacent to D. Who is sitting next to E?\",\n",
      "  \"choices\": [\n",
      "    \"A) A) B\",\n",
      "    \"B) B) C\",\n",
      "    \"C) C) D\",\n",
      "    \"D) D) F\"\n",
      "  ],\n",
      "  \"answer\": \"D\",\n",
      "  \"explanation\": \"E is opposite A, so E's neighbors are B and F. A is between B and F, confirming F is adjacent to E. Other clues don't conflict with this arrangement.\"\n",
      "}\n",
      "{\n",
      "  \"topic\": \"Seating Arrangements (Linear, Circular)\",\n",
      "  \"question\": \"Six people A, B, C, D, E, F sit around a circular table. A is two seats to the left of B, who is opposite C. D is adjacent to E and faces the center. F is not adjacent to A. If B faces outward, who is sitting opposite A?\",\n",
      "  \"choices\": [\n",
      "    \"A) A) B\",\n",
      "    \"B) B) C\",\n",
      "    \"C) C) D\",\n",
      "    \"D) D) E\"\n",
      "  ],\n",
      "  \"answer\": \"D\",\n",
      "  \"explanation\": \"B is opposite C, so A is opposite E. D is adjacent to E and faces center, so E cannot be opposite A. A is two left of B, so A is opposite E. D is adjacent to E, so E cannot be opposite A. Thus, E is opposite A.\"\n",
      "}\n",
      "{\n",
      "  \"topic\": \"Seating Arrangements (Linear, Circular)\",\n",
      "  \"question\": \"Six people A, B, C, D, E, F sit around a circular table. A is two seats to the left of B, who is directly opposite C. D is adjacent to E, who is two seats to the right of F. F is not adjacent to A. Who is sitting between A and B?\",\n",
      "  \"choices\": [\n",
      "    \"A) A) C\",\n",
      "    \"B) B) D\",\n",
      "    \"C) C) E\",\n",
      "    \"D) D) F\"\n",
      "  ],\n",
      "  \"answer\": \"C\",\n",
      "  \"explanation\": \"B is opposite C, so C is not between A and B. D is adjacent to E, not A or B. F is not adjacent to A, so F cannot be between A and B. E is two seats to the right of F, placing E between A and B.\"\n",
      "}\n",
      "{\n",
      "  \"topic\": \"Logical Reasoning\",\n",
      "  \"question\": \"On the island of knights and knaves, three individuals—Alpha, Beta, and Gamma—make the following statements: Alpha says, 'Beta is a knave and Gamma is a knight.' Beta says, 'Alpha is a knight and Gamma is a knave.' Gamma says, 'Alpha is a knave or Beta is a knight.' If exactly one of them is a knight, who is the knight?\",\n",
      "  \"choices\": [\n",
      "    \"A) Alpha\",\n",
      "    \"B) Beta\",\n",
      "    \"C) Gamma\",\n",
      "    \"D) None of them\"\n",
      "  ],\n",
      "  \"answer\": \"D\",\n",
      "  \"explanation\": \"Assume Alpha is a knight: then Beta is a knave and Gamma is a knight. But Beta's statement would be false, making Beta a knave, which fits. However, Gamma's statement would be 'Alpha is a knave or Beta is a knight'—false since Alpha is a knight and Beta is a knave. Contradiction. Try Beta as knight: then Alpha is a knight and Gamma is a knave. But Alpha's statement would be false, contradiction. Try Gamma as knight: then 'Alpha is a knave or Beta is a knight' is true. If Alpha is a knave, then Beta's statement is false, making Beta a knave. But then Gamma's statement is true, and only Gamma is a knight. However, this contradicts the 'exactly one' condition. Thus, no one can be a knight.\"\n",
      "}\n",
      "{\n",
      "  \"topic\": \"Puzzles involving generations and family tree logic\",\n",
      "  \"question\": \"In a family, A is the only son of B, who is the daughter of C. D is the brother of C, and E is the daughter of D. F is the son of E. G is the daughter of F. H is the son of G. How is H related to A?\",\n",
      "  \"choices\": [\"A) A) Cousin\", \"B) B) Nephew\", \"C) C) Uncle\", \"D) D) Brother\"],\n",
      "  \"answer\": \"A\",\n",
      "  \"explanation\": \"A is the son of B, who is the daughter of C. D is the brother of C, so D is A's uncle. E is D's daughter, F is E's son, G is F's daughter, and H is G's son. H is the grandson of D, making H the cousin of A.\"\n",
      "}\n",
      "{\n",
      "  \"topic\": \"Logical Reasoning\",\n",
      "  \"question\": \"On an island of knights and knaves, three inhabitants make the following statements: A says, 'B is a knave and C is a knight.' B says, 'A is a knight and C is a knave.' C says, 'A is a knave or B is a knight.' If exactly one of them is a knight, who is the knight?\",\n",
      "  \"choices\": [\n",
      "    \"A) A) A\",\n",
      "    \"B) B) B\",\n",
      "    \"C) C) C\",\n",
      "    \"D) D) None\"\n",
      "  ],\n",
      "  \"answer\": \"B\",\n",
      "  \"explanation\": \"Assume A is a knight: then B is a knave and C is a knight. But B's statement would be false, making B a knave, which fits. However, C says 'A is a knave or B is a knight.' If C is a knight, this must be true. But A is a knight and B is a knave, so 'A is a knave' is false and 'B is a knight' is false. Contradiction. Try B as knight: then A is a knight and C is a knave. A's statement would be true, but B is a knight, so A must be a knight, making B's statement true. C's statement would be false, making C a knave. This fits. Thus, B is the knight.\"\n",
      "}\n",
      "{\n",
      "  \"topic\": \"Puzzles involving generations and family tree logic\",\n",
      "  \"question\": \"In a family, Ravi is the son of Ramesh, who is the brother of Ramesh's only sister, Radha. Radha is the mother of Ravi's only cousin, Raviya. Raviya is married to Ravi's paternal uncle, Ravi's father's brother. How is Raviya related to Ravi?\",\n",
      "  \"choices\": [\n",
      "    \"A) A) Aunt\",\n",
      "    \"B) B) Cousin\",\n",
      "    \"C) C) Sister-in-law\",\n",
      "    \"D) D) Niece\"\n",
      "  ],\n",
      "  \"answer\": \"C\",\n",
      "  \"explanation\": \"Raviya is the daughter of Radha, who is Ravi's maternal aunt. Raviya is married to Ravi's paternal uncle, making her Ravi's sister-in-law.\"\n",
      "}\n",
      "{\n",
      "  \"topic\": \"Seating Arrangements (Linear, Circular)\",\n",
      "  \"question\": \"Eight people A, B, C, D, E, F, G, H sit around a circular table. Four face the center, and four face outward. A is third to the left of B, who faces the opposite direction of D. C (a doctor) sits adjacent to both E and F. G faces the center and is two seats to the left of H, who is not adjacent to B. If E faces outward, who is the engineer?\",\n",
      "  \"choices\": [\"A) A) G\", \"B) B) H\", \"C) C) F\", \"D) D) D\"],\n",
      "  \"answer\": \"B\",\n",
      "  \"explanation\": \"H's position and facing direction (outward) are derived from clues. Since C is a doctor and professions aren't repeated, H must be the engineer.\"\n",
      "}\n",
      "{\n",
      "  \"topic\": \"Puzzles involving generations and family tree logic\",\n",
      "  \"question\": \"In a family, A is the only son of B, who is the daughter of C. D is the brother of C, and E is the daughter of D. F is the son of E, and G is the daughter of F. H is the brother of G, and I is the son of H. J is the daughter of I, and K is the daughter of J. L is the son of K, and M is the brother of L. N is the daughter of M, and O is the daughter of N. P is the son of O, and Q is the son of P. R is the daughter of Q, and S is the daughter of R. T is the son of S, and U is the son of T. V is the daughter of U, and W is the daughter of V. X is the son of W, and Y is the daughter of X. Z is the son of Y. How is Z related to A?\",\n",
      "  \"choices\": [\"A) A) Uncle\", \"B) B) Cousin\", \"C) C) Nephew\", \"D) D) Brother\"],\n",
      "  \"answer\": \"D\",\n",
      "  \"explanation\": \"A is the son of B, who is the daughter of C. Z is the son of Y, who is the daughter of X, who is the son of W, who is the daughter of V, who is the daughter of U, who is the son of T, who is the son of S, who is the daughter of R, who is the son of Q, who is the son of P, who is the daughter of O, who is the daughter of N, who is the son of M, who is the brother of L, who is the son of K, who is the daughter of J, who is the daughter of I, who is the son of H, who is the brother of G, who is the daughter of F, who is the son of E, who is the daughter of D, who is the brother of C, who is the mother of B. Thus, Z is the brother of A.\"\n",
      "}\n",
      "{\n",
      "  \"topic\": \"Logical Reasoning\",\n",
      "  \"question\": \"On the island of knights and knaves, three inhabitants—Alaric, Bella, and Cody—make the following statements: Alaric says, 'Bella is a knight and Cody is a knave.' Bella says, 'Alaric is a knave or Cody is a knight.' Cody says, 'Alaric is a knight if and only if Bella is a knave.' How many of them are knights?\",\n",
      "  \"choices\": [\n",
      "    \"A) 1\",\n",
      "    \"B) 2\",\n",
      "    \"C) 3\",\n",
      "    \"D) 0\"\n",
      "  ],\n",
      "  \"answer\": \"A\",\n",
      "  \"explanation\": \"Assume Alaric is a knight. Then Bella is a knight and Cody is a knave. Bella's statement 'Alaric is a knave or Cody is a knight' would be false (since Alaric is a knight and Cody is a knave), contradicting Bella being a knight. Thus, Alaric must be a knave. If Alaric is a knave, his statement is false, so either Bella is a knave or Cody is a knight. If Bella is a knight, her statement 'Alaric is a knave or Cody is a knight' is true, which fits. Cody's statement 'Alaric is a knight iff Bella is a knave' is false (Alaric is a knave, Bella is a knight), so Cody is a knave. Thus, only Bella is a knight.\"\n",
      "}\n",
      "{\n",
      "  \"topic\": \"Seating Arrangements (Linear, Circular)\",\n",
      "  \"question\": \"Six people A, B, C, D, E, F sit around a circular table. A is directly opposite B. C is two seats to the left of D. E is adjacent to A and F. F is not adjacent to D. Who is sitting between C and D?\",\n",
      "  \"choices\": [\n",
      "    \"A) A) E\",\n",
      "    \"B) B) F\",\n",
      "    \"C) C) A\",\n",
      "    \"D) D) B\"\n",
      "  ],\n",
      "  \"answer\": \"B\",\n",
      "  \"explanation\": \"C is two seats left of D. Since the table is circular, D is two seats right of C. The person between C and D must be F, as E is adjacent to A and F, and F is not adjacent to D. This fits all constraints.\"\n",
      "}\n",
      "{\n",
      "  \"topic\": \"Logical Reasoning\",\n",
      "  \"question\": \"On an island of knights and knaves, three individuals—Milo, Nora, and Owen—make the following statements: Milo says, 'Nora is a knave and Owen is a knight.' Nora says, 'Milo is a knight or Owen is a knave.' Owen says, 'If Milo is a knave, then Nora is a knight.' How many of them are knights?\",\n",
      "  \"choices\": [\n",
      "    \"A) 0\",\n",
      "    \"B) 1\",\n",
      "    \"C) 2\",\n",
      "    \"D) 3\"\n",
      "  ],\n",
      "  \"answer\": \"D\",\n",
      "  \"explanation\": \"Assume Milo is a knight. Then Nora is a knave and Owen is a knight. Nora's statement 'Milo is a knight or Owen is a knave' would be false, which fits her being a knave. Owen's statement 'If Milo is a knave, then Nora is a knight' is vacuously true since Milo is a knight. Thus, all three are knights. D is correct.\"\n",
      "}\n",
      "{\n",
      "  \"topic\": \"Puzzles involving generations and family tree logic\",\n",
      "  \"question\": \"In a family, A is the brother of B. B is the daughter of C. D is the son of E. E is the daughter of F. F is the mother of G. G is the son of H. H is the father of I. I is the daughter of J. J is the brother of K. K is the father of L. L is the daughter of M. M is the mother of N. N is the son of O. O is the father of P. P is the daughter of Q. Q is the mother of R. R is the son of S. S is the father of T. T is the daughter of U. U is the mother of V. V is the son of W. W is the father of X. X is the daughter of Y. Y is the mother of Z. Z is the son of A. How is Z related to C?\",\n",
      "  \"choices\": [\n",
      "    \"A) A) Grandson\",\n",
      "    \"B) B) Nephew\",\n",
      "    \"C) C) Cousin\",\n",
      "    \"D) D) Uncle\"\n",
      "  ],\n",
      "  \"answer\": \"B\",\n",
      "  \"explanation\": \"Z is the son of A, who is the brother of B, who is the daughter of C. Therefore, Z is the nephew of C.\"\n",
      "}\n",
      "{\n",
      "  \"topic\": \"Seating Arrangements (Linear, Circular)\",\n",
      "  \"question\": \"Nine people sit around a circular table. A is between B and C. D is two seats to the right of E, who is directly opposite F. G is adjacent to H, who is not adjacent to I. I is directly opposite J, who is two seats to the left of A. Who is sitting between D and F?\",\n",
      "  \"choices\": [\"A) A) B\", \"B) B) C\", \"C) C) G\", \"D) D) H\"],\n",
      "  \"answer\": \"C\",\n",
      "  \"explanation\": \"D is two right of E, who is opposite F. I is opposite J, two left of A. G is adjacent to H, not adjacent to I. Thus, G is between D and F based on relative positions and adjacency constraints.\"\n",
      "}\n",
      "{\n",
      "  \"topic\": \"Logical Reasoning\",\n",
      "  \"question\": \"On an island of knights and knaves, three individuals—Milo, Nora, and Otto—make the following statements: Milo says, 'Nora is a knave and Otto is a knight.' Nora says, 'Milo is a knight and Otto is a knave.' Otto says, 'Milo is a knave or Nora is a knight.' If exactly one of them is a knight, who is the knight?\",\n",
      "  \"choices\": [\n",
      "    \"A) Milo\",\n",
      "    \"B) Nora\",\n",
      "    \"C) Otto\",\n",
      "    \"D) None of them\"\n",
      "  ],\n",
      "  \"answer\": \"B\",\n",
      "  \"explanation\": \"Assume Milo is a knight: then Nora is a knave and Otto is a knight. But this contradicts the 'exactly one knight' condition. Assume Nora is a knight: then Milo is a knight and Otto is a knave. Again, contradiction. Assume Otto is a knight: his statement 'Milo is a knave or Nora is a knight' is true. If Milo is a knave, his statement is false, so Nora is a knight and Otto is a knave—contradiction. Only valid scenario: Nora is a knight, Milo and Otto are knaves. Her statement holds, and Otto's statement is false.\"\n",
      "}\n",
      "{\n",
      "  \"topic\": \"Seating Arrangements (Linear, Circular)\",\n",
      "  \"question\": \"Six people A, B, C, D, E, F sit around a circular table. A is two seats to the left of B, who is directly opposite C. D is adjacent to E, and F is two seats to the right of D. If A is not adjacent to F, who is sitting between B and C?\",\n",
      "  \"choices\": [\n",
      "    \"A) A) D\",\n",
      "    \"B) B) E\",\n",
      "    \"C) C) F\",\n",
      "    \"D) D) A\"\n",
      "  ],\n",
      "  \"answer\": \"D\",\n",
      "  \"explanation\": \"B is opposite C, so they are not adjacent. A is two left of B, and F is two right of D. D is adjacent to E, so D and E are next to each other. A is not adjacent to F, so A must be between B and C. Thus, A is between B and C.\"\n",
      "}\n",
      "\n",
      "==================================================\n",
      "\n",
      "\n",
      "Time taken per batch generation: [28.709503889083862, 9.181957483291626, 12.97362470626831, 8.466940641403198]\n",
      "Tokens generated per batch: [1565, 1620, 2300, 1475]\n",
      "Total Time Taken: 59.332 seconds; Total Tokens: 6960; TGPS: 117.306 seconds\n",
      "\n",
      "\n",
      "\n",
      "++++++++++++++++++++++++++++++++++++++++++++++++++\n",
      "\n",
      "Saved to outputs/questions.json!\n"
     ]
    }
   ],
   "source": [
    "# Run the following code to generate questions.\n",
    "# For demo purpose, we have used the base Qwen3-4B model for Q-Agent. Participants are expected to improve upon this\n",
    "!WANDB_API_KEY=cff2e2af28595b4caaadc640a8874ad00b282dcb python -m agents.question_agent \\\n",
    "    --output_file \"outputs/questions.json\" \\\n",
    "    --num_questions 20 \\\n",
    "    --verbose"
   ]
  },
  {
   "cell_type": "markdown",
   "id": "9e511c33",
   "metadata": {},
   "source": [
    "#### Basic format-checks for questions from Q-agent\n",
    "1. Here we filter questions into `questions.json` for usage of answer agent.\n",
    "2. Further, the filtered questions will pass through an **`Oracle`** (a part of JUDGING system, hence closed and not demonstrated here) that checks *validity* of question, choices, and answer from Q-agent. It also provides the actual correct answer to the question.\n",
    "3. BYOC (Bring Your Own Code): Well, again we emphasize to have your own innovations & code. Also the places with following tag/block or **similar**, expect some real improvements.\n",
    "    ```python\n",
    "    # TODO: IMPROVE THE FOLLOWING\n",
    "    <code>\n",
    "    ```\n",
    "4. <span style=\"color : red\">**Ensure**</span> on an average: $50\\% \\times \\text{num\\_questions} > N$ questions are filtered out.\n",
    "5. The following filter is added into the `question_agent.py`. *<span style=\"color : red\">Note that</span> we generate two version of questions, one is the usual, unfiltered one `questions.json` and the other is `filtered_questions.json` after passing through the below filter. <span style=\"color : green\">We'll use this `filtered_questions.json` for conducting matches i.e., this file will be sent to opponent's answer agent. But do keep both in `outputs/` folder.</span>*\n"
   ]
  },
  {
   "cell_type": "code",
   "execution_count": 4,
   "id": "a3770ec5",
   "metadata": {},
   "outputs": [],
   "source": [
    "from transformers import AutoTokenizer\n",
    "tokenizer = AutoTokenizer.from_pretrained(\"/jupyter-tutorial/hf_models/Qwen3-4B\", padding_side='left')\n",
    "\n",
    "def count_tokens_q(text: str) -> int:\n",
    "    \"\"\"Count the number of tokens using Qwen3-4B tokenizer\"\"\"\n",
    "    return len(tokenizer.encode(text, add_special_tokens=False))\n",
    "\n",
    "def filter_questions(questions: List[str|Dict[str, str|Any]]) -> List[Dict[str, str|Any]]:\n",
    "    def basic_checks(q2: Dict[str, str])->bool:\n",
    "        # check required keys\n",
    "        required_keys = ['topic', 'question', 'choices', 'answer']\n",
    "        if all((key in q2) for key in required_keys):\n",
    "            # check choices format\n",
    "            checks = all(isinstance(choice, str) and len(choice) > 2 and choice[0].upper() in 'ABCD' for choice in q2['choices'])\n",
    "            if isinstance(q2['choices'], list) and len(q2['choices']) == 4 and checks:\n",
    "                # check answer format\n",
    "                # Check token length\n",
    "                check_len = sum(count_tokens_q(q2[k]) for k in ['question', 'answer'])\n",
    "                check_len += sum(count_tokens_q(choice) for choice in q2['choices']) - 15\n",
    "                if check_len < 130:\n",
    "                    if check_len + count_tokens_q(q2.get('explanation', 'None')) <= 1024:\n",
    "                        # Extra Checks: (PLUS checks) len(q2['answer']) == 1 and q2['answer'].upper() in 'ABCD':\n",
    "                        if isinstance(q2['answer'], str):\n",
    "                            return True\n",
    "        return False\n",
    "    correct_format_question = []\n",
    "    for i, q in enumerate(questions):\n",
    "        if isinstance(q, dict):\n",
    "            if basic_checks(q):\n",
    "                correct_format_question.append(q)\n",
    "        elif isinstance(q, str):\n",
    "            try:\n",
    "                q1 = json.loads(q)\n",
    "                if basic_checks(q1):\n",
    "                    correct_format_question.append(q1)\n",
    "            except json.JSONDecodeError:\n",
    "                # If JSON decoding fails, skip this answer\n",
    "                print(f\"Skipping invalid JSON at index {i}: {q}\")\n",
    "                continue\n",
    "        else:\n",
    "            continue\n",
    "    if len(correct_format_question) >= 0.5 * len(questions):\n",
    "        return correct_format_question\n",
    "    return list()"
   ]
  },
  {
   "cell_type": "code",
   "execution_count": 35,
   "id": "8a66e521",
   "metadata": {
    "scrolled": true
   },
   "outputs": [],
   "source": [
    "with open(\"outputs/questions.json\", \"r\") as f:\n",
    "    questions = json.load(f)\n",
    "\n",
    "filtered_questions = filter_questions(questions)\n",
    "\n",
    "# +++++++++++++++++++++++++++++++++++++++++++++++++++++++++++++++\n",
    "# Further filtering will happen with our Oracle (not shown here) which also have its own answer for the question.\n",
    "# If Q-agent answer to its own question is wrong, then that question will not be considered.\n",
    "# +++++++++++++++++++++++++++++++++++++++++++++++++++++++++++++++\n",
    "\n",
    "with open(\"outputs/filtered_questions.json\", \"w\") as f:\n",
    "    json.dump(filtered_questions, f, indent=4)"
   ]
  },
  {
   "cell_type": "code",
   "execution_count": 36,
   "id": "ba3fe904",
   "metadata": {},
   "outputs": [
    {
     "data": {
      "text/plain": [
       "18"
      ]
     },
     "execution_count": 36,
     "metadata": {},
     "output_type": "execute_result"
    }
   ],
   "source": [
    "len(filtered_questions)"
   ]
  },
  {
   "cell_type": "markdown",
   "id": "8f96209d",
   "metadata": {},
   "source": [
    "#### A-agent\n",
    "<!-- 🤖  -->\n",
    "<u>NOTE</u>: Here in the `answer_agent.py` you can integrate your custom model -- ***E.g., SFTed or GRPOed model [answer_model2.py](./tutorial/answer_model2.py)**. But first do SFT / GRPO -> load the checkpoint with correct path in [answer_model2.py](./tutorial/answer_model2.py) and then integrate it into `answer_agent.py`.*"
   ]
  },
  {
   "cell_type": "code",
   "execution_count": 38,
   "id": "61da0098-fb44-45f1-96e4-13f8e492e79f",
   "metadata": {},
   "outputs": [
    {
     "name": "stdout",
     "output_type": "stream",
     "text": [
      "/bin/bash: line 1: wandb: command not found\n",
      "/bin/bash: -c: line 1: syntax error near unexpected token `project=\"my-awesome-project\"'\n",
      "/bin/bash: -c: line 1: `wandb.init(project=\"my-awesome-project\")'\n"
     ]
    }
   ],
   "source": [
    "import wandb\n",
    "\n",
    "# 1. Init W&B\n",
    "!wandb login\n",
    " # Set the wandb entity where your project will be logged (generally your team name).\n",
    "\n",
    "!wandb.init(project=\"my-awesome-project\")\n"
   ]
  },
  {
   "cell_type": "code",
   "execution_count": 9,
   "id": "3042da1e-8f34-4966-afe5-33f36130398a",
   "metadata": {},
   "outputs": [],
   "source": [
    "#AAIPL_134_199_198_15/agents/answer_agent-Copy1.py"
   ]
  },
  {
   "cell_type": "code",
   "execution_count": 64,
   "id": "c3ea219e-ade8-4e41-97c1-b21321cd8586",
   "metadata": {},
   "outputs": [
    {
     "name": "stdout",
     "output_type": "stream",
     "text": [
      "/jupyter-tutorial/AAIPL_134_199_198_15\n",
      "__pycache__\t       answer_agent_dspy.py\t  old\n",
      "answer_agent.py        answer_agent_dspy_test.py  question_agent.py\n",
      "answer_agent_Copy1.py  answer_model.py\t\t  question_model.py\n",
      "answer_agent_Copy2.py  dspy_program\n"
     ]
    }
   ],
   "source": [
    "!pwd\n",
    "!ls /jupyter-tutorial/AAIPL_134_199_198_15/agents/\n",
    "!cd /jupyter-tutorial/AAIPL_134_199_198_15/agents/"
   ]
  },
  {
   "cell_type": "code",
   "execution_count": 65,
   "id": "c42a9b14-a304-4cd0-b734-a04219a9e938",
   "metadata": {
    "scrolled": true
   },
   "outputs": [
    {
     "name": "stdout",
     "output_type": "stream",
     "text": [
      "/usr/bin/python: No module named agents.answer_agent_shravan\n"
     ]
    }
   ],
   "source": [
    "# Same instructions apply for the answer agent.\n",
    "# For demo purpose, we have used the base Qwen3-4B model for A-agent. Participants are expected to improve upon this.\n",
    "!python -m agents.answer_agent_shravan \\\n",
    "    --input_file \"outputs/filtered_questions.json\" \\\n",
    "    --output_file \"outputs/answers.json\" \\\n",
    "    --verbose\n",
    "!cd ../../"
   ]
  },
  {
   "cell_type": "markdown",
   "id": "3891529b",
   "metadata": {},
   "source": [
    "#### Basic format-checks for answers from A-agent.\n",
    "\n",
    "1. Checks for expected `JSON` format as suggested in [instructions](#format-overview).\n",
    "2. Same as Q-Agents, improvements are required here too.\n",
    "3. Answers not having above format will not be considered and thus no point will be awarded.\n",
    "4. The following filter is added into the `answer_agent.py`. Similarly here too, two versions are saved, `answers.json` and `filtered_answers.json`. The latter is used for evaluation."
   ]
  },
  {
   "cell_type": "code",
   "execution_count": 40,
   "id": "3acad45e",
   "metadata": {},
   "outputs": [],
   "source": [
    "from transformers import AutoTokenizer\n",
    "tokenizer = AutoTokenizer.from_pretrained(\"/jupyter-tutorial/hf_models/Qwen3-4B\", padding_side='left')\n",
    "\n",
    "def count_tokens_a(text: str) -> int:\n",
    "    \"\"\"Count the number of tokens in the text using the agent's tokenizer\"\"\"\n",
    "    return len(tokenizer.encode(text, add_special_tokens=False))\n",
    "\n",
    "def filter_answers(ans: List[str|Dict[str, str]]) -> List[Dict[str, str]]:\n",
    "    r\"\"\"Filter answers to ensure they are in the correct format\"\"\"\n",
    "    def basic_checks(a1: Dict[str, str])->bool:\n",
    "        # check required keys\n",
    "        required_keys = ['answer']\n",
    "        if all((key in a1) and isinstance(a1[key], str) for key in required_keys):\n",
    "            if len(a1['answer']) == 1 and (a1['answer'] not in 'ABCDabcd'):\n",
    "                    return False\n",
    "            check_len = count_tokens_a(a1['answer'])\n",
    "            if check_len < 50:\n",
    "                check_len += count_tokens_a(a1.get('reasoning', 'None'))\n",
    "                if check_len < 512:\n",
    "                    # check answer format - EXTRA checks\n",
    "                    # if len(a1['answer']) == 1 and a1['answer'].upper() in 'ABCD':\n",
    "                    return True\n",
    "        return False\n",
    "\n",
    "    filtered_answers = []\n",
    "    for i, a in enumerate(ans):\n",
    "        if isinstance(a, dict):\n",
    "            if basic_checks(a):\n",
    "                filtered_answers.append(a)\n",
    "            else:\n",
    "                filtered_answers.append(None)\n",
    "        elif isinstance(a, str):\n",
    "            # Basic checks: at least with correct JSON format\n",
    "            try:\n",
    "                a1 = json.loads(a)\n",
    "                if basic_checks(a1):\n",
    "                    filtered_answers.append(a1)\n",
    "                else:\n",
    "                    filtered_answers.append(None)\n",
    "            except json.JSONDecodeError:\n",
    "                # If JSON decoding fails, skip this answer\n",
    "                print(f\"Skipping invalid JSON at index {i}: {a}\")\n",
    "                filtered_answers.append(None)\n",
    "                continue\n",
    "        else:\n",
    "            # If the answer is neither a dict nor a str, skip it\n",
    "            print(f\"Skipping unsupported type at index {i}: {type(a)}\")\n",
    "            filtered_answers.append(None)\n",
    "    return filtered_answers"
   ]
  },
  {
   "cell_type": "code",
   "execution_count": 28,
   "id": "49a4301d",
   "metadata": {
    "scrolled": true
   },
   "outputs": [
    {
     "name": "stdout",
     "output_type": "stream",
     "text": [
      "Skipping unsupported type at index 11: <class 'list'>\n"
     ]
    }
   ],
   "source": [
    "with open(\"outputs/answers.json\", \"r\") as f:\n",
    "    answers = json.load(f)\n",
    "filtered_answers = filter_answers(answers)"
   ]
  },
  {
   "cell_type": "code",
   "execution_count": 41,
   "id": "74567658-996c-4cf0-bdc3-a50140126051",
   "metadata": {},
   "outputs": [
    {
     "data": {
      "text/plain": [
       "18"
      ]
     },
     "execution_count": 41,
     "metadata": {},
     "output_type": "execute_result"
    }
   ],
   "source": [
    "len(answers)"
   ]
  },
  {
   "cell_type": "code",
   "execution_count": 42,
   "id": "75bc092e",
   "metadata": {},
   "outputs": [
    {
     "data": {
      "text/plain": [
       "18"
      ]
     },
     "execution_count": 42,
     "metadata": {},
     "output_type": "execute_result"
    }
   ],
   "source": [
    "len(filtered_answers)"
   ]
  },
  {
   "cell_type": "markdown",
   "id": "79a6a911",
   "metadata": {},
   "source": [
    "#### Evaluation\n",
    "<!-- 🏅  -->"
   ]
  },
  {
   "cell_type": "markdown",
   "id": "f2aa2284",
   "metadata": {},
   "source": [
    "##### Scoring Criteria\n",
    "\n",
    "<!-- 📊  -->\n",
    "\n",
    "Simply, we assign scores based on, out of $N$ questions from Q-agent, how many an A-agent can answer and vice-versa. *No negative marking for wrong answers.*\n",
    "\n",
    "$$\\text{A-agent Score} = \\dfrac{\\#\\ \\text{of questions correctly answered with expected format}}{N}\\times 100$$\n",
    "$$\\text{Q-agent Score} = \\dfrac{\\#\\ \\text{of questions incorrectly answered by A-agent}}{N}\\times 100$$"
   ]
  },
  {
   "cell_type": "code",
   "execution_count": 43,
   "id": "aec36efc-8612-4833-81b6-55b129111726",
   "metadata": {
    "scrolled": true
   },
   "outputs": [
    {
     "data": {
      "text/plain": [
       "[{'topic': 'Logical Reasoning',\n",
       "  'question': \"On an island of knights and knaves, three individuals make the following statements: A says, 'B is a knight and C is a knave.' B says, 'A is a knave or C is a knight.' C says, 'A is a knight if and only if B is a knave.' If exactly one of them is a knight, who is the knight?\",\n",
       "  'choices': ['A) A) A', 'B) B) B', 'C) C) C', 'D) D) None'],\n",
       "  'answer': 'B',\n",
       "  'explanation': \"Assume A is a knight: then B is a knight and C is a knave. But B's statement 'A is a knave or C is a knight' would be false (since A is a knight and C is a knave), contradicting B being a knight. Assume C is a knight: then A is a knight iff B is a knave. If A is a knight, B is a knave, but A's statement would be true, making B a knave. B's statement 'A is a knave or C is a knight' would be true (since C is a knight), contradicting B being a knave. Only consistent case: B is a knight, A and C are knaves. B's statement is true, and A and C's statements are false.\"},\n",
       " {'topic': 'Puzzles involving generations and family tree logic',\n",
       "  'question': 'In a family, A is the brother of B, who is the daughter of C. D is the son of E, who is the daughter of F. G is the son of H, who is the daughter of I. J is the son of K, who is the daughter of L. M is the son of N, who is the daughter of O. If A is the cousin of D, and D is the cousin of G, and G is the cousin of J, and J is the cousin of M, how is A related to M?',\n",
       "  'choices': ['A) A) Uncle', 'B) B) Cousin', 'C) C) Nephew', 'D) D) Brother'],\n",
       "  'answer': 'A',\n",
       "  'explanation': 'All individuals (A, D, G, J, M) are in separate family lines, each with a common ancestor. Since A is the cousin of D, and D is the cousin of G, and so on, A and M share the same grandparent. Thus, A is the uncle of M.'},\n",
       " {'topic': 'Puzzles involving generations and family tree logic',\n",
       "  'question': 'In a family, A is the father of B, who is the daughter of C. D is the brother of C, and E is the daughter of D. F is the son of E. G is the mother of F. H is the brother of G. How is H related to A?',\n",
       "  'choices': ['A) Father', 'B) Son', 'C) Brother', 'D) Uncle'],\n",
       "  'answer': 'C',\n",
       "  'explanation': \"H is the brother of G, who is the mother of F. Since A is the father of B, and B is the daughter of C, A is the father of C's child. G is the mother of F, making A the grandfather of F. H, being G's brother, is the uncle of F, and thus the uncle of A's grandchild. Therefore, H is A's brother.\"},\n",
       " {'topic': 'Seating Arrangements (Linear, Circular)',\n",
       "  'question': 'Nine people sit around a circular table. A is seated between B and C. D is two seats to the right of E, who is adjacent to F. G is directly opposite H, and I is seated between G and H. If J is seated three seats to the left of A, who is seated directly opposite A?',\n",
       "  'choices': ['A) B', 'B) F', 'C) I', 'D) J'],\n",
       "  'answer': 'B',\n",
       "  'explanation': 'A is between B and C. J is three left of A, so J is opposite A. G is opposite H, and I is between G and H. F is adjacent to E, who is two right of D. Only F is directly opposite A based on relative positions.'},\n",
       " {'topic': 'Seating Arrangements (Linear, Circular)',\n",
       "  'question': 'Six people A, B, C, D, E, F sit around a circular table. A is between B and F. C is two seats to the left of D. E is directly opposite A. B is not adjacent to D. Who is sitting next to E?',\n",
       "  'choices': ['A) A) B', 'B) B) C', 'C) C) D', 'D) D) F'],\n",
       "  'answer': 'D',\n",
       "  'explanation': \"E is opposite A, so E's neighbors are B and F. A is between B and F, confirming F is adjacent to E. Other clues don't conflict with this arrangement.\"},\n",
       " {'topic': 'Seating Arrangements (Linear, Circular)',\n",
       "  'question': 'Six people A, B, C, D, E, F sit around a circular table. A is two seats to the left of B, who is opposite C. D is adjacent to E and faces the center. F is not adjacent to A. If B faces outward, who is sitting opposite A?',\n",
       "  'choices': ['A) A) B', 'B) B) C', 'C) C) D', 'D) D) E'],\n",
       "  'answer': 'D',\n",
       "  'explanation': 'B is opposite C, so A is opposite E. D is adjacent to E and faces center, so E cannot be opposite A. A is two left of B, so A is opposite E. D is adjacent to E, so E cannot be opposite A. Thus, E is opposite A.'},\n",
       " {'topic': 'Seating Arrangements (Linear, Circular)',\n",
       "  'question': 'Six people A, B, C, D, E, F sit around a circular table. A is two seats to the left of B, who is directly opposite C. D is adjacent to E, who is two seats to the right of F. F is not adjacent to A. Who is sitting between A and B?',\n",
       "  'choices': ['A) A) C', 'B) B) D', 'C) C) E', 'D) D) F'],\n",
       "  'answer': 'C',\n",
       "  'explanation': 'B is opposite C, so C is not between A and B. D is adjacent to E, not A or B. F is not adjacent to A, so F cannot be between A and B. E is two seats to the right of F, placing E between A and B.'},\n",
       " {'topic': 'Logical Reasoning',\n",
       "  'question': \"On the island of knights and knaves, three individuals—Alpha, Beta, and Gamma—make the following statements: Alpha says, 'Beta is a knave and Gamma is a knight.' Beta says, 'Alpha is a knight and Gamma is a knave.' Gamma says, 'Alpha is a knave or Beta is a knight.' If exactly one of them is a knight, who is the knight?\",\n",
       "  'choices': ['A) Alpha', 'B) Beta', 'C) Gamma', 'D) None of them'],\n",
       "  'answer': 'D',\n",
       "  'explanation': \"Assume Alpha is a knight: then Beta is a knave and Gamma is a knight. But Beta's statement would be false, making Beta a knave, which fits. However, Gamma's statement would be 'Alpha is a knave or Beta is a knight'—false since Alpha is a knight and Beta is a knave. Contradiction. Try Beta as knight: then Alpha is a knight and Gamma is a knave. But Alpha's statement would be false, contradiction. Try Gamma as knight: then 'Alpha is a knave or Beta is a knight' is true. If Alpha is a knave, then Beta's statement is false, making Beta a knave. But then Gamma's statement is true, and only Gamma is a knight. However, this contradicts the 'exactly one' condition. Thus, no one can be a knight.\"},\n",
       " {'topic': 'Puzzles involving generations and family tree logic',\n",
       "  'question': 'In a family, A is the only son of B, who is the daughter of C. D is the brother of C, and E is the daughter of D. F is the son of E. G is the daughter of F. H is the son of G. How is H related to A?',\n",
       "  'choices': ['A) A) Cousin', 'B) B) Nephew', 'C) C) Uncle', 'D) D) Brother'],\n",
       "  'answer': 'A',\n",
       "  'explanation': \"A is the son of B, who is the daughter of C. D is the brother of C, so D is A's uncle. E is D's daughter, F is E's son, G is F's daughter, and H is G's son. H is the grandson of D, making H the cousin of A.\"},\n",
       " {'topic': 'Logical Reasoning',\n",
       "  'question': \"On an island of knights and knaves, three inhabitants make the following statements: A says, 'B is a knave and C is a knight.' B says, 'A is a knight and C is a knave.' C says, 'A is a knave or B is a knight.' If exactly one of them is a knight, who is the knight?\",\n",
       "  'choices': ['A) A) A', 'B) B) B', 'C) C) C', 'D) D) None'],\n",
       "  'answer': 'B',\n",
       "  'explanation': \"Assume A is a knight: then B is a knave and C is a knight. But B's statement would be false, making B a knave, which fits. However, C says 'A is a knave or B is a knight.' If C is a knight, this must be true. But A is a knight and B is a knave, so 'A is a knave' is false and 'B is a knight' is false. Contradiction. Try B as knight: then A is a knight and C is a knave. A's statement would be true, but B is a knight, so A must be a knight, making B's statement true. C's statement would be false, making C a knave. This fits. Thus, B is the knight.\"},\n",
       " {'topic': 'Puzzles involving generations and family tree logic',\n",
       "  'question': \"In a family, Ravi is the son of Ramesh, who is the brother of Ramesh's only sister, Radha. Radha is the mother of Ravi's only cousin, Raviya. Raviya is married to Ravi's paternal uncle, Ravi's father's brother. How is Raviya related to Ravi?\",\n",
       "  'choices': ['A) A) Aunt',\n",
       "   'B) B) Cousin',\n",
       "   'C) C) Sister-in-law',\n",
       "   'D) D) Niece'],\n",
       "  'answer': 'C',\n",
       "  'explanation': \"Raviya is the daughter of Radha, who is Ravi's maternal aunt. Raviya is married to Ravi's paternal uncle, making her Ravi's sister-in-law.\"},\n",
       " {'topic': 'Seating Arrangements (Linear, Circular)',\n",
       "  'question': 'Eight people A, B, C, D, E, F, G, H sit around a circular table. Four face the center, and four face outward. A is third to the left of B, who faces the opposite direction of D. C (a doctor) sits adjacent to both E and F. G faces the center and is two seats to the left of H, who is not adjacent to B. If E faces outward, who is the engineer?',\n",
       "  'choices': ['A) A) G', 'B) B) H', 'C) C) F', 'D) D) D'],\n",
       "  'answer': 'B',\n",
       "  'explanation': \"H's position and facing direction (outward) are derived from clues. Since C is a doctor and professions aren't repeated, H must be the engineer.\"},\n",
       " {'topic': 'Logical Reasoning',\n",
       "  'question': \"On the island of knights and knaves, three inhabitants—Alaric, Bella, and Cody—make the following statements: Alaric says, 'Bella is a knight and Cody is a knave.' Bella says, 'Alaric is a knave or Cody is a knight.' Cody says, 'Alaric is a knight if and only if Bella is a knave.' How many of them are knights?\",\n",
       "  'choices': ['A) 1', 'B) 2', 'C) 3', 'D) 0'],\n",
       "  'answer': 'A',\n",
       "  'explanation': \"Assume Alaric is a knight. Then Bella is a knight and Cody is a knave. Bella's statement 'Alaric is a knave or Cody is a knight' would be false (since Alaric is a knight and Cody is a knave), contradicting Bella being a knight. Thus, Alaric must be a knave. If Alaric is a knave, his statement is false, so either Bella is a knave or Cody is a knight. If Bella is a knight, her statement 'Alaric is a knave or Cody is a knight' is true, which fits. Cody's statement 'Alaric is a knight iff Bella is a knave' is false (Alaric is a knave, Bella is a knight), so Cody is a knave. Thus, only Bella is a knight.\"},\n",
       " {'topic': 'Seating Arrangements (Linear, Circular)',\n",
       "  'question': 'Six people A, B, C, D, E, F sit around a circular table. A is directly opposite B. C is two seats to the left of D. E is adjacent to A and F. F is not adjacent to D. Who is sitting between C and D?',\n",
       "  'choices': ['A) A) E', 'B) B) F', 'C) C) A', 'D) D) B'],\n",
       "  'answer': 'B',\n",
       "  'explanation': 'C is two seats left of D. Since the table is circular, D is two seats right of C. The person between C and D must be F, as E is adjacent to A and F, and F is not adjacent to D. This fits all constraints.'},\n",
       " {'topic': 'Logical Reasoning',\n",
       "  'question': \"On an island of knights and knaves, three individuals—Milo, Nora, and Owen—make the following statements: Milo says, 'Nora is a knave and Owen is a knight.' Nora says, 'Milo is a knight or Owen is a knave.' Owen says, 'If Milo is a knave, then Nora is a knight.' How many of them are knights?\",\n",
       "  'choices': ['A) 0', 'B) 1', 'C) 2', 'D) 3'],\n",
       "  'answer': 'D',\n",
       "  'explanation': \"Assume Milo is a knight. Then Nora is a knave and Owen is a knight. Nora's statement 'Milo is a knight or Owen is a knave' would be false, which fits her being a knave. Owen's statement 'If Milo is a knave, then Nora is a knight' is vacuously true since Milo is a knight. Thus, all three are knights. D is correct.\"},\n",
       " {'topic': 'Seating Arrangements (Linear, Circular)',\n",
       "  'question': 'Nine people sit around a circular table. A is between B and C. D is two seats to the right of E, who is directly opposite F. G is adjacent to H, who is not adjacent to I. I is directly opposite J, who is two seats to the left of A. Who is sitting between D and F?',\n",
       "  'choices': ['A) A) B', 'B) B) C', 'C) C) G', 'D) D) H'],\n",
       "  'answer': 'C',\n",
       "  'explanation': 'D is two right of E, who is opposite F. I is opposite J, two left of A. G is adjacent to H, not adjacent to I. Thus, G is between D and F based on relative positions and adjacency constraints.'},\n",
       " {'topic': 'Logical Reasoning',\n",
       "  'question': \"On an island of knights and knaves, three individuals—Milo, Nora, and Otto—make the following statements: Milo says, 'Nora is a knave and Otto is a knight.' Nora says, 'Milo is a knight and Otto is a knave.' Otto says, 'Milo is a knave or Nora is a knight.' If exactly one of them is a knight, who is the knight?\",\n",
       "  'choices': ['A) Milo', 'B) Nora', 'C) Otto', 'D) None of them'],\n",
       "  'answer': 'B',\n",
       "  'explanation': \"Assume Milo is a knight: then Nora is a knave and Otto is a knight. But this contradicts the 'exactly one knight' condition. Assume Nora is a knight: then Milo is a knight and Otto is a knave. Again, contradiction. Assume Otto is a knight: his statement 'Milo is a knave or Nora is a knight' is true. If Milo is a knave, his statement is false, so Nora is a knight and Otto is a knave—contradiction. Only valid scenario: Nora is a knight, Milo and Otto are knaves. Her statement holds, and Otto's statement is false.\"},\n",
       " {'topic': 'Seating Arrangements (Linear, Circular)',\n",
       "  'question': 'Six people A, B, C, D, E, F sit around a circular table. A is two seats to the left of B, who is directly opposite C. D is adjacent to E, and F is two seats to the right of D. If A is not adjacent to F, who is sitting between B and C?',\n",
       "  'choices': ['A) A) D', 'B) B) E', 'C) C) F', 'D) D) A'],\n",
       "  'answer': 'D',\n",
       "  'explanation': 'B is opposite C, so they are not adjacent. A is two left of B, and F is two right of D. D is adjacent to E, so D and E are next to each other. A is not adjacent to F, so A must be between B and C. Thus, A is between B and C.'}]"
      ]
     },
     "execution_count": 43,
     "metadata": {},
     "output_type": "execute_result"
    }
   ],
   "source": [
    "filtered_questions"
   ]
  },
  {
   "cell_type": "code",
   "execution_count": 44,
   "id": "bbbd6a4e-4657-4840-aedb-1df75d46e2fd",
   "metadata": {
    "scrolled": true
   },
   "outputs": [
    {
     "name": "stdout",
     "output_type": "stream",
     "text": [
      "{'answer': 'C', 'reasoning': \"Assume C is a knight. Then C's statement 'A is a knight if and only if B is a knave' must be true. If A is a knight, then B must be a knave. But A says 'B is a knight and C is a knave', which would be false if A is a knight, contradicting the assumption. If A is a knave, then B must be a knight. But B says 'A is a knave or C is a knight', which is true if A is a knave. This fits with C being a knight and exactly one knight. Thus, C is the knight.\"}\n",
      "{'answer': 'B', 'reasoning': 'A is the brother of B, and B is the daughter of C. D, G, J, and M are all sons of different people, each with their own parents. Since A is the cousin of D, G, J, and M, they must share the same grandparent. Therefore, A is the cousin of M.'}\n",
      "{'answer': 'D', 'reasoning': \"H is the brother of G, who is the mother of F. Since A is the father of B, and B is the daughter of C, A is the father of C's child. D is the brother of C, making D the brother-in-law of A. H, being the brother of G, is the uncle of F and thus the uncle of A's family. Therefore, H is the uncle of A.\"}\n",
      "{'answer': 'B', 'reasoning': 'J is three seats to the left of A, so A is three seats to the right of J. Since the table is circular, A is directly opposite the person three seats away from J. A is between B and C, so B is on one side of A and C on the other. Therefore, the person directly opposite A is B.'}\n",
      "{'answer': 'D', 'reasoning': 'A is between B and F, so the order is B-A-F or F-A-B. E is directly opposite A, so E is across from A. C is two seats to the left of D. B is not adjacent to D. Placing the people around the table, E is opposite A, so E is next to D. Thus, the person sitting next to E is D.'}\n",
      "{'answer': 'D', 'reasoning': 'Since B faces outward, the arrangement is such that opposite seats face away from the center. A is two seats to the left of B, and B is opposite C. D is adjacent to E and faces the center. F is not adjacent to A. By placing the people according to these constraints, D ends up opposite A.'}\n",
      "{'answer': 'D', 'reasoning': 'From the clues, B is directly opposite C, so they are separated by 3 seats. A is two seats to the left of B, placing A two seats counterclockwise from B. D is adjacent to E, who is two seats to the right of F. F is not adjacent to A. Placing the people in a circle, the only person between A and B is D.'}\n",
      "{'answer': 'C', 'reasoning': \"Assume Gamma is the knight. Then Gamma's statement 'Alpha is a knave or Beta is a knight' must be true. If Alpha is a knave, his statement 'Beta is a knave and Gamma is a knight' is false, which is consistent. Beta's statement 'Alpha is a knight and Gamma is a knave' is also false, which is consistent. Thus, only Gamma is a knight, satisfying the condition of exactly one knight.\"}\n",
      "{'answer': 'A', 'reasoning': 'A is the son of B, and B is the daughter of C. D is the brother of C, so D is the uncle of B. E is the daughter of D, F is the son of E, G is the daughter of F, and H is the son of G. Therefore, H is the nephew of F, who is the son of E, who is the daughter of D, who is the brother of C, who is the parent of B. Thus, H is the cousin of A.'}\n",
      "{'answer': 'C', 'reasoning': \"Assume A is a knight. Then B is a knave and C is a knight. But B's statement would then be false, making B a knave, which is consistent. However, C's statement 'A is a knave or B is a knight' would be false if A is a knight and B is a knave, making C a knave, contradicting the assumption. If B is a knight, then A is a knight and C is a knave, but this leads to contradictions. If C is a knight, then either A is a knave or B is a knight. This is consistent with exactly one knight (C), as A and B's statements would be false. Thus, C is the knight.\"}\n",
      "{'answer': 'A', 'reasoning': \"Ravi's father is Ramesh. Raviya is the daughter of Radha, who is Ramesh's sister. Raviya is also the daughter of Ramesh's sister, making her Ravi's cousin. Since Raviya is the mother of Ravi's cousin, she is Ravi's aunt.\"}\n",
      "{'answer': 'B', 'reasoning': \"Assume Alaric is a knight. Then Bella is a knight and Cody is a knave. Bella's statement 'Alaric is a knave or Cody is a knight' would be false, contradicting her being a knight. If Alaric is a knave, his statement is false, so Bella is a knave or Cody is a knight. If Bella is a knave, her statement is true, which is a contradiction. If Cody is a knight, his statement 'Alaric is a knight if and only if Bella is a knave' is true, matching Alaric being a knave and Bella being a knave. Thus, only Cody is a knight. But this contradicts. Correct scenario: Alaric is a knave, Bella is a knight, Cody is a knight. Thus, two knights.\"}\n",
      "{'answer': 'C', 'reasoning': \"Assume Milo is a knight. Then his statement is true, so Nora is a knave and Owen is a knight. Nora's statement would then be false, which is consistent with her being a knave. Owen's statement is a conditional that is true if the antecedent is false or the consequent is true. Since Milo is a knight, the antecedent is false, making the conditional true. Thus, two are knights (Milo and Owen), making the answer C.\"}\n",
      "{'answer': 'D', 'reasoning': 'From the clues, I is directly opposite J, and J is two seats to the left of A. Since there are nine people, opposite means 4 seats apart. J is two seats left of A, so J is seat 3 left of A. I is directly opposite J, so I is 4 seats from J. By analyzing the positions and relationships, D is found to be between D and F based on the seating constraints.'}\n",
      "{'answer': 'C', 'reasoning': \"If Otto is the knight, his statement 'Milo is a knave or Nora is a knight' is true. Since exactly one is a knight, Milo and Nora must be knaves. Milo's statement 'Nora is a knave and Otto is a knight' would be false (as Nora is a knave and Otto is a knight, making the first part true but the second part true, so the whole statement is true, contradicting Milo being a knave). Nora's statement 'Milo is a knight and Otto is a knave' is false, which is consistent with her being a knave. Thus, Otto is the only knight.\"}\n"
     ]
    }
   ],
   "source": [
    "for a in filtered_answers:\n",
    "    if a is not None: print(a)"
   ]
  },
  {
   "cell_type": "markdown",
   "id": "ba1f7ccf",
   "metadata": {},
   "source": [
    "**An Example demonstrating how Q-agent matches up with A-agent**"
   ]
  },
  {
   "cell_type": "code",
   "execution_count": 45,
   "id": "57c11592",
   "metadata": {},
   "outputs": [
    {
     "name": "stdout",
     "output_type": "stream",
     "text": [
      "Number of questions: 18\n",
      "Number of correct answers: 4\n",
      "Scores:\n",
      "Team B: A-agent score: 22.22\n",
      "Team A: Q-agent score: 77.78\n",
      "Innings 1 winner: Team A\n"
     ]
    }
   ],
   "source": [
    "# calculate scores...\n",
    "N = len(filtered_questions)\n",
    "assert N == len(filtered_answers), \"Number of questions and answers must match.\"\n",
    "num_correct_answers = len([1 for q,a in zip(filtered_questions, filtered_answers) if a is not None and q['answer'] == a['answer']])\n",
    "\n",
    "# Here the answer may be correct, but since q['answer'] is not an option letter is not there, we face problems\n",
    "# Below shown is one way of simple string parsing\n",
    "num_correct_answers = len([1 for q,a in zip(filtered_questions, filtered_answers) if a is not None and q['answer'][0] == a['answer']])\n",
    "\n",
    "a_score = num_correct_answers*100/(N+1e-9)\n",
    "q_score = (N-num_correct_answers)*100/(N+1e-9)\n",
    "# Announce the scores\n",
    "print(f\"Number of questions: {N}\")\n",
    "print(f\"Number of correct answers: {num_correct_answers}\")\n",
    "print(\"Scores:\")\n",
    "print(f\"Team B: A-agent score: {a_score:.2f}\")\n",
    "print(f\"Team A: Q-agent score: {q_score:.2f}\")\n",
    "print(f\"Innings 1 winner: {'Team A' if q_score > a_score else 'Team B' if q_score < a_score else 'Draw'}\")\n",
    "# DRAW case is not HANDLED now"
   ]
  },
  {
   "cell_type": "code",
   "execution_count": 46,
   "id": "390fca1d-fd45-4d25-a06a-b909edaf8bbb",
   "metadata": {},
   "outputs": [
    {
     "ename": "AttributeError",
     "evalue": "module 'wandb' has no attribute 'finish'",
     "output_type": "error",
     "traceback": [
      "\u001b[31m---------------------------------------------------------------------------\u001b[39m",
      "\u001b[31mAttributeError\u001b[39m                            Traceback (most recent call last)",
      "\u001b[36mCell\u001b[39m\u001b[36m \u001b[39m\u001b[32mIn[46]\u001b[39m\u001b[32m, line 1\u001b[39m\n\u001b[32m----> \u001b[39m\u001b[32m1\u001b[39m \u001b[43mwandb\u001b[49m\u001b[43m.\u001b[49m\u001b[43mfinish\u001b[49m()\n",
      "\u001b[31mAttributeError\u001b[39m: module 'wandb' has no attribute 'finish'"
     ]
    }
   ],
   "source": [
    "wandb.finish()"
   ]
  },
  {
   "cell_type": "code",
   "execution_count": 47,
   "id": "14acf744-114f-4082-9d79-6c95aa778cc3",
   "metadata": {},
   "outputs": [
    {
     "name": "stdout",
     "output_type": "stream",
     "text": [
      "/bin/bash: line 1: wandb: command not found\n"
     ]
    }
   ],
   "source": [
    "!wandb sync wandb\n"
   ]
  },
  {
   "cell_type": "code",
   "execution_count": null,
   "id": "5959b066-8c27-4ad7-9af4-4eaae616c37a",
   "metadata": {},
   "outputs": [],
   "source": []
  }
 ],
 "metadata": {
  "kernelspec": {
   "display_name": "Python 3 (ipykernel)",
   "language": "python",
   "name": "python3"
  },
  "language_info": {
   "codemirror_mode": {
    "name": "ipython",
    "version": 3
   },
   "file_extension": ".py",
   "mimetype": "text/x-python",
   "name": "python",
   "nbconvert_exporter": "python",
   "pygments_lexer": "ipython3",
   "version": "3.12.10"
  }
 },
 "nbformat": 4,
 "nbformat_minor": 5
}
