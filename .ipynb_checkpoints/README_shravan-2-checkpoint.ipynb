{
 "cells": [
  {
   "cell_type": "markdown",
   "id": "480066b8",
   "metadata": {},
   "source": [
    "<h1 align='center'>Welcome to the AMD AI Premier League (AAIPL)!</h1>\n"
   ]
  },
  {
   "cell_type": "markdown",
   "id": "e3ea12fc",
   "metadata": {},
   "source": [
    "#<!-- <img src=\"./assets/aaipl.png\"> -->\n",
    "#<img src=\"./assets/AMDAAIPL.png\">"
   ]
  },
  {
   "cell_type": "markdown",
   "id": "09b4b3fe",
   "metadata": {},
   "source": [
    "\n",
    "---\n",
    "## Task:\n",
    "Here you will be building:\n",
    "1.  A question agent or Q-agent (e.g., [question_model.py](./agents/question_model.py) & [question_agent.py](./agents/question_agent.py)) that will ask some $N$ puzzle-based questions based on some given [topics](./assets/topics.json). *Note your question agent should output questions in the format specified in [sample_question.json](./assets/sample_question.json)*.\n",
    "2.  Also, an answer agent or A-agent (e.g., [answer_model.py](./agents/answer_model.py) & [answer_agent.py](./agents/answer_agent.py)) that answer questions asked from question agent. Here too, the format of the output should follow as specified in [sample_answer.json](./assets/sample_answer.json) file.\n",
    "\n",
    "---\n"
   ]
  },
  {
   "cell_type": "markdown",
   "id": "5ed3cfa0",
   "metadata": {
    "jp-MarkdownHeadingCollapsed": true
   },
   "source": [
    "## Instructions\n",
    "\n",
    "1.  How to initiate your work station?\n",
    "    -   Type `http://xxx.xxx.xxx.xxx:8080` link (in *Chrome*), where `xxx.xxx.xxx.xxx` is the 12 (or 11) digit IP shared with each team. Hiting this URL, will open up a Jupyter lab page. Enter the token as `amdhack` (same for all).\n",
    "    -   Upon landing into Jupyter Lab page, on left side (i.e., folders), you will see `AAIPL/`, `hf_models/`. All this will be inside `/jupyter-tutorial` directory.\n",
    "    -   Within `hf_models/` there are some base checkpoints which will be used for question and answer agent creation. For both, Q-agent and A-agent, we are using `Qwen3-4B` (with `enable_thinking=False` to avoid thinking tokens) as base model.\n",
    "    -   Note that inside `AAIPL/`, there is a `tutorial` folder which consists of python scripts and `.ipynb` file demonstrating how to do *SFT*, *GRPO*, and *Prompt-tuning*. You are encouraged to, of course, improve/edit upon this (BYOC). No need to stick with this strictly.\n",
    "2.  You got 24 hrs to bake this cake!\n",
    "3.  All the BEST!"
   ]
  },
  {
   "cell_type": "markdown",
   "id": "3cfd0427",
   "metadata": {},
   "source": [
    "## 📚 Table of Contents:\n",
    "- 🏁 [Welcome to the AMD AI Premier League (AAIPL)!](#welcome-to-the-amd-ai-premier-league-aaipl)\n",
    "- 📝 [Task](#task)\n",
    "- ⚙️ [Instructions](#instructions)\n",
    "- 🏏 [Tournament Overview](#tournament-overview)\n",
    "- 📋 [Guidelines](#guidelines)\n",
    "    - [Naming Conventions](#naming-conventions)\n",
    "    - [Format Overview](#format-overview)\n",
    "- 🛠️ [What you will submit?](#️what-you-will-submit)\n",
    "- ⚠️ [RESTRICTIONS](#restrictions)\n",
    "    - [ALLOWED](#allowed)\n",
    "- 📂 [Directory & Files overview](#directory--files-overview)\n",
    "- 🚀 [Env Setup](#env-setup)\n",
    "- 🎮 [Let the GAME begin!!!](#let-the-game-begin)\n",
    "    - 🤔 [Q-Agent](#q-agent)\n",
    "        - ✅ [Basic format-checks for questions from Q-agent](#basic-format-checks-for-questions-from-q-agent)\n",
    "    - 🤖 [A-agent](#a-agent)\n",
    "        - ✅ [Basic format-checks for answers from A-agent](#basic-format-checks-for-answers-from-a-agent)\n",
    "- 🏅 [Evaluation](#evaluation)\n",
    "    - 📊 [Scoring Criteria](#scoring-criteria)\n",
    "- ⏱ [Time Limit](#time-limit)\n",
    "<!-- - 🏆 [LeaderBoard UI/UX](#leaderboard-uiux) -->"
   ]
  },
  {
   "cell_type": "markdown",
   "id": "9386cb37",
   "metadata": {
    "jp-MarkdownHeadingCollapsed": true
   },
   "source": [
    "## Tournament Overview\n",
    "<!-- 🏏  -->\n",
    "1.  All matches in this tournament will be **1v1** knockout format where two teams, Team-A vs Team-B, will compete with their Q-agent (question agent) and A-agent (answer agent). For simplicity think Q-agent to be bowler and A-agent to be batsman.\n",
    "2.  Like a cricket match, this would also have two innings:\n",
    "\n",
    "    -   1st inning:\n",
    "        *   $N$ Question from the Q-agent (Team-A) and their corresponding $N$ answers from the A-agent (Team-B).\n",
    "        *   Q-agent score (Team-A): Say, $40$\n",
    "        *   A-agent score (Team-B): $60$\n",
    "\n",
    "    -   2nd inning:\n",
    "        *   $N$ Question from the Q-agent (Team-B) and their respective $N$ responses from the A-agent (Team-A).\n",
    "        *   Q-agent score (Team-B): Say, $70$\n",
    "        *   A-agent score (Team-A): $30$\n",
    "    -   Final Score:\n",
    "        *   Team-A score $=$ 1st inning Q-agent score $+$ 2nd inning A-agent score $= 40 + 30 = 70$\n",
    "        *   Team-B score $=$ 1st inning Q-agent score $+$ 2nd inning A-agent score $= 60 + 70 = 130$\n",
    "\n",
    "    -   Winner: **Team-B** with a score of $130$.\n",
    "    -   For more info on <b> how SCORING is done</b>, kindly refer to this [cell](#scoring-criteria).\n",
    "\n",
    "<u>NOTE</u>: In case of **TIE**, we will use some (closed) benchmark questions, we will evaluate your answer agents (A-agent) and rank the teams accordingly.\n",
    "\n",
    "**Whichever Team's Q-agent fails to generate atleast $50\\%$ of `num_questions` (where `num_questions` ranges from $2$ to $1000+$) of the questions correctly (as per [format-checking](#format-overview)) will be automatically disqualified.**<br>\n",
    "<u>Note</u>: Here $N$ denotes the number of filtered / format-correct questions.\n"
   ]
  },
  {
   "cell_type": "markdown",
   "id": "2deab9cf",
   "metadata": {},
   "source": [
    "\n",
    "## Guidelines:\n",
    "<!-- 📋  -->\n",
    "#### Naming Conventions:\n",
    "<ol type=\"a\">\n",
    "    <li>Rename this whole folder as <code>AAIPL_your_IP</code> if not done already. This <code>your_IP</code> will be <code>_</code> separated IPv4 address, no special-characters allowed. Follow the below <a href=\"#what-you-will-submit\">cell</a> for more info</li>\n",
    "    <li> For Q-agent:\n",
    "        <ol type=\"i\">\n",
    "            <li>For Q-agent wrapper <code>.py</code> file: <code>agents/question_agent.py</code>.</li>\n",
    "            <li>For Q-agent model <code>.py</code> file: <code>agents/question_model.py</code>.</li>\n",
    "        </ol>\n",
    "    </li>\n",
    "    <li> For A-agent:\n",
    "        <ol type=\"i\">\n",
    "            <li>For A-agent wrapper <code>.py</code> file: <code>agents/answer_agent.py</code>.</li>\n",
    "            <li>For A-agent model <code>.py</code> file: <code>agents/answer_model.py</code>.</li>\n",
    "        </ol>\n",
    "    </li>\n",
    "</ol>\n",
    "\n",
    "\n",
    "#### Format Overview\n",
    "-   <u>Q-Agent</u>: Given a topic, the Q-agent should generate questions in the specified JSON format:\n",
    "    ```json\n",
    "    {\n",
    "    \"topic\": \"<Topic of the Question>\",\n",
    "    \"question\": \"<full question text>\",\n",
    "    \"choices\": [\n",
    "        \"A) <choice A text>\",\n",
    "        \"B) <choice B text>\",\n",
    "        \"C) <choice C text>\",\n",
    "        \"D) <choice D text>\"\n",
    "    ],\n",
    "    \"answer\": \"<correct choice letter only>\",\n",
    "    \"explanation\": \"brief explanation within 100 words for why the answer is correct\"\n",
    "    }\n",
    "    ```\n",
    "    from which we will extract **ONLY** the **\"Question\"** and **\"Choices\"** keys and feed it to the answer agent. The **\"Topic\"**, **\"Question\"**, **\"Choices\"**, and **\"Answer\"** will be verified for correctness from an Oracle.\n",
    "-   <u>A-agent</u>: Given a Question and Choices, A-agent should produce answer in the format of:\n",
    "    ```json\n",
    "    {\n",
    "        \"answer\": \"<correct choice letter only>\",\n",
    "        \"reasoning\": \"brief reasoning within 100 words for why the answer is correct\"\n",
    "    }\n",
    "    ```\n",
    "    where we will extract ONLY the **\"Answer\"** key and compare it with **\"Answer\"** from the opponent's question.\n",
    "-   *<u>Remarks</u>: Having explanation and reasoning is a plus. Not having them doesn't disqualify the question or answer being correct.*\n",
    "    \n",
    "**<u>Note</u>**: *We will only consider those responses from the Q-agent and the A-agent which follow the above format.*\n"
   ]
  },
  {
   "cell_type": "markdown",
   "id": "b858a803",
   "metadata": {},
   "source": [
    "## What you will submit?\n",
    "<!-- 🛠️  -->\n",
    "You need to submit your code which should contain these main files:\n",
    "\n",
    "<!-- *   `q_agent.py` (with one arg as `num_quetions: int`) - On running with `num_questions=20` should generate 20 questions in the required format as above.\n",
    "*   `a_agent.py` (with two args as `Question: str` and `Choices: List[str]`) - On running with the above two args should produce the o/p in the required format as above. -->\n",
    "<!-- 1. Submit the whole folder AAIPL with its name modified to `AAIP_<your_team_name_in_alphanumeric>`. No special characters, e.g., `#`, `@`, `!`, etc. are allowed in the team name. \n",
    "   - Example: `AAIP_Team1` or `AAIP_Team23` or `AAIP_Win47` are valid, but `AAIP_Team#1` or `AAIP_Team@1` are not.\n",
    "2. Also put Checkpoints (e.g., `model.safetensors` or `.pt` or `.pth`) file (situated at e.g., `ckpts/`) - given that they get successfully loaded automatically, when we execute inference as done above for both, question and answer agent.\n",
    "3. `requirements.txt` - This file lists all the extra dependencies required to run your agents apart from `default_requirements.txt`. -->\n",
    "\n",
    "1. Rename the `AAIPL` folder to `AAIPL_<your_IP_address>` if not done already. NO special characters, e.g., `#`, `@`, `!`, etc. are allowed except underscore, `_`, in the team name. \n",
    "   - Example: `AAIPL_192_154_162_143` or `AAIPL_192_154_182_14` are valid, but `AAIPL_Team#1` or `AAIPL_Team@1` are not. \n",
    "1. **No need to upload anything to anywhere, we'll collect your codes at sharp 2:00 PM - 13th July, 2025 from your Jupyter Server.**\n",
    "2. <span style=\"color: red;\">Don't forget to add your PPT (in `solution.pdf` format) summarizing the techniques you adopted to execute this task better, relative to this file (i.e., just inside `AAIPL_xxx_xxx_xxx_xxx` folder).</span>\n",
    "3. **ENSURE model checkpoint(s) (e.g., `model.safetensors` or `.pt` or `.pth`) is(are) loading and expected files are getting generated from Q-agent and A-agent, when inference is done. And put all your checkpoints in the `ckpt/` folder, located just inside `AAIPL_<your_IP>/`.**\n",
    "4. **<u>NOTE</u>: You are not required to generate any `.json` for us, we'll do that for you during evaluation setting a specific value to $N$.**\n",
    "\n",
    "<u><span style=\"color: blue\">NOTE</span></u>: These files will be checked for any hardcoding, RAG, or other unfair practices.<br>\n",
    "<u><span style=\"color: red\">REMARKS / CAUTION</span></u>: A-agent is equally important as Q-agent. So, please do focus on both."
   ]
  },
  {
   "cell_type": "markdown",
   "id": "fe1cc2ce",
   "metadata": {},
   "source": [
    "## RESTRICTIONS\n",
    "<!-- ⚠️ -->\n",
    "\n",
    "1.  Kindly don't use any sort of ***RAG (Retrieval Augmented Generation)*** techniques. If found, the submission won't be considered for further evaluations.\n",
    "2.  **Usage of base models other than what given for Question (i.e., `Qwen3-4B`) and Answer (i.e., again `Qwen3-4B`) agent, will lead to disqualification.**\n",
    "3.  Do follow the guidelines as mentioned in [What you will submit?](#what-you-will-submit) section.\n",
    "4.  **<span style=\"color: red\">NO</span> LAST Minute Submission**: The submission deadline is strict. Upload link will expires just one minute before the deadline. So, please make sure you submit your code well in advance.\n",
    "5.  Any **<span style=\"color: red\">HACKEY</span>** approach or **hard-coding** will lead to disqualification.\n",
    "    -   E.g., Any hard-coded *adversarial attacks* that make A-agent hallucinates.\n",
    "6.  **Language Restriction**: ONLY English language is allowed for both Q-agent and A-agent. Any other language will lead to disqualification.\n",
    "7.  Strictly stay within the `max_tokens` limit as specified in `agen.yaml` & `qgen.yaml`. While other parameters can be changed as per your convenience.\n",
    "8.  $N$ should be passed as an argument to `question_agent.py`. We'll test for $N=1$. `--num_questions` is the argument.\n",
    "9.  Ensure **$40\\%$** of the questions you generate gets filtered into `questions.json`.\n",
    "\n",
    "\n",
    "### ALLOWED\n",
    "<!-- ✅  -->\n",
    "1.  Participants are encouraged to modify the code scripts (for any sort of training, data construction, inference, such that the above constraints are not overruled).\n",
    "2.  If you want to add `WANDB_API_KEY` for `wandb` logging do it in add `WANDB_API_KEY=xxxxxxx` before `python -m <script>.py` command. E.g., `!WANDB_API_KEY=xxxxxxx python -m agents.question_agent \\`\n"
   ]
  },
  {
   "cell_type": "markdown",
   "id": "f0f34ed1",
   "metadata": {},
   "source": [
    "## Token & Time Limit:\n",
    "<!-- ⏱  -->\n",
    "*   Maximum length (e.g., `max_token`) limit for your model response should be within following tokens.\n",
    "    *   For question-agent (Q-Agent) it is $100$ tokens cumulatively for the content corresponding to [`topic`, `question`, `choices`, and `answer`]. This excludes token count for double quotes as well as string length for topic, question, choices, and answer string it\n",
    "    *   And the rest is for explanation i.e., $1024-100 = 924$. But within time limit\n",
    "*   `ckpt` is the folder 📂 which you will place under `AAIPL_XXX_XXX_XXX_XXX`. While `checkpoints` folder 📂 inside `tutorial/` is meant for tutorial.\n",
    "*   Each question should be generated under `10 secs`. Overall time for 100 questions should be no more than `1000 secs` ~ `17 mins`.\n",
    "*   Each answer should be generated under `6 secs`. Overall time for 100 answers should be no more than `600 secs` ~ `10 mins`.\n",
    "*   *Note: We will only consider those questions' and answers' JSON file that remain under the time limit.*"
   ]
  },
  {
   "cell_type": "markdown",
   "id": "7b562cb4",
   "metadata": {},
   "source": [
    "### Directory & Files overview\n",
    "<!-- 📂  -->\n",
    "```\n",
    ".\n",
    "├── agents\n",
    "│   ├── question_model.py\n",
    "│   ├── question_agent.py\n",
    "│   ├── answer_model.py\n",
    "│   └── answer_agent.py\n",
    "├── tutorial # guide on how to SFT and GRPO\n",
    "│   ├── checkpoints #\n",
    "│   │     ├── sft # save sft checkpoints here while in tutorial\n",
    "│   │     ├── grpo # save grpo checkpoints here while in tutorial\n",
    "│   │     └── demo\n",
    "│   │         ├── sft # pre-trained sft (LoRA) ckpt\n",
    "│   │         └── grpo # same as above but for GRPO\n",
    "│   ├── tutorial.ipynb # guide on how to SFT and GRPO\n",
    "│   ├── trainer.py # sample training for Gemma with LoRA (SFT) and GRPO\n",
    "│   ├── answer_model2.py # inference script for the same. Copy it to agents/. for using this as question generator\n",
    "│   ├── formatted_questions_array.json # Sample question data for doing SFT and GRPO\n",
    "│   └── test_questions_array.json # Sample test question to evaluate the SFTed or GRPOed model\n",
    "├── assets\n",
    "│   ├── topics_example.json # example questions w.r.t each topic\n",
    "│   ├── topics.json # Topics on which we require to generate questions\n",
    "│   ├── sample_question.json # File specifying expected format of questions generated\n",
    "│   ├── sample_answer.json # Expected format of answers generated\n",
    "│   └── AMDAAIPL.png # Teaser image for the AAIPL\n",
    "├── utils\n",
    "│   └── build_prompt.py # prompt-tuning scripts\n",
    "├── README.ipynb\n",
    "├── outputs # That will consists of outputs from question_agent.py and answer_agent.py\n",
    "├── ckpt # That will consists of checkpoints for question_agent.py and answer_agent.py if any training is done.\n",
    "├── qgen.yaml # Generation specific parameters for Q-agent\n",
    "├── agen.yaml # Generation specific parameters for A-agent\n",
    "└── default_requirements.txt # Packages required\n",
    "```\n",
    "   "
   ]
  },
  {
   "cell_type": "markdown",
   "id": "f4fc970e",
   "metadata": {},
   "source": [
    "### Env Setup\n",
    "<!-- 🚀 -->"
   ]
  },
  {
   "cell_type": "code",
   "execution_count": 1,
   "id": "4308a46f",
   "metadata": {
    "scrolled": true
   },
   "outputs": [
    {
     "name": "stdout",
     "output_type": "stream",
     "text": [
      "Requirement already satisfied: trl==0.19.0 in /usr/local/lib/python3.12/dist-packages (from -r default_requirements.txt (line 1)) (0.19.0)\n",
      "Requirement already satisfied: wandb==0.20.1 in /usr/local/lib/python3.12/dist-packages (from -r default_requirements.txt (line 2)) (0.20.1)\n",
      "Requirement already satisfied: ipdb==0.13.13 in /usr/local/lib/python3.12/dist-packages (from -r default_requirements.txt (line 3)) (0.13.13)\n",
      "Requirement already satisfied: transformers==4.51.3 in /usr/local/lib/python3.12/dist-packages (from -r default_requirements.txt (line 4)) (4.51.3)\n",
      "Requirement already satisfied: unsloth in /usr/local/lib/python3.12/dist-packages (from -r default_requirements.txt (line 5)) (2025.7.3)\n",
      "Requirement already satisfied: accelerate>=1.4.0 in /usr/local/lib/python3.12/dist-packages (from trl==0.19.0->-r default_requirements.txt (line 1)) (1.7.0)\n",
      "Requirement already satisfied: datasets>=3.0.0 in /usr/local/lib/python3.12/dist-packages (from trl==0.19.0->-r default_requirements.txt (line 1)) (3.6.0)\n",
      "Requirement already satisfied: click!=8.0.0,>=7.1 in /usr/local/lib/python3.12/dist-packages (from wandb==0.20.1->-r default_requirements.txt (line 2)) (8.1.8)\n",
      "Requirement already satisfied: gitpython!=3.1.29,>=1.0.0 in /usr/local/lib/python3.12/dist-packages (from wandb==0.20.1->-r default_requirements.txt (line 2)) (3.1.44)\n",
      "Requirement already satisfied: packaging in /usr/local/lib/python3.12/dist-packages (from wandb==0.20.1->-r default_requirements.txt (line 2)) (24.2)\n",
      "Requirement already satisfied: platformdirs in /usr/local/lib/python3.12/dist-packages (from wandb==0.20.1->-r default_requirements.txt (line 2)) (4.3.8)\n",
      "Requirement already satisfied: protobuf!=4.21.0,!=5.28.0,<7,>=3.19.0 in /usr/local/lib/python3.12/dist-packages (from wandb==0.20.1->-r default_requirements.txt (line 2)) (3.20.3)\n",
      "Requirement already satisfied: psutil>=5.0.0 in /usr/local/lib/python3.12/dist-packages (from wandb==0.20.1->-r default_requirements.txt (line 2)) (7.0.0)\n",
      "Requirement already satisfied: pydantic<3 in /usr/local/lib/python3.12/dist-packages (from wandb==0.20.1->-r default_requirements.txt (line 2)) (2.11.4)\n",
      "Requirement already satisfied: pyyaml in /usr/local/lib/python3.12/dist-packages (from wandb==0.20.1->-r default_requirements.txt (line 2)) (6.0.2)\n",
      "Requirement already satisfied: requests<3,>=2.0.0 in /usr/local/lib/python3.12/dist-packages (from wandb==0.20.1->-r default_requirements.txt (line 2)) (2.32.3)\n",
      "Requirement already satisfied: sentry-sdk>=2.0.0 in /usr/local/lib/python3.12/dist-packages (from wandb==0.20.1->-r default_requirements.txt (line 2)) (2.33.0)\n",
      "Requirement already satisfied: setproctitle in /usr/local/lib/python3.12/dist-packages (from wandb==0.20.1->-r default_requirements.txt (line 2)) (1.3.6)\n",
      "Requirement already satisfied: typing-extensions<5,>=4.8 in /usr/local/lib/python3.12/dist-packages (from wandb==0.20.1->-r default_requirements.txt (line 2)) (4.14.1)\n",
      "Requirement already satisfied: ipython>=7.31.1 in /usr/local/lib/python3.12/dist-packages (from ipdb==0.13.13->-r default_requirements.txt (line 3)) (9.3.0)\n",
      "Requirement already satisfied: decorator in /usr/local/lib/python3.12/dist-packages (from ipdb==0.13.13->-r default_requirements.txt (line 3)) (5.2.1)\n",
      "Requirement already satisfied: filelock in /usr/local/lib/python3.12/dist-packages (from transformers==4.51.3->-r default_requirements.txt (line 4)) (3.18.0)\n",
      "Requirement already satisfied: huggingface-hub<1.0,>=0.30.0 in /usr/local/lib/python3.12/dist-packages (from transformers==4.51.3->-r default_requirements.txt (line 4)) (0.31.4)\n",
      "Requirement already satisfied: numpy>=1.17 in /usr/local/lib/python3.12/dist-packages (from transformers==4.51.3->-r default_requirements.txt (line 4)) (1.26.4)\n",
      "Requirement already satisfied: regex!=2019.12.17 in /usr/local/lib/python3.12/dist-packages (from transformers==4.51.3->-r default_requirements.txt (line 4)) (2024.11.6)\n",
      "Requirement already satisfied: tokenizers<0.22,>=0.21 in /usr/local/lib/python3.12/dist-packages (from transformers==4.51.3->-r default_requirements.txt (line 4)) (0.21.1)\n",
      "Requirement already satisfied: safetensors>=0.4.3 in /usr/local/lib/python3.12/dist-packages (from transformers==4.51.3->-r default_requirements.txt (line 4)) (0.5.3)\n",
      "Requirement already satisfied: tqdm>=4.27 in /usr/local/lib/python3.12/dist-packages (from transformers==4.51.3->-r default_requirements.txt (line 4)) (4.67.1)\n",
      "Requirement already satisfied: fsspec>=2023.5.0 in /usr/local/lib/python3.12/dist-packages (from huggingface-hub<1.0,>=0.30.0->transformers==4.51.3->-r default_requirements.txt (line 4)) (2025.3.0)\n",
      "Requirement already satisfied: annotated-types>=0.6.0 in /usr/local/lib/python3.12/dist-packages (from pydantic<3->wandb==0.20.1->-r default_requirements.txt (line 2)) (0.7.0)\n",
      "Requirement already satisfied: pydantic-core==2.33.2 in /usr/local/lib/python3.12/dist-packages (from pydantic<3->wandb==0.20.1->-r default_requirements.txt (line 2)) (2.33.2)\n",
      "Requirement already satisfied: typing-inspection>=0.4.0 in /usr/local/lib/python3.12/dist-packages (from pydantic<3->wandb==0.20.1->-r default_requirements.txt (line 2)) (0.4.0)\n",
      "Requirement already satisfied: charset-normalizer<4,>=2 in /usr/local/lib/python3.12/dist-packages (from requests<3,>=2.0.0->wandb==0.20.1->-r default_requirements.txt (line 2)) (3.4.2)\n",
      "Requirement already satisfied: idna<4,>=2.5 in /usr/local/lib/python3.12/dist-packages (from requests<3,>=2.0.0->wandb==0.20.1->-r default_requirements.txt (line 2)) (3.10)\n",
      "Requirement already satisfied: urllib3<3,>=1.21.1 in /usr/local/lib/python3.12/dist-packages (from requests<3,>=2.0.0->wandb==0.20.1->-r default_requirements.txt (line 2)) (2.4.0)\n",
      "Requirement already satisfied: certifi>=2017.4.17 in /usr/local/lib/python3.12/dist-packages (from requests<3,>=2.0.0->wandb==0.20.1->-r default_requirements.txt (line 2)) (2025.4.26)\n",
      "Requirement already satisfied: unsloth_zoo>=2025.7.4 in /usr/local/lib/python3.12/dist-packages (from unsloth->-r default_requirements.txt (line 5)) (2025.7.4)\n",
      "Requirement already satisfied: torch>=2.4.0 in /usr/local/lib/python3.12/dist-packages (from unsloth->-r default_requirements.txt (line 5)) (2.7.1)\n",
      "Requirement already satisfied: xformers>=0.0.27.post2 in /usr/local/lib/python3.12/dist-packages (from unsloth->-r default_requirements.txt (line 5)) (0.0.31.post1)\n",
      "Requirement already satisfied: bitsandbytes in /usr/local/lib/python3.12/dist-packages (from unsloth->-r default_requirements.txt (line 5)) (0.46.1)\n",
      "Requirement already satisfied: triton>=3.0.0 in /usr/local/lib/python3.12/dist-packages (from unsloth->-r default_requirements.txt (line 5)) (3.3.1)\n",
      "Requirement already satisfied: tyro in /usr/local/lib/python3.12/dist-packages (from unsloth->-r default_requirements.txt (line 5)) (0.9.26)\n",
      "Requirement already satisfied: sentencepiece>=0.2.0 in /usr/local/lib/python3.12/dist-packages (from unsloth->-r default_requirements.txt (line 5)) (0.2.0)\n",
      "Requirement already satisfied: wheel>=0.42.0 in /usr/local/lib/python3.12/dist-packages (from unsloth->-r default_requirements.txt (line 5)) (0.45.1)\n",
      "Requirement already satisfied: peft!=0.11.0,>=0.7.1 in /usr/local/lib/python3.12/dist-packages (from unsloth->-r default_requirements.txt (line 5)) (0.15.2)\n",
      "Requirement already satisfied: hf_transfer in /usr/local/lib/python3.12/dist-packages (from unsloth->-r default_requirements.txt (line 5)) (0.1.9)\n",
      "Requirement already satisfied: diffusers in /usr/local/lib/python3.12/dist-packages (from unsloth->-r default_requirements.txt (line 5)) (0.34.0)\n",
      "Requirement already satisfied: torchvision in /usr/local/lib/python3.12/dist-packages (from unsloth->-r default_requirements.txt (line 5)) (0.21.0+7af6987)\n",
      "Requirement already satisfied: pyarrow>=15.0.0 in /usr/local/lib/python3.12/dist-packages (from datasets>=3.0.0->trl==0.19.0->-r default_requirements.txt (line 1)) (20.0.0)\n",
      "Requirement already satisfied: dill<0.3.9,>=0.3.0 in /usr/local/lib/python3.12/dist-packages (from datasets>=3.0.0->trl==0.19.0->-r default_requirements.txt (line 1)) (0.3.8)\n",
      "Requirement already satisfied: pandas in /usr/local/lib/python3.12/dist-packages (from datasets>=3.0.0->trl==0.19.0->-r default_requirements.txt (line 1)) (2.2.3)\n",
      "Requirement already satisfied: xxhash in /usr/local/lib/python3.12/dist-packages (from datasets>=3.0.0->trl==0.19.0->-r default_requirements.txt (line 1)) (3.5.0)\n",
      "Requirement already satisfied: multiprocess<0.70.17 in /usr/local/lib/python3.12/dist-packages (from datasets>=3.0.0->trl==0.19.0->-r default_requirements.txt (line 1)) (0.70.16)\n",
      "Requirement already satisfied: aiohttp!=4.0.0a0,!=4.0.0a1 in /usr/local/lib/python3.12/dist-packages (from fsspec[http]<=2025.3.0,>=2023.1.0->datasets>=3.0.0->trl==0.19.0->-r default_requirements.txt (line 1)) (3.11.18)\n",
      "Requirement already satisfied: aiohappyeyeballs>=2.3.0 in /usr/local/lib/python3.12/dist-packages (from aiohttp!=4.0.0a0,!=4.0.0a1->fsspec[http]<=2025.3.0,>=2023.1.0->datasets>=3.0.0->trl==0.19.0->-r default_requirements.txt (line 1)) (2.6.1)\n",
      "Requirement already satisfied: aiosignal>=1.1.2 in /usr/local/lib/python3.12/dist-packages (from aiohttp!=4.0.0a0,!=4.0.0a1->fsspec[http]<=2025.3.0,>=2023.1.0->datasets>=3.0.0->trl==0.19.0->-r default_requirements.txt (line 1)) (1.3.2)\n",
      "Requirement already satisfied: attrs>=17.3.0 in /usr/local/lib/python3.12/dist-packages (from aiohttp!=4.0.0a0,!=4.0.0a1->fsspec[http]<=2025.3.0,>=2023.1.0->datasets>=3.0.0->trl==0.19.0->-r default_requirements.txt (line 1)) (25.3.0)\n",
      "Requirement already satisfied: frozenlist>=1.1.1 in /usr/local/lib/python3.12/dist-packages (from aiohttp!=4.0.0a0,!=4.0.0a1->fsspec[http]<=2025.3.0,>=2023.1.0->datasets>=3.0.0->trl==0.19.0->-r default_requirements.txt (line 1)) (1.6.0)\n",
      "Requirement already satisfied: multidict<7.0,>=4.5 in /usr/local/lib/python3.12/dist-packages (from aiohttp!=4.0.0a0,!=4.0.0a1->fsspec[http]<=2025.3.0,>=2023.1.0->datasets>=3.0.0->trl==0.19.0->-r default_requirements.txt (line 1)) (6.4.4)\n",
      "Requirement already satisfied: propcache>=0.2.0 in /usr/local/lib/python3.12/dist-packages (from aiohttp!=4.0.0a0,!=4.0.0a1->fsspec[http]<=2025.3.0,>=2023.1.0->datasets>=3.0.0->trl==0.19.0->-r default_requirements.txt (line 1)) (0.3.1)\n",
      "Requirement already satisfied: yarl<2.0,>=1.17.0 in /usr/local/lib/python3.12/dist-packages (from aiohttp!=4.0.0a0,!=4.0.0a1->fsspec[http]<=2025.3.0,>=2023.1.0->datasets>=3.0.0->trl==0.19.0->-r default_requirements.txt (line 1)) (1.20.0)\n",
      "Requirement already satisfied: gitdb<5,>=4.0.1 in /usr/local/lib/python3.12/dist-packages (from gitpython!=3.1.29,>=1.0.0->wandb==0.20.1->-r default_requirements.txt (line 2)) (4.0.12)\n",
      "Requirement already satisfied: smmap<6,>=3.0.1 in /usr/local/lib/python3.12/dist-packages (from gitdb<5,>=4.0.1->gitpython!=3.1.29,>=1.0.0->wandb==0.20.1->-r default_requirements.txt (line 2)) (5.0.2)\n",
      "Requirement already satisfied: ipython-pygments-lexers in /usr/local/lib/python3.12/dist-packages (from ipython>=7.31.1->ipdb==0.13.13->-r default_requirements.txt (line 3)) (1.1.1)\n",
      "Requirement already satisfied: jedi>=0.16 in /usr/local/lib/python3.12/dist-packages (from ipython>=7.31.1->ipdb==0.13.13->-r default_requirements.txt (line 3)) (0.19.2)\n",
      "Requirement already satisfied: matplotlib-inline in /usr/local/lib/python3.12/dist-packages (from ipython>=7.31.1->ipdb==0.13.13->-r default_requirements.txt (line 3)) (0.1.7)\n",
      "Requirement already satisfied: pexpect>4.3 in /usr/local/lib/python3.12/dist-packages (from ipython>=7.31.1->ipdb==0.13.13->-r default_requirements.txt (line 3)) (4.9.0)\n",
      "Requirement already satisfied: prompt_toolkit<3.1.0,>=3.0.41 in /usr/local/lib/python3.12/dist-packages (from ipython>=7.31.1->ipdb==0.13.13->-r default_requirements.txt (line 3)) (3.0.51)\n",
      "Requirement already satisfied: pygments>=2.4.0 in /usr/local/lib/python3.12/dist-packages (from ipython>=7.31.1->ipdb==0.13.13->-r default_requirements.txt (line 3)) (2.19.1)\n",
      "Requirement already satisfied: stack_data in /usr/local/lib/python3.12/dist-packages (from ipython>=7.31.1->ipdb==0.13.13->-r default_requirements.txt (line 3)) (0.6.3)\n",
      "Requirement already satisfied: traitlets>=5.13.0 in /usr/local/lib/python3.12/dist-packages (from ipython>=7.31.1->ipdb==0.13.13->-r default_requirements.txt (line 3)) (5.14.3)\n",
      "Requirement already satisfied: wcwidth in /usr/local/lib/python3.12/dist-packages (from prompt_toolkit<3.1.0,>=3.0.41->ipython>=7.31.1->ipdb==0.13.13->-r default_requirements.txt (line 3)) (0.2.13)\n",
      "Requirement already satisfied: parso<0.9.0,>=0.8.4 in /usr/local/lib/python3.12/dist-packages (from jedi>=0.16->ipython>=7.31.1->ipdb==0.13.13->-r default_requirements.txt (line 3)) (0.8.4)\n",
      "Requirement already satisfied: ptyprocess>=0.5 in /usr/local/lib/python3.12/dist-packages (from pexpect>4.3->ipython>=7.31.1->ipdb==0.13.13->-r default_requirements.txt (line 3)) (0.7.0)\n",
      "Requirement already satisfied: setuptools in /usr/local/lib/python3.12/dist-packages (from torch>=2.4.0->unsloth->-r default_requirements.txt (line 5)) (79.0.1)\n",
      "Requirement already satisfied: sympy>=1.13.3 in /usr/local/lib/python3.12/dist-packages (from torch>=2.4.0->unsloth->-r default_requirements.txt (line 5)) (1.14.0)\n",
      "Requirement already satisfied: networkx in /usr/local/lib/python3.12/dist-packages (from torch>=2.4.0->unsloth->-r default_requirements.txt (line 5)) (3.4.2)\n",
      "Requirement already satisfied: jinja2 in /usr/local/lib/python3.12/dist-packages (from torch>=2.4.0->unsloth->-r default_requirements.txt (line 5)) (3.1.6)\n",
      "Requirement already satisfied: nvidia-cuda-nvrtc-cu12==12.6.77 in /usr/local/lib/python3.12/dist-packages (from torch>=2.4.0->unsloth->-r default_requirements.txt (line 5)) (12.6.77)\n",
      "Requirement already satisfied: nvidia-cuda-runtime-cu12==12.6.77 in /usr/local/lib/python3.12/dist-packages (from torch>=2.4.0->unsloth->-r default_requirements.txt (line 5)) (12.6.77)\n",
      "Requirement already satisfied: nvidia-cuda-cupti-cu12==12.6.80 in /usr/local/lib/python3.12/dist-packages (from torch>=2.4.0->unsloth->-r default_requirements.txt (line 5)) (12.6.80)\n",
      "Requirement already satisfied: nvidia-cudnn-cu12==9.5.1.17 in /usr/local/lib/python3.12/dist-packages (from torch>=2.4.0->unsloth->-r default_requirements.txt (line 5)) (9.5.1.17)\n",
      "Requirement already satisfied: nvidia-cublas-cu12==12.6.4.1 in /usr/local/lib/python3.12/dist-packages (from torch>=2.4.0->unsloth->-r default_requirements.txt (line 5)) (12.6.4.1)\n",
      "Requirement already satisfied: nvidia-cufft-cu12==11.3.0.4 in /usr/local/lib/python3.12/dist-packages (from torch>=2.4.0->unsloth->-r default_requirements.txt (line 5)) (11.3.0.4)\n",
      "Requirement already satisfied: nvidia-curand-cu12==10.3.7.77 in /usr/local/lib/python3.12/dist-packages (from torch>=2.4.0->unsloth->-r default_requirements.txt (line 5)) (10.3.7.77)\n",
      "Requirement already satisfied: nvidia-cusolver-cu12==11.7.1.2 in /usr/local/lib/python3.12/dist-packages (from torch>=2.4.0->unsloth->-r default_requirements.txt (line 5)) (11.7.1.2)\n",
      "Requirement already satisfied: nvidia-cusparse-cu12==12.5.4.2 in /usr/local/lib/python3.12/dist-packages (from torch>=2.4.0->unsloth->-r default_requirements.txt (line 5)) (12.5.4.2)\n",
      "Requirement already satisfied: nvidia-cusparselt-cu12==0.6.3 in /usr/local/lib/python3.12/dist-packages (from torch>=2.4.0->unsloth->-r default_requirements.txt (line 5)) (0.6.3)\n",
      "Requirement already satisfied: nvidia-nccl-cu12==2.26.2 in /usr/local/lib/python3.12/dist-packages (from torch>=2.4.0->unsloth->-r default_requirements.txt (line 5)) (2.26.2)\n",
      "Requirement already satisfied: nvidia-nvtx-cu12==12.6.77 in /usr/local/lib/python3.12/dist-packages (from torch>=2.4.0->unsloth->-r default_requirements.txt (line 5)) (12.6.77)\n",
      "Requirement already satisfied: nvidia-nvjitlink-cu12==12.6.85 in /usr/local/lib/python3.12/dist-packages (from torch>=2.4.0->unsloth->-r default_requirements.txt (line 5)) (12.6.85)\n",
      "Requirement already satisfied: nvidia-cufile-cu12==1.11.1.6 in /usr/local/lib/python3.12/dist-packages (from torch>=2.4.0->unsloth->-r default_requirements.txt (line 5)) (1.11.1.6)\n",
      "Requirement already satisfied: mpmath<1.4,>=1.1.0 in /usr/local/lib/python3.12/dist-packages (from sympy>=1.13.3->torch>=2.4.0->unsloth->-r default_requirements.txt (line 5)) (1.3.0)\n",
      "Requirement already satisfied: cut_cross_entropy in /usr/local/lib/python3.12/dist-packages (from unsloth_zoo>=2025.7.4->unsloth->-r default_requirements.txt (line 5)) (25.1.1)\n",
      "Requirement already satisfied: pillow in /usr/local/lib/python3.12/dist-packages (from unsloth_zoo>=2025.7.4->unsloth->-r default_requirements.txt (line 5)) (11.2.1)\n",
      "Requirement already satisfied: msgspec in /usr/local/lib/python3.12/dist-packages (from unsloth_zoo>=2025.7.4->unsloth->-r default_requirements.txt (line 5)) (0.19.0)\n",
      "Requirement already satisfied: importlib_metadata in /usr/local/lib/python3.12/dist-packages (from diffusers->unsloth->-r default_requirements.txt (line 5)) (8.6.1)\n",
      "Requirement already satisfied: zipp>=3.20 in /usr/local/lib/python3.12/dist-packages (from importlib_metadata->diffusers->unsloth->-r default_requirements.txt (line 5)) (3.21.0)\n",
      "Requirement already satisfied: MarkupSafe>=2.0 in /usr/local/lib/python3.12/dist-packages (from jinja2->torch>=2.4.0->unsloth->-r default_requirements.txt (line 5)) (3.0.2)\n",
      "Requirement already satisfied: python-dateutil>=2.8.2 in /usr/local/lib/python3.12/dist-packages (from pandas->datasets>=3.0.0->trl==0.19.0->-r default_requirements.txt (line 1)) (2.9.0.post0)\n",
      "Requirement already satisfied: pytz>=2020.1 in /usr/local/lib/python3.12/dist-packages (from pandas->datasets>=3.0.0->trl==0.19.0->-r default_requirements.txt (line 1)) (2025.2)\n",
      "Requirement already satisfied: tzdata>=2022.7 in /usr/local/lib/python3.12/dist-packages (from pandas->datasets>=3.0.0->trl==0.19.0->-r default_requirements.txt (line 1)) (2025.2)\n",
      "Requirement already satisfied: six>=1.5 in /usr/local/lib/python3.12/dist-packages (from python-dateutil>=2.8.2->pandas->datasets>=3.0.0->trl==0.19.0->-r default_requirements.txt (line 1)) (1.17.0)\n",
      "Requirement already satisfied: executing>=1.2.0 in /usr/local/lib/python3.12/dist-packages (from stack_data->ipython>=7.31.1->ipdb==0.13.13->-r default_requirements.txt (line 3)) (2.2.0)\n",
      "Requirement already satisfied: asttokens>=2.1.0 in /usr/local/lib/python3.12/dist-packages (from stack_data->ipython>=7.31.1->ipdb==0.13.13->-r default_requirements.txt (line 3)) (3.0.0)\n",
      "Requirement already satisfied: pure-eval in /usr/local/lib/python3.12/dist-packages (from stack_data->ipython>=7.31.1->ipdb==0.13.13->-r default_requirements.txt (line 3)) (0.2.3)\n",
      "Requirement already satisfied: docstring-parser>=0.15 in /usr/local/lib/python3.12/dist-packages (from tyro->unsloth->-r default_requirements.txt (line 5)) (0.16)\n",
      "Requirement already satisfied: rich>=11.1.0 in /usr/local/lib/python3.12/dist-packages (from tyro->unsloth->-r default_requirements.txt (line 5)) (14.0.0)\n",
      "Requirement already satisfied: shtab>=1.5.6 in /usr/local/lib/python3.12/dist-packages (from tyro->unsloth->-r default_requirements.txt (line 5)) (1.7.2)\n",
      "Requirement already satisfied: typeguard>=4.0.0 in /usr/local/lib/python3.12/dist-packages (from tyro->unsloth->-r default_requirements.txt (line 5)) (4.4.4)\n",
      "Requirement already satisfied: markdown-it-py>=2.2.0 in /usr/local/lib/python3.12/dist-packages (from rich>=11.1.0->tyro->unsloth->-r default_requirements.txt (line 5)) (3.0.0)\n",
      "Requirement already satisfied: mdurl~=0.1 in /usr/local/lib/python3.12/dist-packages (from markdown-it-py>=2.2.0->rich>=11.1.0->tyro->unsloth->-r default_requirements.txt (line 5)) (0.1.2)\n",
      "\u001b[33mWARNING: Running pip as the 'root' user can result in broken permissions and conflicting behaviour with the system package manager, possibly rendering your system unusable. It is recommended to use a virtual environment instead: https://pip.pypa.io/warnings/venv. Use the --root-user-action option if you know what you are doing and want to suppress this warning.\u001b[0m\u001b[33m\n",
      "\u001b[0m"
     ]
    }
   ],
   "source": [
    "# Install the necessary packages\n",
    "!pip install -r default_requirements.txt"
   ]
  },
  {
   "cell_type": "code",
   "execution_count": 2,
   "id": "50090b9b",
   "metadata": {},
   "outputs": [],
   "source": [
    "# import basic packages\n",
    "import json\n",
    "from typing import Dict, Any, List"
   ]
  },
  {
   "cell_type": "markdown",
   "id": "2187a198",
   "metadata": {},
   "source": [
    "### Let the GAME begin!!!\n",
    "<!-- 🎮  -->\n",
    "#### Q-Agent\n",
    "<!-- 🤔 -->\n",
    "<u>NOTE</u>: You are encouraged to invoke your own custom code into `question_model.py` and `question_agent.py` at `agents/`, to control its operation, respectively."
   ]
  },
  {
   "cell_type": "markdown",
   "id": "93fdb0b0",
   "metadata": {},
   "source": [
    "__Topics:__\n",
    "1.  `Logical Reasoning`: Truth-teller and Liar Problems\n",
    "2.  `Puzzles`: Seating Arrangements (Linear, Circular)\n",
    "3.  `Blood Relations and Family Tree`: Puzzles involving generations and family tree logic\n",
    "\n",
    "*To know what all topics are available, visit: **[topics.json](assets/topics.json)***"
   ]
  },
  {
   "cell_type": "code",
   "execution_count": 3,
   "id": "bf0b72a6-79d4-40f9-b6c7-ad19cfe70ba5",
   "metadata": {},
   "outputs": [
    {
     "name": "stdout",
     "output_type": "stream",
     "text": [
      "CUDA Available: False\n",
      "Total GPUs: 0\n"
     ]
    }
   ],
   "source": [
    "import torch\n",
    "\n",
    "# Check if CUDA (NVIDIA) or ROCm (AMD) GPU is available\n",
    "print(\"CUDA Available:\", torch.cuda.is_available())\n",
    "\n",
    "# Number of GPUs\n",
    "print(\"Total GPUs:\", torch.cuda.device_count())\n",
    "\n",
    "# List all GPU devices with their names and IDs\n",
    "for i in range(torch.cuda.device_count()):\n",
    "    print(f\"GPU ID {i}: {torch.cuda.get_device_name(i)}\")\n"
   ]
  },
  {
   "cell_type": "code",
   "execution_count": 4,
   "id": "4f181848",
   "metadata": {
    "scrolled": true
   },
   "outputs": [
    {
     "name": "stdout",
     "output_type": "stream",
     "text": [
      "Loading checkpoint shards: 100%|██████████████████| 3/3 [00:00<00:00, 60.66it/s]\n",
      "STEPS: 100%|██████████████████████████████████████| 4/4 [05:40<00:00, 85.12s/it]\n",
      "Generated 20 questions!\n",
      "{\n",
      "  \"topic\": \"Truth-teller and Liar Problems\",\n",
      "  \"question\": \"Three individuals, P, Q, and R, are on an island where truth-tellers always tell the truth and liars always lie. P says, 'Q is a liar.' Q says, 'R is a truth-teller.' R says, 'P and Q are of the same type.' If exactly one of them is a truth-teller, who is the truth-teller?\",\n",
      "  \"choices\": [\"A) A) P is the truth-teller\", \"B) B) Q is the truth-teller\", \"C) C) R is the truth-teller\", \"D) D) None of them are truth-tellers\"],\n",
      "  \"answer\": \"B\",\n",
      "  \"explanation\": \"If Q is the truth-teller, then R is a truth-teller, contradicting the condition of exactly one truth-teller. If R is the truth-teller, then P and Q are of the same type, but P says Q is a liar, which would be a lie if P is a liar, making Q a truth-teller, again contradiction. If P is the truth-teller, Q is a liar, so R is a liar, but R says P and Q are same type, which is false, making R a liar, consistent with one truth-teller. However, this contradicts Q's statement. Only consistent case is Q as truth-teller, R as liar, P as liar, but this contradicts R's statement. Thus, only valid solution is Q as truth-teller, R as liar, P as liar, but this contradicts R's statement. The only consistent scenario is Q as truth-teller, R as liar, P as liar, which fits all statements.\"\n",
      "}\n",
      "{\n",
      "  \"topic\": \"Seating Arrangements (Linear, Circular)\",\n",
      "  \"question\": \"Six people A, B, C, D, E, F sit around a circular table. A is directly opposite B. C is two seats to the right of D. E is adjacent to A and F. F is not adjacent to D. Who is sitting between D and E?\",\n",
      "  \"choices\": [\"A) A) B\", \"B) B) C\", \"C) C) F\", \"D) D) A\"],\n",
      "  \"answer\": \"B\",\n",
      "  \"explanation\": \"A is opposite B. C is two seats right of D. E is adjacent to A and F. F is not adjacent to D. D and E must be separated by C.\"\n",
      "}\n",
      "{\n",
      "  \"topic\": \"Truth-teller and Liar Problems\",\n",
      "  \"question\": \"Three inhabitants, A, B, and C, are on an island where truth-tellers always tell the truth and liars always lie. A says, 'B is a liar.' B says, 'C is a truth-teller.' C says, 'A and B are of the same type.' If exactly one of them is a truth-teller, who is it?\",\n",
      "  \"choices\": [\"A) A) A\", \"B) B) B\", \"C) C) C\", \"D) D) None\"],\n",
      "  \"answer\": \"B\",\n",
      "  \"explanation\": \"If B is the truth-teller, then C is a truth-teller, contradicting the 'exactly one' condition. If C is the truth-teller, then A and B are the same type. If A is a truth-teller, B is a liar, contradicting C's statement. If A is a liar, B is a truth-teller, making C a liar. This fits: A is a liar, B is a truth-teller, C is a liar. Only B is the truth-teller.\"\n",
      "}\n",
      "{\n",
      "  \"topic\": \"Seating Arrangements (Linear, Circular)\",\n",
      "  \"question\": \"Seven people A, B, C, D, E, F, G sit in a circular table. A is between B and F. D is two seats to the right of E. C is adjacent to G and faces the center. B is not adjacent to D. F is two seats to the left of G. Who is sitting opposite A?\",\n",
      "  \"choices\": [\"A) A) C\", \"B) B) D\", \"C) C) E\", \"D) D) G\"],\n",
      "  \"answer\": \"B\",\n",
      "  \"explanation\": \"A is between B and F. D is two right of E. C is adjacent to G and faces center. B not adjacent to D. F two left of G. Only D is opposite A based on seat positions and adjacency constraints.\"\n",
      "}\n",
      "{\n",
      "  \"topic\": \"Truth-teller and Liar Problems\",\n",
      "  \"question\": \"Three individuals, P, Q, and R, are on an island where each is either a truth-teller (always tells the truth) or a liar (always lies). P says, 'Q is a liar.' Q says, 'R is a truth-teller.' R says, 'P is a liar.' If exactly one of them is a truth-teller, who is it?\",\n",
      "  \"choices\": [\"A) A) P is the truth-teller\", \"B) B) Q is the truth-teller\", \"C) C) R is the truth-teller\", \"D) D) None of them is a truth-teller\"],\n",
      "  \"answer\": \"B\",\n",
      "  \"explanation\": \"If Q is the truth-teller, then R is a truth-teller (from Q's statement), contradicting the condition of only one truth-teller. If P is the truth-teller, then Q is a liar, making R a truth-teller (from Q's lie), again contradicting the condition. If R is the truth-teller, then P is a liar, making Q a truth-teller (from Q's statement), again contradicting the condition. Thus, the only consistent scenario is that none are truth-tellers, but this contradicts the condition of exactly one. Hence, the only valid configuration is Q as the truth-teller, with P and R lying, making R's statement false and Q's statement true.\"\n",
      "}\n",
      "{\n",
      "  \"topic\": \"Truth-teller and Liar Problems\",\n",
      "  \"question\": \"Three inhabitants A, B, and C are on an island where truth-tellers always tell the truth and liars always lie. A says, 'B is a liar.' B says, 'C is a truth-teller.' C says, 'A is a liar.' How many of them are truth-tellers?\",\n",
      "  \"choices\": [\"A) A) 0\", \"B) B) 1\", \"C) C) 2\", \"D) D) 3\"],\n",
      "  \"answer\": \"B\",\n",
      "  \"explanation\": \"Assume A is a truth-teller: then B is a liar. If B is a liar, then C is not a truth-teller. If C is a liar, then A is not a liar, which contradicts A being a truth-teller. So A cannot be truthful. Try B as truth-teller: then C is a truth-teller. If C is a truth-teller, then A is a liar. If A is a liar, then B is not a liar, which fits. Only one truth-teller (B).\"\n",
      "}\n",
      "{\n",
      "  \"topic\": \"Puzzles involving generations and family tree logic\",\n",
      "  \"question\": \"In a family tree, Rajesh is the brother of Priya's father. Priya is the daughter of Ramesh, who is the only son of Lata. Lata is the mother of Ramesh and the wife of Ramesh's father. How is Rajesh related to Lata?\",\n",
      "  \"choices\": [\"A) A) Son-in-law\", \"B) B) Son\", \"C) C) Brother\", \"D) D) Nephew\"],\n",
      "  \"answer\": \"B\",\n",
      "  \"explanation\": \"Rajesh is the brother of Priya's father, making him the brother of Ramesh. Since Ramesh is Lata's son, Rajesh is Lata's son.\"\n",
      "}\n",
      "{\n",
      "  \"topic\": \"Seating Arrangements (Linear, Circular)\",\n",
      "  \"question\": \"Six people A, B, C, D, E, F sit in a circle, facing the center. A is directly opposite D. B is two seats to the right of E. C is adjacent to F. F is not adjacent to A. Who is sitting between B and E?\",\n",
      "  \"choices\": [\"A) A) C\", \"B) B) D\", \"C) C) F\", \"D) D) A\"],\n",
      "  \"answer\": \"A\",\n",
      "  \"explanation\": \"A is opposite D, so they are not adjacent. B is two seats right of E, placing them with one seat between. C is adjacent to F, and F is not adjacent to A. Thus, C is between B and E.\"\n",
      "}\n",
      "{\n",
      "  \"topic\": \"Seating Arrangements (Linear, Circular)\",\n",
      "  \"question\": \"Six people A, B, C, D, E, F sit around a circular table. A is directly opposite B. C is two seats to the left of D. E is adjacent to F, who is adjacent to A. D is not adjacent to E. Who is sitting between A and B?\",\n",
      "  \"choices\": [\"A) A) C\", \"B) B) D\", \"C) C) E\", \"D) D) F\"],\n",
      "  \"answer\": \"A\",\n",
      "  \"explanation\": \"A is opposite B, so they are separated by two seats. C is two seats left of D, placing D two seats right of C. E is adjacent to F, who is adjacent to A. D is not adjacent to E, so D must be two seats left of C. C is between A and B.\"\n",
      "}\n",
      "{\n",
      "  \"topic\": \"Truth-teller and Liar Problems\",\n",
      "  \"question\": \"Three inhabitants, X, Y, and Z, live on an island where truth-tellers always tell the truth and liars always lie. X says, 'Y is a liar.' Y says, 'Z is a truth-teller.' Z says, 'X is a liar.' How many truth-tellers are there?\",\n",
      "  \"choices\": [\"A) A) 1\", \"B) B) 2\", \"C) C) 3\", \"D) D) 0\"],\n",
      "  \"answer\": \"A\",\n",
      "  \"explanation\": \"If X is a truth-teller, then Y is a liar. If Y is a liar, then Z is not a truth-teller. If Z is a liar, then X is not a liar, which contradicts X being a truth-teller. Thus, X must be a liar. If X is a liar, then Y is not a liar, so Y is a truth-teller. If Y is a truth-teller, then Z is a truth-teller. But Z says X is a liar, which is true, so Z is a truth-teller. Contradiction. Only possible solution: X is a liar, Y is a truth-teller, Z is a liar. Thus, only one truth-teller.\"\n",
      "}\n",
      "{\n",
      "  \"topic\": \"Seating Arrangements (Linear, Circular)\",\n",
      "  \"question\": \"Six people A, B, C, D, E, F sit around a circular table. A is seated between B and F. D is two seats to the left of E. C is not adjacent to A. B is directly opposite F. Who is seated next to D?\",\n",
      "  \"choices\": [\"A) A) B\", \"B) B) C\", \"C) C) E\", \"D) D) A\"],\n",
      "  \"answer\": \"D\",\n",
      "  \"explanation\": \"A is between B and F, so B and F are opposite. D is two left of E, placing E two seats right of D. C is not adjacent to A, so C must be next to D. Thus, D is adjacent to A.\"\n",
      "}\n",
      "{\n",
      "  \"topic\": \"Truth-teller and Liar Problems\",\n",
      "  \"question\": \"Three individuals, P, Q, and R, are on an island where everyone is either a truth-teller or a liar. P says, 'Q is a liar.' Q says, 'R is a truth-teller.' R says, 'P is a liar.' If exactly one of them is a truth-teller, who is it?\",\n",
      "  \"choices\": [\"A) A) P is the truth-teller\", \"B) B) Q is the truth-teller\", \"C) C) R is the truth-teller\", \"D) D) None of them is a truth-teller\"],\n",
      "  \"answer\": \"D\",\n",
      "  \"explanation\": \"If P is truthful, Q is a liar, making R's statement 'P is a liar' false, so R is a liar. This would mean only P is truthful, but Q's statement 'R is a truth-teller' would be false, which is consistent. However, this contradicts the condition that exactly one is truthful. Testing other options similarly leads to contradictions. Thus, no one can be a truth-teller, making D correct.\"\n",
      "}\n",
      "{\n",
      "  \"topic\": \"Truth-teller and Liar Problems\",\n",
      "  \"question\": \"On an island, three inhabitants A, B, and C make statements: A says, 'B is a liar.' B says, 'C is a liar.' C says, 'A is a truth-teller.' If exactly one is a truth-teller, who is the truth-teller?\",\n",
      "  \"choices\": [\"A) A) A\", \"B) B) B\", \"C) C) C\", \"D) D) None\"],\n",
      "  \"answer\": \"A\",\n",
      "  \"explanation\": \"If A is the truth-teller, then B is a liar. B's statement that C is a liar would be false, so C is a truth-teller. But this contradicts the condition of exactly one truth-teller. If B is the truth-teller, then C is a liar, and A's statement that B is a liar would be false, making A a liar. This fits: B is truth-teller, A and C are liars. If C is the truth-teller, then A is a truth-teller, contradicting the one truth-teller rule. Thus, only B fits, but A is the correct answer due to contradiction in other scenarios.\"\n",
      "}\n",
      "{\n",
      "  \"topic\": \"Truth-teller and Liar Problems\",\n",
      "  \"question\": \"Three individuals, X, Y, and Z, are on an island where truth-tellers always tell the truth and liars always lie. X says, 'Y is a liar.' Y says, 'Z is a truth-teller.' Z says, 'X is a liar.' How many truth-tellers are there?\",\n",
      "  \"choices\": [\"A) A) 0\", \"B) B) 1\", \"C) C) 2\", \"D) D) 3\"],\n",
      "  \"answer\": \"B\",\n",
      "  \"explanation\": \"If X is a truth-teller, then Y is a liar. If Y is a liar, then Z is not a truth-teller. If Z is a liar, then X is not a liar, which contradicts X being a truth-teller. If X is a liar, then Y is not a liar, so Y is a truth-teller. If Y is a truth-teller, then Z is a truth-teller. If Z is a truth-teller, then X is a liar, which fits. Thus, only Y and Z are truth-tellers, making the answer 2. But this contradicts the assumption. The only consistent scenario is one truth-teller (Y).\"\n",
      "}\n",
      "{\n",
      "  \"topic\": \"Truth-teller and Liar Problems\",\n",
      "  \"question\": \"On an island, four inhabitants A, B, C, and D make the following statements: A says, 'B is a liar.' B says, 'C is a truth-teller.' C says, 'D is a liar.' D says, 'A is a liar.' If exactly two are truth-tellers and two are liars, who are the truth-tellers?\",\n",
      "  \"choices\": [\"A) A and B\", \"B) B and C\", \"C) C and D\", \"D) A and D\"],\n",
      "  \"answer\": \"D\",\n",
      "  \"explanation\": \"Assume A and D are truth-tellers. A's statement that B is a liar is true, so B is a liar. D's statement that A is a liar is false, which fits since A is a truth-teller. B's statement that C is a truth-teller is false, so C is a liar. This configuration has two truth-tellers (A and D) and two liars (B and C), satisfying the condition.\"\n",
      "}\n",
      "{\n",
      "  \"topic\": \"Seating Arrangements (Linear, Circular)\",\n",
      "  \"question\": \"Nine people sit around a circular table. A is between B and C. D is directly opposite E. F is two seats to the right of G. H is adjacent to I, who is not opposite J. J is two seats to the left of A. Who is sitting opposite G?\",\n",
      "  \"choices\": [\"A) A) B\", \"B) B) I\", \"C) C) J\", \"D) D) H\"],\n",
      "  \"answer\": \"B\",\n",
      "  \"explanation\": \"J is two left of A, so A is two right of J. G is two right of F, and F is adjacent to G. H is adjacent to I, not opposite J. I is opposite G based on positioning constraints.\"\n",
      "}\n",
      "{\n",
      "  \"topic\": \"Truth-teller and Liar Problems\",\n",
      "  \"question\": \"Three individuals, X, Y, and Z, are either truth-tellers (always tell the truth) or liars (always lie). X says, 'Y is a liar.' Y says, 'Z is a truth-teller.' Z says, 'X and Y are of the same type.' If exactly one of them is a truth-teller, who is the truth-teller?\",\n",
      "  \"choices\": [\"A) A) X\", \"B) B) Y\", \"C) C) Z\", \"D) D) None\"],\n",
      "  \"answer\": \"B\",\n",
      "  \"explanation\": \"If Y is the truth-teller, then Z is a truth-teller (per Y's statement), contradicting the condition of only one truth-teller. If Z is the truth-teller, then X and Y are the same type, but X says Y is a liar, which would be a lie if X is a liar, making Y a truth-teller—contradiction. If X is the truth-teller, then Y is a liar, making Z's statement false, so Z is a liar. This fits: X is truth-teller, Y and Z are liars. Thus, B is correct.\"\n",
      "}\n",
      "{\n",
      "  \"topic\": \"Seating Arrangements (Linear, Circular)\",\n",
      "  \"question\": \"Seven people A, B, C, D, E, F, G sit around a circular table. A is seated between B and F. D is two seats to the right of E. C is seated directly opposite G. B is adjacent to D. F is not adjacent to E. Who is seated two seats to the left of A?\",\n",
      "  \"choices\": [\"A) A) B\", \"B) B) E\", \"C) C) D\", \"D) D) G\"],\n",
      "  \"answer\": \"C\",\n",
      "  \"explanation\": \"A is between B and F. D is two seats right of E. C is opposite G. B is adjacent to D. F not adjacent to E. From these, D is two seats left of A.\"\n",
      "}\n",
      "{\n",
      "  \"topic\": \"Seating Arrangements (Linear, Circular)\",\n",
      "  \"question\": \"Six people A, B, C, D, E, F sit around a circular table. A is directly opposite B. C is two seats to the left of D. E is adjacent to F, and F is two seats to the right of A. Who is sitting between A and B?\",\n",
      "  \"choices\": [\"A) A) C\", \"B) B) D\", \"C) C) E\", \"D) D) F\"],\n",
      "  \"answer\": \"D\",\n",
      "  \"explanation\": \"A is opposite B, so they are separated by three seats. C is two left of D, and F is two right of A. Since A is opposite B, the seat between them is F, as F is two seats right of A and three seats away from B.\"\n",
      "}\n",
      "{\n",
      "  \"topic\": \"Seating Arrangements (Linear, Circular)\",\n",
      "  \"question\": \"Six people A, B, C, D, E, F sit in a circular table. A is directly opposite B. C is two seats to the right of D. E is adjacent to A and F. F is not adjacent to D. Who is sitting between D and E?\",\n",
      "  \"choices\": [\"A) A) B\", \"B) B) C\", \"C) C) A\", \"D) D) F\"],\n",
      "  \"answer\": \"B\",\n",
      "  \"explanation\": \"A is opposite B, so they are not adjacent. C is two seats right of D. E is adjacent to A and F. F is not adjacent to D. Thus, C must be between D and E.\"\n",
      "}\n",
      "\n",
      "==================================================\n",
      "\n",
      "\n",
      "Time taken per batch generation: [101.06722092628479, 81.3626549243927, 79.27417731285095, 78.70287251472473]\n",
      "Tokens generated per batch: [1860, 1425, 1390, 1360]\n",
      "Total Time Taken: 340.407 seconds; Total Tokens: 6035; TGPS: 17.729 seconds\n",
      "\n",
      "\n",
      "\n",
      "++++++++++++++++++++++++++++++++++++++++++++++++++\n",
      "\n",
      "Saved to outputs/questions.json!\n"
     ]
    }
   ],
   "source": [
    "# Run the following code to generate questions.\n",
    "# For demo purpose, we have used the base Qwen3-4B model for Q-Agent. Participants are expected to improve upon this\n",
    "!WANDB_API_KEY=cff2e2af28595b4caaadc640a8874ad00b282dcb python -m agents.question_agent-Copy2_shravan \\\n",
    "    --output_file \"outputs/questions.json\" \\\n",
    "    --num_questions 20 \\\n",
    "    --verbose"
   ]
  },
  {
   "cell_type": "markdown",
   "id": "9e511c33",
   "metadata": {
    "jp-MarkdownHeadingCollapsed": true
   },
   "source": [
    "#### Basic format-checks for questions from Q-agent\n",
    "1. Here we filter questions into `questions.json` for usage of answer agent.\n",
    "2. Further, the filtered questions will pass through an **`Oracle`** (a part of JUDGING system, hence closed and not demonstrated here) that checks *validity* of question, choices, and answer from Q-agent. It also provides the actual correct answer to the question.\n",
    "3. BYOC (Bring Your Own Code): Well, again we emphasize to have your own innovations & code. Also the places with following tag/block or **similar**, expect some real improvements.\n",
    "    ```python\n",
    "    # TODO: IMPROVE THE FOLLOWING\n",
    "    <code>\n",
    "    ```\n",
    "4. <span style=\"color : red\">**Ensure**</span> on an average: $50\\% \\times \\text{num\\_questions} > N$ questions are filtered out.\n",
    "5. The following filter is added into the `question_agent.py`. *<span style=\"color : red\">Note that</span> we generate two version of questions, one is the usual, unfiltered one `questions.json` and the other is `filtered_questions.json` after passing through the below filter. <span style=\"color : green\">We'll use this `filtered_questions.json` for conducting matches i.e., this file will be sent to opponent's answer agent. But do keep both in `outputs/` folder.</span>*\n"
   ]
  },
  {
   "cell_type": "code",
   "execution_count": 5,
   "id": "a3770ec5",
   "metadata": {},
   "outputs": [],
   "source": [
    "from transformers import AutoTokenizer\n",
    "tokenizer = AutoTokenizer.from_pretrained(\"/jupyter-tutorial/hf_models/Qwen3-4B\", padding_side='left')\n",
    "\n",
    "def count_tokens_q(text: str) -> int:\n",
    "    \"\"\"Count the number of tokens using Qwen3-4B tokenizer\"\"\"\n",
    "    return len(tokenizer.encode(text, add_special_tokens=False))\n",
    "\n",
    "def filter_questions(questions: List[str|Dict[str, str|Any]]) -> List[Dict[str, str|Any]]:\n",
    "    def basic_checks(q2: Dict[str, str])->bool:\n",
    "        # check required keys\n",
    "        required_keys = ['topic', 'question', 'choices', 'answer']\n",
    "        if all((key in q2) for key in required_keys):\n",
    "            # check choices format\n",
    "            checks = all(isinstance(choice, str) and len(choice) > 2 and choice[0].upper() in 'ABCD' for choice in q2['choices'])\n",
    "            if isinstance(q2['choices'], list) and len(q2['choices']) == 4 and checks:\n",
    "                # check answer format\n",
    "                # Check token length\n",
    "                check_len = sum(count_tokens_q(q2[k]) for k in ['question', 'answer'])\n",
    "                check_len += sum(count_tokens_q(choice) for choice in q2['choices']) - 15\n",
    "                if check_len < 130:\n",
    "                    if check_len + count_tokens_q(q2.get('explanation', 'None')) <= 1024:\n",
    "                        # Extra Checks: (PLUS checks) len(q2['answer']) == 1 and q2['answer'].upper() in 'ABCD':\n",
    "                        if isinstance(q2['answer'], str):\n",
    "                            return True\n",
    "        return False\n",
    "    correct_format_question = []\n",
    "    for i, q in enumerate(questions):\n",
    "        if isinstance(q, dict):\n",
    "            if basic_checks(q):\n",
    "                correct_format_question.append(q)\n",
    "        elif isinstance(q, str):\n",
    "            try:\n",
    "                q1 = json.loads(q)\n",
    "                if basic_checks(q1):\n",
    "                    correct_format_question.append(q1)\n",
    "            except json.JSONDecodeError:\n",
    "                # If JSON decoding fails, skip this answer\n",
    "                print(f\"Skipping invalid JSON at index {i}: {q}\")\n",
    "                continue\n",
    "        else:\n",
    "            continue\n",
    "    if len(correct_format_question) >= 0.5 * len(questions):\n",
    "        return correct_format_question\n",
    "    return list()"
   ]
  },
  {
   "cell_type": "code",
   "execution_count": 6,
   "id": "8a66e521",
   "metadata": {
    "scrolled": true
   },
   "outputs": [],
   "source": [
    "with open(\"outputs/questions.json\", \"r\") as f:\n",
    "    questions = json.load(f)\n",
    "\n",
    "filtered_questions = filter_questions(questions)\n",
    "\n",
    "# +++++++++++++++++++++++++++++++++++++++++++++++++++++++++++++++\n",
    "# Further filtering will happen with our Oracle (not shown here) which also have its own answer for the question.\n",
    "# If Q-agent answer to its own question is wrong, then that question will not be considered.\n",
    "# +++++++++++++++++++++++++++++++++++++++++++++++++++++++++++++++\n",
    "\n",
    "with open(\"outputs/filtered_questions.json\", \"w\") as f:\n",
    "    json.dump(filtered_questions, f, indent=4)"
   ]
  },
  {
   "cell_type": "code",
   "execution_count": 7,
   "id": "ba3fe904",
   "metadata": {},
   "outputs": [
    {
     "data": {
      "text/plain": [
       "20"
      ]
     },
     "execution_count": 7,
     "metadata": {},
     "output_type": "execute_result"
    }
   ],
   "source": [
    "len(filtered_questions)"
   ]
  },
  {
   "cell_type": "markdown",
   "id": "8f96209d",
   "metadata": {},
   "source": [
    "#### A-agent\n",
    "<!-- 🤖  -->\n",
    "<u>NOTE</u>: Here in the `answer_agent.py` you can integrate your custom model -- ***E.g., SFTed or GRPOed model [answer_model2.py](./tutorial/answer_model2.py)**. But first do SFT / GRPO -> load the checkpoint with correct path in [answer_model2.py](./tutorial/answer_model2.py) and then integrate it into `answer_agent.py`.*"
   ]
  },
  {
   "cell_type": "code",
   "execution_count": 8,
   "id": "61da0098-fb44-45f1-96e4-13f8e492e79f",
   "metadata": {},
   "outputs": [
    {
     "name": "stdout",
     "output_type": "stream",
     "text": [
      "\u001b[34m\u001b[1mwandb\u001b[0m: Currently logged in as: \u001b[33mnshravanreddy6\u001b[0m (\u001b[33mnshravanreddy6-freelancer\u001b[0m) to \u001b[32mhttps://api.wandb.ai\u001b[0m. Use \u001b[1m`wandb login --relogin`\u001b[0m to force relogin\n"
     ]
    },
    {
     "name": "stderr",
     "output_type": "stream",
     "text": [
      "\u001b[34m\u001b[1mwandb\u001b[0m: Currently logged in as: \u001b[33mnshravanreddy6\u001b[0m (\u001b[33mnshravanreddy6-freelancer\u001b[0m) to \u001b[32mhttps://api.wandb.ai\u001b[0m. Use \u001b[1m`wandb login --relogin`\u001b[0m to force relogin\n"
     ]
    },
    {
     "data": {
      "text/html": [
       "Tracking run with wandb version 0.20.1"
      ],
      "text/plain": [
       "<IPython.core.display.HTML object>"
      ]
     },
     "metadata": {},
     "output_type": "display_data"
    },
    {
     "data": {
      "text/html": [
       "Run data is saved locally in <code>/jupyter-tutorial/AAIPL_134_199_198_15/wandb/run-20250720_051601-sl128jto</code>"
      ],
      "text/plain": [
       "<IPython.core.display.HTML object>"
      ]
     },
     "metadata": {},
     "output_type": "display_data"
    },
    {
     "data": {
      "text/html": [
       "Syncing run <strong><a href='https://wandb.ai/nshravanreddy6-freelancer/my-awesome-project/runs/sl128jto' target=\"_blank\">divine-music-12</a></strong> to <a href='https://wandb.ai/nshravanreddy6-freelancer/my-awesome-project' target=\"_blank\">Weights & Biases</a> (<a href='https://wandb.me/developer-guide' target=\"_blank\">docs</a>)<br>"
      ],
      "text/plain": [
       "<IPython.core.display.HTML object>"
      ]
     },
     "metadata": {},
     "output_type": "display_data"
    },
    {
     "data": {
      "text/html": [
       " View project at <a href='https://wandb.ai/nshravanreddy6-freelancer/my-awesome-project' target=\"_blank\">https://wandb.ai/nshravanreddy6-freelancer/my-awesome-project</a>"
      ],
      "text/plain": [
       "<IPython.core.display.HTML object>"
      ]
     },
     "metadata": {},
     "output_type": "display_data"
    },
    {
     "data": {
      "text/html": [
       " View run at <a href='https://wandb.ai/nshravanreddy6-freelancer/my-awesome-project/runs/sl128jto' target=\"_blank\">https://wandb.ai/nshravanreddy6-freelancer/my-awesome-project/runs/sl128jto</a>"
      ],
      "text/plain": [
       "<IPython.core.display.HTML object>"
      ]
     },
     "metadata": {},
     "output_type": "display_data"
    },
    {
     "data": {
      "text/html": [
       "<button onClick=\"this.nextSibling.style.display='block';this.style.display='none';\">Display W&B run</button><iframe src='https://wandb.ai/nshravanreddy6-freelancer/my-awesome-project/runs/sl128jto?jupyter=true' style='border:none;width:100%;height:420px;display:none;'></iframe>"
      ],
      "text/plain": [
       "<wandb.sdk.wandb_run.Run at 0x7ab73bea3ec0>"
      ]
     },
     "execution_count": 8,
     "metadata": {},
     "output_type": "execute_result"
    }
   ],
   "source": [
    "import wandb\n",
    "\n",
    "# 1. Init W&B\n",
    "!wandb login\n",
    " # Set the wandb entity where your project will be logged (generally your team name).\n",
    "\n",
    "wandb.init(project=\"my-awesome-project\")\n"
   ]
  },
  {
   "cell_type": "code",
   "execution_count": 9,
   "id": "3042da1e-8f34-4966-afe5-33f36130398a",
   "metadata": {},
   "outputs": [],
   "source": [
    "#AAIPL_134_199_198_15/agents/answer_agent-Copy1.py"
   ]
  },
  {
   "cell_type": "code",
   "execution_count": 18,
   "id": "c42a9b14-a304-4cd0-b734-a04219a9e938",
   "metadata": {
    "scrolled": true
   },
   "outputs": [
    {
     "name": "stdout",
     "output_type": "stream",
     "text": [
      "Loading checkpoint shards: 100%|██████████████████| 3/3 [00:00<00:00, 61.02it/s]\n",
      "STEPS: 100%|███████████████████████████████████| 4/4 [02:10<00:00, 32.74s/batch]\n",
      "\n",
      "=== Question 1 ===\n",
      "Question: Nine people A, B, C, D, E, F, G, H, I sit in a circular table with three facing the center and six facing outward. A is directly opposite D, who is adjacent to E. B is two seats to the left of C, who is facing outward. F is seated between G and H, who are both facing outward. I is adjacent to A and faces outward. If E is facing outward, who is sitting between F and G?\n",
      "Expected: B\n",
      "Model Answer:\n",
      "{\n",
      "    \"answer\": \"D) D) C\",\n",
      "    \"reasoning\": \"I is adjacent to A and faces outward, so I is next to A. A is opposite D, so D is facing outward. E is adjacent to D and facing outward. B is two seats left of C, who faces outward. F is between G and H, both facing outward. The only person left between F and G is C.\"\n",
      "}\n",
      "\n",
      "=== Question 2 ===\n",
      "Question: Three individuals, P, Q, and R, are on an island where everyone is either a truth-teller (always tells the truth) or a liar (always lies). P says, 'Q is a liar.' Q says, 'R is a truth-teller.' R says, 'P is a liar.' How many truth-tellers are there?\n",
      "Expected: B\n",
      "Model Answer:\n",
      "{\n",
      "    \"answer\": \"B\",\n",
      "    \"reasoning\": \"If P is a truth-teller, then Q is a liar. If Q is a liar, then R is not a truth-teller. If R is a liar, then P is not a liar, which contradicts P being a truth-teller. Thus, P must be a liar. If P is a liar, then Q is not a liar, so Q is a truth-teller. If Q is a truth-teller, then R is a truth-teller. Therefore, Q and R are truth-tellers, making the answer B) 1.\"\n",
      "}\n",
      "\n",
      "=== Question 3 ===\n",
      "Question: In a family, Ravi is the son of Ramesh, who is the brother of Radha. Radha is the daughter of Ramesh's only sister. Ravi's mother is married to the son of Ramesh's father's only son. How is Ravi related to Radha's son?\n",
      "Expected: C\n",
      "Model Answer:\n",
      "{\n",
      "  \"answer\": \"A\",\n",
      "  \"reasoning\": \"Ravi's mother is married to the son of Ramesh's father's only son, which means Ravi's mother is Ramesh's sister. Since Radha is Ramesh's sister's daughter, Radha is Ravi's aunt. Therefore, Radha's son is Ravi's cousin. Hence, the correct answer is A) Cousin.\"\n",
      "}\n",
      "\n",
      "=== Question 4 ===\n",
      "Question: Three individuals, P, Q, and R, make the following statements: P says, 'Q is a liar.' Q says, 'R is a truth-teller.' R says, 'P is a liar.' If exactly one of them is a truth-teller, who is the truth-teller?\n",
      "Expected: D\n",
      "Model Answer:\n",
      "{\n",
      "    \"answer\": \"B\",\n",
      "    \"reasoning\": \"If Q is the truth-teller, then R is a truth-teller (contradiction). If P is the truth-teller, then Q is a liar, making R a truth-teller (contradiction). If R is the truth-teller, then P is a liar, making Q a truth-teller (contradiction). Thus, none can be the truth-teller if exactly one is. Therefore, the correct answer is D.\"\n",
      "}\n",
      "\n",
      "=== Question 5 ===\n",
      "Question: In a family, Ravi is the son of Priya's maternal uncle. Priya's father's only sister is married to the only son of Ravi's paternal grandfather's only daughter. How is Ravi related to Priya?\n",
      "Expected: A\n",
      "Model Answer:\n",
      "{\n",
      "    \"answer\": \"A\",\n",
      "    \"reasoning\": \"Ravi is the son of Priya's maternal uncle, making Ravi Priya's cousin. Priya's father's only sister is married to Ravi's paternal grandfather's only daughter, confirming they are cousins. Thus, Ravi is Priya's cousin.\"\n",
      "}\n",
      "\n",
      "=== Question 6 ===\n",
      "Question: On an island, three inhabitants A, B, and C make statements: A says, 'B is a liar.' B says, 'C is a truth-teller.' C says, 'A is a liar.' If exactly one of them is a truth-teller, who is the truth-teller?\n",
      "Expected: B\n",
      "Model Answer:\n",
      "{\n",
      "    \"answer\": \"B) B\",\n",
      "    \"reasoning\": \"If B is the truth-teller, then B's statement 'C is a truth-teller' is true, making C also a truth-teller, which contradicts the condition of exactly one truth-teller. If A is truthful, then B is a liar, making B's statement false, so C is a liar. This would mean A is truthful and B, C are liars, satisfying the condition. If C is truthful, then A is a liar, making A's statement false, so B is a truth-teller, which again contradicts the condition. Thus, B must be the truth-teller.\"\n",
      "}\n",
      "\n",
      "=== Question 7 ===\n",
      "Question: Three inhabitants, X, Y, and Z, live on an island where everyone is either a truth-teller or a liar. X says, 'Y is a liar.' Y says, 'Z is a truth-teller.' Z says, 'X is a liar.' How many truth-tellers are there?\n",
      "Expected: A\n",
      "Model Answer:\n",
      "{\n",
      "    \"answer\": \"A\",\n",
      "    \"reasoning\": \"If X is a truth-teller, then Y is a liar. If Y is a liar, then Z is not a truth-teller. If Z is a liar, then X is not a liar, which contradicts X being a truth-teller. Thus, X must be a liar. If X is a liar, then Y is not a liar, so Y is a truth-teller. If Y is a truth-teller, then Z is a truth-teller. But Z says X is a liar, which is true, so Z is a truth-teller. This means Y and Z are truth-tellers, making the answer one truth-teller.\"\n",
      "}\n",
      "\n",
      "=== Question 8 ===\n",
      "Question: In a family tree, A is the brother of B, who is the daughter of C. D is the son of E, who is the only daughter of F. G is the son of H, who is the only son of I. J is the daughter of K, who is the only daughter of L. If M is the son of N, who is the only son of O, and O is the only son of P, who is the only daughter of Q, how is A related to J?\n",
      "Expected: C\n",
      "Model Answer:\n",
      "{\n",
      "    \"answer\": \"A\",\n",
      "    \"reasoning\": \"A is the brother of B, who is the daughter of C. J is the daughter of K, who is the only daughter of L. M is the son of N, who is the only son of O, who is the only son of P, who is the only daughter of Q. Since A and J are from different family lines with no direct parent-child or sibling relationship, A is J's cousin.\"\n",
      "}\n",
      "\n",
      "=== Question 9 ===\n",
      "Question: Six people A, B, C, D, E, F sit in a circular table. A is between B and F. D is two seats to the right of E. C is not adjacent to B. F is directly opposite A. Who is sitting between E and D?\n",
      "Expected: A\n",
      "Model Answer:\n",
      "{\n",
      "    \"answer\": \"D\",\n",
      "    \"reasoning\": \"Since F is directly opposite A in a circular table with 6 people, A and F are seated across from each other. D is two seats to the right of E, so E and D are separated by one person. Given the arrangement, D is adjacent to E and F, making D the person between E and D.\"\n",
      "}\n",
      "\n",
      "=== Question 10 ===\n",
      "Question: In a family, Ravi is the son of Suman's only sister. Suman's father is the brother of Lata's mother. Lata is the daughter of Ravi's paternal grandfather. How is Lata related to Ravi?\n",
      "Expected: C\n",
      "Model Answer:\n",
      "{\n",
      "    \"answer\": \"A\",\n",
      "    \"reasoning\": \"Lata is the daughter of Ravi's paternal grandfather, meaning Lata is Ravi's cousin. Suman's father is the brother of Lata's mother, making Suman and Lata cousins. Since Ravi is Suman's nephew, Lata is Ravi's cousin.\"\n",
      "}\n",
      "\n",
      "=== Question 11 ===\n",
      "Question: Three individuals, X, Y, and Z, are on an island where truth-tellers always tell the truth and liars always lie. X says, 'Y is a liar.' Y says, 'Z is a truth-teller.' Z says, 'X and Y are of the same type.' How many truth-tellers are there?\n",
      "Expected: A\n",
      "Model Answer:\n",
      "{\n",
      "    \"answer\": \"A\",\n",
      "    \"reasoning\": \"If X is a truth-teller, then Y is a liar. If Y is a liar, then Z is not a truth-teller. If Z is a liar, then X and Y are not of the same type, which is true since X is a truth-teller and Y is a liar. Thus, only X is a truth-teller. If X is a liar, then Y is a truth-teller, making Z a truth-teller, but this contradicts Z's statement. Hence, only one truth-teller exists.\"\n",
      "}\n",
      "\n",
      "=== Question 12 ===\n",
      "Question: Three individuals, P, Q, and R, make the following statements: P says, 'Q is a liar.' Q says, 'R is a truth-teller.' R says, 'P is a liar.' If exactly one of them is a truth-teller, who is it?\n",
      "Expected: D\n",
      "Model Answer:\n",
      "{\n",
      "    \"answer\": \"B\",\n",
      "    \"reasoning\": \"If Q is the truth-teller, then R is a truth-teller, which contradicts the condition of exactly one truth-teller. If P is the truth-teller, then Q is a liar, making R a truth-teller, again contradicting the condition. If R is the truth-teller, then P is a liar, making Q a truth-teller, which also contradicts the condition. Thus, none can be the truth-teller, making D correct. However, the correct answer is B because if Q is the truth-teller, then R is a truth-teller, which is a contradiction. Therefore, the correct answer is B.\"\n",
      "}\n",
      "\n",
      "=== Question 13 ===\n",
      "Question: Three individuals, P, Q, and R, are on an island where each is either a truth-teller (always tells the truth) or a liar (always lies). P says, 'Q is a liar.' Q says, 'R is a truth-teller.' R says, 'P and Q are of the same type.' If exactly one of them is a truth-teller, who is the truth-teller?\n",
      "Expected: B\n",
      "Model Answer:\n",
      "{\n",
      "    \"answer\": \"C\",\n",
      "    \"reasoning\": \"If R is the truth-teller, then P and Q are of the same type. P says Q is a liar, which would be a lie if P is a liar. Q says R is a truth-teller, which would be true if Q is a truth-teller. This fits with R being the only truth-teller, making P and Q liars. Thus, R is the truth-teller.\"\n",
      "}\n",
      "\n",
      "=== Question 14 ===\n",
      "Question: Three individuals, X, Y, and Z, are on an island where truth-tellers always tell the truth and liars always lie. X says, 'Y is a liar.' Y says, 'Z is a truth-teller.' Z says, 'X and Y are of the same type.' If exactly one is a truth-teller, who is the truth-teller?\n",
      "Expected: C\n",
      "Model Answer:\n",
      "{\n",
      "    \"answer\": \"C\",\n",
      "    \"reasoning\": \"If Z is the truth-teller, then X and Y are of the same type. If Y is a truth-teller, then Z is a truth-teller, which contradicts Z being the only truth-teller. If X is a truth-teller, then Y is a liar, but Y's statement would then be false, making Z a liar, which contradicts Z being the only truth-teller. Thus, Z must be the truth-teller, and X and Y are liars.\"\n",
      "}\n",
      "\n",
      "=== Question 15 ===\n",
      "Question: On an island, four inhabitants A, B, C, and D make the following statements: A says, 'B is a liar.' B says, 'C is a truth-teller.' C says, 'D is a liar.' D says, 'A is a truth-teller.' If exactly two are truth-tellers and two are liars, who are the truth-tellers?\n",
      "Expected: D\n",
      "Model Answer:\n",
      "{\n",
      "    \"answer\": \"D\",\n",
      "    \"reasoning\": \"Assume A and D are truth-tellers. Then A's statement that B is a liar is true, so B is a liar. B's statement that C is a truth-teller is false, so C is a liar. C's statement that D is a liar is false, which is consistent with D being a truth-teller. D's statement that A is a truth-teller is true. This satisfies the condition of exactly two truth-tellers (A and D) and two liars (B and C).\"\n",
      "}\n",
      "\n",
      "=== Question 16 ===\n",
      "Question: Three individuals, P, Q, and R, are on an island where truth-tellers always tell the truth and liars always lie. P says, 'Q is a liar.' Q says, 'R is a truth-teller.' R says, 'P is a liar.' How many truth-tellers are there?\n",
      "Expected: C\n",
      "Model Answer:\n",
      "{\n",
      "    \"answer\": \"B\",\n",
      "    \"reasoning\": \"Assume P is a truth-teller. Then Q is a liar. If Q is a liar, then R is not a truth-teller. If R is a liar, then P is not a liar, which contradicts the assumption. So P must be a liar. If P is a liar, then Q is a truth-teller. If Q is a truth-teller, then R is a truth-teller. But R says P is a liar, which is true. Thus, Q and R are truth-tellers, and P is a liar. There is 1 truth-teller.\"\n",
      "}\n",
      "\n",
      "=== Question 17 ===\n",
      "Question: On an island, three inhabitants A, B, and C make the following statements: A says, 'B is a truth-teller.' B says, 'C is a liar.' C says, 'A is a liar.' If exactly one of them is a truth-teller, who is the truth-teller?\n",
      "Expected: D\n",
      "Model Answer:\n",
      "{\n",
      "    \"answer\": \"B) B\",\n",
      "    \"reasoning\": \"If B is the truth-teller, then B's statement 'C is a liar' is true, making C a liar. C's statement 'A is a liar' would then be false, making A a truth-teller. This contradicts the condition that only one is a truth-teller. Re-evaluating, if B is truthful, C is a liar, and A is a liar, then only B is truthful, satisfying the condition. Thus, B is the truth-teller.\"\n",
      "}\n",
      "\n",
      "=== Question 18 ===\n",
      "Question: Six people A, B, C, D, E, F sit around a circular table. A is directly opposite B. C is two seats to the right of D. E is adjacent to A and F. F is not adjacent to D. Who is sitting between D and E?\n",
      "Expected: C\n",
      "Model Answer:\n",
      "{\n",
      "    \"answer\": \"C\",\n",
      "    \"reasoning\": \"A is opposite B, so they are seated with two people between them. C is two seats to the right of D. E is adjacent to A and F. F is not adjacent to D. By placing A and B opposite each other, and considering the positions of C, D, E, and F, C must be between D and E.\"\n",
      "}\n",
      "\n",
      "=== Question 19 ===\n",
      "Question: In a family, Ravi is the father of Anika, who is the daughter of Ravi's only sister. Ravi's mother is the sister-in-law of Anika's paternal grandfather. How is Ravi related to Anika's paternal grandfather?\n",
      "Expected: B\n",
      "Model Answer:\n",
      "{\n",
      "    \"answer\": \"B\",\n",
      "    \"reasoning\": \"Ravi is the father of Anika, so he is the son-in-law of Anika's paternal grandfather. The grandfather is the father of Anika's father, and since Ravi is married to Anika's mother, he becomes the son-in-law of the grandfather.\"\n",
      "}\n",
      "\n",
      "=== Question 20 ===\n",
      "Question: In a family, A is the son of B, who is the daughter of C. D is the son of E, who is the daughter of F. G is the son of H, who is the daughter of I. J is the son of K, who is the daughter of L. If M is the son of N, who is the daughter of O, and O is the son of P, who is the daughter of Q, how is A related to J?\n",
      "Expected: D\n",
      "Model Answer:\n",
      "{\n",
      "    \"answer\": \"A\",\n",
      "    \"reasoning\": \"A is the son of B, who is the daughter of C. J is the son of K, who is the daughter of L. Since A and J are from different family lines with no direct familial connection, they are cousins. Therefore, the correct answer is A) Cousin.\"\n",
      "}\n",
      "BATCH - 0\n",
      "Tokens: 655, Time: 34.867 seconds\n",
      "TGPS: 18.785 seconds\n",
      "Traceback (most recent call last):\n",
      "  File \"<frozen runpy>\", line 198, in _run_module_as_main\n",
      "  File \"<frozen runpy>\", line 88, in _run_code\n",
      "  File \"/jupyter-tutorial/AAIPL_134_199_198_15/agents/answer_agent_Copy1.py\", line 253, in <module>\n",
      "    print(f\"Questions: {batch_sizes[idx]}\")\n",
      "                        ^^^^^^^^^^^\n",
      "NameError: name 'batch_sizes' is not defined\n"
     ]
    }
   ],
   "source": [
    "# Same instructions apply for the answer agent.\n",
    "# For demo purpose, we have used the base Qwen3-4B model for A-agent. Participants are expected to improve upon this.\n",
    "!python -m agents.answer_agent_Copy1 \\\n",
    "    --input_file \"outputs/filtered_questions.json\" \\\n",
    "    --output_file \"outputs/answers.json\" \\\n",
    "    --verbose"
   ]
  },
  {
   "cell_type": "markdown",
   "id": "3891529b",
   "metadata": {
    "jp-MarkdownHeadingCollapsed": true
   },
   "source": [
    "#### Basic format-checks for answers from A-agent.\n",
    "\n",
    "1. Checks for expected `JSON` format as suggested in [instructions](#format-overview).\n",
    "2. Same as Q-Agents, improvements are required here too.\n",
    "3. Answers not having above format will not be considered and thus no point will be awarded.\n",
    "4. The following filter is added into the `answer_agent.py`. Similarly here too, two versions are saved, `answers.json` and `filtered_answers.json`. The latter is used for evaluation."
   ]
  },
  {
   "cell_type": "code",
   "execution_count": 14,
   "id": "3acad45e",
   "metadata": {},
   "outputs": [
    {
     "ename": "NameError",
     "evalue": "name 'ans' is not defined",
     "output_type": "error",
     "traceback": [
      "\u001b[31m---------------------------------------------------------------------------\u001b[39m",
      "\u001b[31mNameError\u001b[39m                                 Traceback (most recent call last)",
      "\u001b[36mCell\u001b[39m\u001b[36m \u001b[39m\u001b[32mIn[14]\u001b[39m\u001b[32m, line 26\u001b[39m\n\u001b[32m     23\u001b[39m         \u001b[38;5;28;01mreturn\u001b[39;00m \u001b[38;5;28;01mFalse\u001b[39;00m\n\u001b[32m     25\u001b[39m filtered_answers = []\n\u001b[32m---> \u001b[39m\u001b[32m26\u001b[39m \u001b[38;5;28;01mfor\u001b[39;00m i, a \u001b[38;5;129;01min\u001b[39;00m \u001b[38;5;28menumerate\u001b[39m(\u001b[43mans\u001b[49m):\n\u001b[32m     27\u001b[39m     start_time = time.time()\n\u001b[32m     28\u001b[39m     \u001b[38;5;28;01mif\u001b[39;00m \u001b[38;5;28misinstance\u001b[39m(a, \u001b[38;5;28mdict\u001b[39m):\n",
      "\u001b[31mNameError\u001b[39m: name 'ans' is not defined"
     ]
    }
   ],
   "source": [
    "from transformers import AutoTokenizer\n",
    "tokenizer = AutoTokenizer.from_pretrained(\"/jupyter-tutorial/hf_models/Qwen3-4B\", padding_side='left')\n",
    "\n",
    "def count_tokens_a(text: str) -> int:\n",
    "    \"\"\"Count the number of tokens in the text using the agent's tokenizer\"\"\"\n",
    "    return len(tokenizer.encode(text, add_special_tokens=False))\n",
    "\n",
    "def filter_answers(self, ans: List[str|Dict[str, str]]) -> List[Dict[str, str]]:\n",
    "    r\"\"\"Filter answers to ensure they are in the correct format\"\"\"\n",
    "    def basic_checks(a1: Dict[str, str])->bool:\n",
    "        # check required keys\n",
    "        required_keys = ['answer']\n",
    "        if all((key in a1) and isinstance(a1[key], str) for key in required_keys):\n",
    "            if len(a1['answer']) == 1 and (a1['answer'] not in 'ABCDabcd'):\n",
    "                return False\n",
    "            check_len = self.count_tokens_a(a1['answer'])\n",
    "            if check_len < 50:\n",
    "                check_len += self.count_tokens_a(a1.get('reasoning', 'None'))\n",
    "                if check_len < 512:\n",
    "                    # check answer format - EXTRA checks\n",
    "                    # if len(a1['answer']) == 1 and a1['answer'].upper() in 'ABCD':\n",
    "                    return True\n",
    "        return False\n",
    "\n",
    "filtered_answers = []\n",
    "for i, a in enumerate(ans):\n",
    "    start_time = time.time()\n",
    "    if isinstance(a, dict):\n",
    "        if basic_checks(a):\n",
    "            filtered_answers.append(a)\n",
    "        else:\n",
    "            filtered_answers.append(None)\n",
    "    elif isinstance(a, str):\n",
    "        # Basic checks: at least with correct JSON format\n",
    "        try:\n",
    "            a1 = json.loads(a)\n",
    "            if basic_checks(a1):\n",
    "                filtered_answers.append(a1)\n",
    "            else:\n",
    "                filtered_answers.append(None)\n",
    "        except json.JSONDecodeError:\n",
    "            # If JSON decoding fails, skip this answer\n",
    "            print(f\"Skipping invalid JSON at index {i}: {a}\")\n",
    "            filtered_answers.append(None)\n",
    "            continue\n",
    "    else:\n",
    "        # If the answer is neither a dict nor a str, skip it\n",
    "        print(f\"Skipping unsupported type at index {i}: {type(a)}\")\n",
    "        filtered_answers.append(None)\n",
    "    end_time = time.time()\n",
    "    time_taken = end_time - start_time\n",
    "    print(f\"Time taken to answer question {i+1}: {time_taken:.4f} seconds\")\n",
    "return filtered_answers"
   ]
  },
  {
   "cell_type": "code",
   "execution_count": null,
   "id": "49a4301d",
   "metadata": {
    "scrolled": true
   },
   "outputs": [],
   "source": [
    "with open(\"outputs/answers.json\", \"r\") as f:\n",
    "    answers = json.load(f)\n",
    "filtered_answers = filter_answers(answers)"
   ]
  },
  {
   "cell_type": "code",
   "execution_count": null,
   "id": "74567658-996c-4cf0-bdc3-a50140126051",
   "metadata": {},
   "outputs": [],
   "source": [
    "len(answers)"
   ]
  },
  {
   "cell_type": "code",
   "execution_count": null,
   "id": "75bc092e",
   "metadata": {},
   "outputs": [],
   "source": [
    "len(filtered_answers)"
   ]
  },
  {
   "cell_type": "markdown",
   "id": "79a6a911",
   "metadata": {},
   "source": [
    "#### Evaluation\n",
    "<!-- 🏅  -->"
   ]
  },
  {
   "cell_type": "markdown",
   "id": "f2aa2284",
   "metadata": {},
   "source": [
    "##### Scoring Criteria\n",
    "\n",
    "<!-- 📊  -->\n",
    "\n",
    "Simply, we assign scores based on, out of $N$ questions from Q-agent, how many an A-agent can answer and vice-versa. *No negative marking for wrong answers.*\n",
    "\n",
    "$$\\text{A-agent Score} = \\dfrac{\\#\\ \\text{of questions correctly answered with expected format}}{N}\\times 100$$\n",
    "$$\\text{Q-agent Score} = \\dfrac{\\#\\ \\text{of questions incorrectly answered by A-agent}}{N}\\times 100$$"
   ]
  },
  {
   "cell_type": "code",
   "execution_count": null,
   "id": "aec36efc-8612-4833-81b6-55b129111726",
   "metadata": {
    "scrolled": true
   },
   "outputs": [],
   "source": [
    "filtered_questions"
   ]
  },
  {
   "cell_type": "code",
   "execution_count": null,
   "id": "bbbd6a4e-4657-4840-aedb-1df75d46e2fd",
   "metadata": {
    "scrolled": true
   },
   "outputs": [],
   "source": [
    "for a in filtered_answers:\n",
    "    if a is not None: print(a)"
   ]
  },
  {
   "cell_type": "markdown",
   "id": "ba1f7ccf",
   "metadata": {},
   "source": [
    "**An Example demonstrating how Q-agent matches up with A-agent**"
   ]
  },
  {
   "cell_type": "code",
   "execution_count": null,
   "id": "57c11592",
   "metadata": {},
   "outputs": [],
   "source": [
    "# calculate scores...\n",
    "N = len(filtered_questions)\n",
    "assert N == len(filtered_answers), \"Number of questions and answers must match.\"\n",
    "num_correct_answers = len([1 for q,a in zip(filtered_questions, filtered_answers) if a is not None and q['answer'] == a['answer']])\n",
    "\n",
    "# Here the answer may be correct, but since q['answer'] is not an option letter is not there, we face problems\n",
    "# Below shown is one way of simple string parsing\n",
    "num_correct_answers = len([1 for q,a in zip(filtered_questions, filtered_answers) if a is not None and q['answer'][0] == a['answer']])\n",
    "\n",
    "a_score = num_correct_answers*100/(N+1e-9)\n",
    "q_score = (N-num_correct_answers)*100/(N+1e-9)\n",
    "# Announce the scores\n",
    "print(f\"Number of questions: {N}\")\n",
    "print(f\"Number of correct answers: {num_correct_answers}\")\n",
    "print(\"Scores:\")\n",
    "print(f\"Team B: A-agent score: {a_score:.2f}\")\n",
    "print(f\"Team A: Q-agent score: {q_score:.2f}\")\n",
    "print(f\"Innings 1 winner: {'Team A' if q_score > a_score else 'Team B' if q_score < a_score else 'Draw'}\")\n",
    "# DRAW case is not HANDLED now"
   ]
  },
  {
   "cell_type": "code",
   "execution_count": null,
   "id": "390fca1d-fd45-4d25-a06a-b909edaf8bbb",
   "metadata": {},
   "outputs": [],
   "source": [
    "wandb.finish()"
   ]
  },
  {
   "cell_type": "code",
   "execution_count": null,
   "id": "14acf744-114f-4082-9d79-6c95aa778cc3",
   "metadata": {},
   "outputs": [],
   "source": [
    "!wandb sync wandb\n"
   ]
  },
  {
   "cell_type": "code",
   "execution_count": null,
   "id": "5959b066-8c27-4ad7-9af4-4eaae616c37a",
   "metadata": {},
   "outputs": [],
   "source": []
  }
 ],
 "metadata": {
  "kernelspec": {
   "display_name": "Python 3 (ipykernel)",
   "language": "python",
   "name": "python3"
  },
  "language_info": {
   "codemirror_mode": {
    "name": "ipython",
    "version": 3
   },
   "file_extension": ".py",
   "mimetype": "text/x-python",
   "name": "python",
   "nbconvert_exporter": "python",
   "pygments_lexer": "ipython3",
   "version": "3.12.10"
  }
 },
 "nbformat": 4,
 "nbformat_minor": 5
}
