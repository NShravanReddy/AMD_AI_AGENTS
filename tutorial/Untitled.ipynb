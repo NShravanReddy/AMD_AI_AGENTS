{
 "cells": [
  {
   "cell_type": "code",
   "execution_count": 1,
   "id": "67cac22b-182a-4874-915d-21b218c7708f",
   "metadata": {},
   "outputs": [
    {
     "name": "stdout",
     "output_type": "stream",
     "text": [
      "PyTorch detected number of available devices: 1\n"
     ]
    }
   ],
   "source": [
    "import os\n",
    "import torch\n",
    "gpus= [0, 1] # Rank 0 is for MI300x single device finetune, and Rank 0/1 for full \n",
    "os.environ.setdefault(\"CUDA_VISIBLE_DEVICES\", ','.join(map(str, gpus)))\n",
    "# Ensure PyTorch detects the GPUs correctly\n",
    "print(f\"PyTorch detected number of available devices: {torch.cuda.device_count()}\") "
   ]
  },
  {
   "cell_type": "code",
   "execution_count": 13,
   "id": "df96a9c3-7886-42d5-a294-461e206f4dbd",
   "metadata": {},
   "outputs": [
    {
     "name": "stdout",
     "output_type": "stream",
     "text": [
      "Looking in indexes: https://download.pytorch.org/whl/nightly/rocm6.3/\n",
      "Requirement already satisfied: torch in /usr/local/lib/python3.12/dist-packages (2.3.1+rocm5.7)\n",
      "Collecting torch\n",
      "  Downloading https://download.pytorch.org/whl/nightly/rocm6.3/torch-2.9.0.dev20250719%2Brocm6.3-cp312-cp312-manylinux_2_28_x86_64.whl (4983.5 MB)\n",
      "\u001b[2K     \u001b[90m━━━━━━━━━━━━━━━━━━━━━━━━━━━━━━━━━━━━━━━━\u001b[0m \u001b[32m5.0/5.0 GB\u001b[0m \u001b[31m27.3 MB/s\u001b[0m eta \u001b[36m0:00:00\u001b[0m00:01\u001b[0m00:03\u001b[0m\n",
      "\u001b[?25hRequirement already satisfied: torchvision in /usr/local/lib/python3.12/dist-packages (0.18.1+rocm5.7)\n",
      "Collecting torchvision\n",
      "  Downloading https://download.pytorch.org/whl/nightly/rocm6.3/torchvision-0.24.0.dev20250719%2Brocm6.3-cp312-cp312-manylinux_2_28_x86_64.whl.metadata (6.2 kB)\n",
      "Collecting torchao\n",
      "  Downloading https://download.pytorch.org/whl/nightly/rocm6.3/torchao-0.13.0.dev20250719%2Brocm6.3-cp39-abi3-manylinux_2_28_x86_64.whl.metadata (19 kB)\n",
      "Requirement already satisfied: filelock in /usr/local/lib/python3.12/dist-packages (from torch) (3.18.0)\n",
      "Requirement already satisfied: typing-extensions>=4.10.0 in /usr/local/lib/python3.12/dist-packages (from torch) (4.14.1)\n",
      "Requirement already satisfied: setuptools in /usr/local/lib/python3.12/dist-packages (from torch) (79.0.1)\n",
      "Requirement already satisfied: sympy>=1.13.3 in /usr/local/lib/python3.12/dist-packages (from torch) (1.14.0)\n",
      "Requirement already satisfied: networkx>=2.5.1 in /usr/local/lib/python3.12/dist-packages (from torch) (3.4.2)\n",
      "Requirement already satisfied: jinja2 in /usr/local/lib/python3.12/dist-packages (from torch) (3.1.6)\n",
      "Requirement already satisfied: fsspec>=0.8.5 in /usr/local/lib/python3.12/dist-packages (from torch) (2025.3.0)\n",
      "Collecting pytorch-triton-rocm==3.4.0+git11ec6354 (from torch)\n",
      "  Downloading https://download.pytorch.org/whl/nightly/pytorch_triton_rocm-3.4.0%2Bgit11ec6354-cp312-cp312-linux_x86_64.whl.metadata (1.7 kB)\n",
      "Requirement already satisfied: numpy in /usr/local/lib/python3.12/dist-packages (from torchvision) (1.26.4)\n",
      "Collecting torch\n",
      "  Downloading https://download.pytorch.org/whl/nightly/rocm6.3/torch-2.9.0.dev20250718%2Brocm6.3-cp312-cp312-manylinux_2_28_x86_64.whl (4983.4 MB)\n",
      "\u001b[2K     \u001b[90m━━━━━━━━━━━━━━━━━━━━━━━━━━━━━━━━━━━━━━━━\u001b[0m \u001b[32m5.0/5.0 GB\u001b[0m \u001b[31m59.2 MB/s\u001b[0m eta \u001b[36m0:00:00\u001b[0m:00:01\u001b[0m00:01\u001b[0m\n",
      "\u001b[?25hRequirement already satisfied: pillow!=8.3.*,>=5.3.0 in /usr/local/lib/python3.12/dist-packages (from torchvision) (11.2.1)\n",
      "Requirement already satisfied: mpmath<1.4,>=1.1.0 in /usr/local/lib/python3.12/dist-packages (from sympy>=1.13.3->torch) (1.3.0)\n",
      "Requirement already satisfied: MarkupSafe>=2.0 in /usr/local/lib/python3.12/dist-packages (from jinja2->torch) (3.0.2)\n",
      "Downloading https://download.pytorch.org/whl/nightly/pytorch_triton_rocm-3.4.0%2Bgit11ec6354-cp312-cp312-linux_x86_64.whl (258.7 MB)\n",
      "\u001b[2K   \u001b[90m━━━━━━━━━━━━━━━━━━━━━━━━━━━━━━━━━━━━━━━━\u001b[0m \u001b[32m258.7/258.7 MB\u001b[0m \u001b[31m49.7 MB/s\u001b[0m eta \u001b[36m0:00:00\u001b[0m00:01\u001b[0m00:01\u001b[0m\n",
      "\u001b[?25hDownloading https://download.pytorch.org/whl/nightly/rocm6.3/torchvision-0.24.0.dev20250719%2Brocm6.3-cp312-cp312-manylinux_2_28_x86_64.whl (3.1 MB)\n",
      "\u001b[2K   \u001b[90m━━━━━━━━━━━━━━━━━━━━━━━━━━━━━━━━━━━━━━━━\u001b[0m \u001b[32m3.1/3.1 MB\u001b[0m \u001b[31m27.4 MB/s\u001b[0m eta \u001b[36m0:00:00\u001b[0m\n",
      "\u001b[?25hDownloading https://download.pytorch.org/whl/nightly/rocm6.3/torchao-0.13.0.dev20250719%2Brocm6.3-cp39-abi3-manylinux_2_28_x86_64.whl (1.1 MB)\n",
      "\u001b[2K   \u001b[90m━━━━━━━━━━━━━━━━━━━━━━━━━━━━━━━━━━━━━━━━\u001b[0m \u001b[32m1.1/1.1 MB\u001b[0m \u001b[31m25.9 MB/s\u001b[0m eta \u001b[36m0:00:00\u001b[0m\n",
      "\u001b[?25hInstalling collected packages: torchao, pytorch-triton-rocm, torch, torchvision\n",
      "\u001b[2K  Attempting uninstall: torch[0m\u001b[90m━━━━━━━━━━━━━━━━━━━━━━━━━━━━━\u001b[0m \u001b[32m1/4\u001b[0m [pytorch-triton-rocm]\n",
      "\u001b[2K    Found existing installation: torch 2.3.1+rocm5.7━━━━━━━━━━\u001b[0m \u001b[32m1/4\u001b[0m [pytorch-triton-rocm]\n",
      "\u001b[2K    Uninstalling torch-2.3.1+rocm5.7:╺\u001b[0m\u001b[90m━━━━━━━━━━━━━━━━━━━\u001b[0m \u001b[32m2/4\u001b[0m [torch]iton-rocm]\n",
      "\u001b[2K      Successfully uninstalled torch-2.3.1+rocm5.7━━━━━━━━━━━━━━━━\u001b[0m \u001b[32m2/4\u001b[0m [torch]\n",
      "\u001b[2K  Attempting uninstall: torchvision0m╺\u001b[0m\u001b[90m━━━━━━━━━━━━━━━━━━━\u001b[0m \u001b[32m2/4\u001b[0m [torch]\n",
      "\u001b[2K    Found existing installation: torchvision 0.18.1+rocm5.7━━━━━━━\u001b[0m \u001b[32m3/4\u001b[0m [torchvision]\n",
      "\u001b[2K    Uninstalling torchvision-0.18.1+rocm5.7:\u001b[0m\u001b[90m━━━━━━━━━\u001b[0m \u001b[32m3/4\u001b[0m [torchvision]\n",
      "\u001b[2K      Successfully uninstalled torchvision-0.18.1+rocm5.7━━━━━\u001b[0m \u001b[32m3/4\u001b[0m [torchvision]\n",
      "\u001b[2K   \u001b[90m━━━━━━━━━━━━━━━━━━━━━━━━━━━━━━━━━━━━━━━━\u001b[0m \u001b[32m4/4\u001b[0m [torchvision]\u001b[0m [torchvision]\n",
      "\u001b[1A\u001b[2K\u001b[31mERROR: pip's dependency resolver does not currently take into account all the packages that are installed. This behaviour is the source of the following dependency conflicts.\n",
      "torchaudio 2.3.1+rocm5.7 requires torch==2.3.1, but you have torch 2.9.0.dev20250718+rocm6.3 which is incompatible.\n",
      "xformers 0.0.31.post1 requires torch==2.7.1, but you have torch 2.9.0.dev20250718+rocm6.3 which is incompatible.\u001b[0m\u001b[31m\n",
      "\u001b[0mSuccessfully installed pytorch-triton-rocm-3.4.0+git11ec6354 torch-2.9.0.dev20250718+rocm6.3 torchao-0.13.0.dev20250719+rocm6.3 torchvision-0.24.0.dev20250719+rocm6.3\n",
      "\u001b[33mWARNING: Running pip as the 'root' user can result in broken permissions and conflicting behaviour with the system package manager, possibly rendering your system unusable. It is recommended to use a virtual environment instead: https://pip.pypa.io/warnings/venv. Use the --root-user-action option if you know what you are doing and want to suppress this warning.\u001b[0m\u001b[33m\n",
      "\u001b[0mLooking in indexes: https://pypi.org/simple, https://download.pytorch.org/whl/nightly/rocm6.3/\n",
      "Collecting torchtune\n",
      "  Downloading https://download.pytorch.org/whl/nightly/rocm6.3/torchtune-0.7.0.dev20250715%2Brocm6.3-py3-none-any.whl.metadata (26 kB)\n",
      "Collecting torchdata (from torchtune)\n",
      "  Downloading https://download.pytorch.org/whl/nightly/torchdata-0.12.0.dev20250220-py3-none-any.whl.metadata (6.5 kB)\n",
      "Requirement already satisfied: datasets in /usr/local/lib/python3.12/dist-packages (from torchtune) (3.6.0)\n",
      "Requirement already satisfied: huggingface_hub[hf_transfer] in /usr/local/lib/python3.12/dist-packages (from torchtune) (0.31.4)\n",
      "Requirement already satisfied: safetensors in /usr/local/lib/python3.12/dist-packages (from torchtune) (0.5.3)\n",
      "Collecting kagglehub (from torchtune)\n",
      "  Downloading kagglehub-0.3.12-py3-none-any.whl.metadata (38 kB)\n",
      "Requirement already satisfied: sentencepiece in /usr/local/lib/python3.12/dist-packages (from torchtune) (0.2.0)\n",
      "Requirement already satisfied: tiktoken in /usr/local/lib/python3.12/dist-packages (from torchtune) (0.9.0)\n",
      "Collecting blobfile>=2 (from torchtune)\n",
      "  Downloading https://download.pytorch.org/whl/nightly/blobfile-3.0.0-py3-none-any.whl (75 kB)\n",
      "Requirement already satisfied: tokenizers in /usr/local/lib/python3.12/dist-packages (from torchtune) (0.21.1)\n",
      "Requirement already satisfied: numpy in /usr/local/lib/python3.12/dist-packages (from torchtune) (1.26.4)\n",
      "Requirement already satisfied: tqdm in /usr/local/lib/python3.12/dist-packages (from torchtune) (4.67.1)\n",
      "Collecting omegaconf (from torchtune)\n",
      "  Downloading omegaconf-2.4.0.dev3-py3-none-any.whl.metadata (4.2 kB)\n",
      "Requirement already satisfied: psutil in /usr/local/lib/python3.12/dist-packages (from torchtune) (7.0.0)\n",
      "Requirement already satisfied: Pillow>=9.4.0 in /usr/local/lib/python3.12/dist-packages (from torchtune) (11.2.1)\n",
      "Collecting pycryptodomex>=3.8 (from blobfile>=2->torchtune)\n",
      "  Downloading pycryptodomex-3.23.0-cp37-abi3-manylinux_2_17_x86_64.manylinux2014_x86_64.whl.metadata (3.4 kB)\n",
      "Requirement already satisfied: urllib3<3,>=1.25.3 in /usr/local/lib/python3.12/dist-packages (from blobfile>=2->torchtune) (2.4.0)\n",
      "Collecting lxml>=4.9 (from blobfile>=2->torchtune)\n",
      "  Downloading lxml-6.0.0-cp312-cp312-manylinux_2_27_x86_64.manylinux_2_28_x86_64.whl.metadata (6.6 kB)\n",
      "Requirement already satisfied: filelock>=3.0 in /usr/local/lib/python3.12/dist-packages (from blobfile>=2->torchtune) (3.18.0)\n",
      "Requirement already satisfied: pyarrow>=15.0.0 in /usr/local/lib/python3.12/dist-packages (from datasets->torchtune) (20.0.0)\n",
      "Requirement already satisfied: dill<0.3.9,>=0.3.0 in /usr/local/lib/python3.12/dist-packages (from datasets->torchtune) (0.3.8)\n",
      "Requirement already satisfied: pandas in /usr/local/lib/python3.12/dist-packages (from datasets->torchtune) (2.2.3)\n",
      "Requirement already satisfied: requests>=2.32.2 in /usr/local/lib/python3.12/dist-packages (from datasets->torchtune) (2.32.3)\n",
      "Requirement already satisfied: xxhash in /usr/local/lib/python3.12/dist-packages (from datasets->torchtune) (3.5.0)\n",
      "Requirement already satisfied: multiprocess<0.70.17 in /usr/local/lib/python3.12/dist-packages (from datasets->torchtune) (0.70.16)\n",
      "Requirement already satisfied: fsspec<=2025.3.0,>=2023.1.0 in /usr/local/lib/python3.12/dist-packages (from fsspec[http]<=2025.3.0,>=2023.1.0->datasets->torchtune) (2025.3.0)\n",
      "Requirement already satisfied: packaging in /usr/local/lib/python3.12/dist-packages (from datasets->torchtune) (24.2)\n",
      "Requirement already satisfied: pyyaml>=5.1 in /usr/local/lib/python3.12/dist-packages (from datasets->torchtune) (6.0.2)\n",
      "Requirement already satisfied: aiohttp!=4.0.0a0,!=4.0.0a1 in /usr/local/lib/python3.12/dist-packages (from fsspec[http]<=2025.3.0,>=2023.1.0->datasets->torchtune) (3.11.18)\n",
      "Requirement already satisfied: aiohappyeyeballs>=2.3.0 in /usr/local/lib/python3.12/dist-packages (from aiohttp!=4.0.0a0,!=4.0.0a1->fsspec[http]<=2025.3.0,>=2023.1.0->datasets->torchtune) (2.6.1)\n",
      "Requirement already satisfied: aiosignal>=1.1.2 in /usr/local/lib/python3.12/dist-packages (from aiohttp!=4.0.0a0,!=4.0.0a1->fsspec[http]<=2025.3.0,>=2023.1.0->datasets->torchtune) (1.3.2)\n",
      "Requirement already satisfied: attrs>=17.3.0 in /usr/local/lib/python3.12/dist-packages (from aiohttp!=4.0.0a0,!=4.0.0a1->fsspec[http]<=2025.3.0,>=2023.1.0->datasets->torchtune) (25.3.0)\n",
      "Requirement already satisfied: frozenlist>=1.1.1 in /usr/local/lib/python3.12/dist-packages (from aiohttp!=4.0.0a0,!=4.0.0a1->fsspec[http]<=2025.3.0,>=2023.1.0->datasets->torchtune) (1.6.0)\n",
      "Requirement already satisfied: multidict<7.0,>=4.5 in /usr/local/lib/python3.12/dist-packages (from aiohttp!=4.0.0a0,!=4.0.0a1->fsspec[http]<=2025.3.0,>=2023.1.0->datasets->torchtune) (6.4.4)\n",
      "Requirement already satisfied: propcache>=0.2.0 in /usr/local/lib/python3.12/dist-packages (from aiohttp!=4.0.0a0,!=4.0.0a1->fsspec[http]<=2025.3.0,>=2023.1.0->datasets->torchtune) (0.3.1)\n",
      "Requirement already satisfied: yarl<2.0,>=1.17.0 in /usr/local/lib/python3.12/dist-packages (from aiohttp!=4.0.0a0,!=4.0.0a1->fsspec[http]<=2025.3.0,>=2023.1.0->datasets->torchtune) (1.20.0)\n",
      "Requirement already satisfied: idna>=2.0 in /usr/local/lib/python3.12/dist-packages (from yarl<2.0,>=1.17.0->aiohttp!=4.0.0a0,!=4.0.0a1->fsspec[http]<=2025.3.0,>=2023.1.0->datasets->torchtune) (3.10)\n",
      "Requirement already satisfied: typing-extensions>=3.7.4.3 in /usr/local/lib/python3.12/dist-packages (from huggingface_hub[hf_transfer]->torchtune) (4.14.1)\n",
      "Requirement already satisfied: charset-normalizer<4,>=2 in /usr/local/lib/python3.12/dist-packages (from requests>=2.32.2->datasets->torchtune) (3.4.2)\n",
      "Requirement already satisfied: certifi>=2017.4.17 in /usr/local/lib/python3.12/dist-packages (from requests>=2.32.2->datasets->torchtune) (2025.4.26)\n",
      "Requirement already satisfied: hf-transfer>=0.1.4 in /usr/local/lib/python3.12/dist-packages (from huggingface_hub[hf_transfer]->torchtune) (0.1.9)\n",
      "Requirement already satisfied: python-dateutil>=2.8.2 in /usr/local/lib/python3.12/dist-packages (from pandas->datasets->torchtune) (2.9.0.post0)\n",
      "Requirement already satisfied: pytz>=2020.1 in /usr/local/lib/python3.12/dist-packages (from pandas->datasets->torchtune) (2025.2)\n",
      "Requirement already satisfied: tzdata>=2022.7 in /usr/local/lib/python3.12/dist-packages (from pandas->datasets->torchtune) (2025.2)\n",
      "Requirement already satisfied: six>=1.5 in /usr/local/lib/python3.12/dist-packages (from python-dateutil>=2.8.2->pandas->datasets->torchtune) (1.17.0)\n",
      "Requirement already satisfied: regex>=2022.1.18 in /usr/local/lib/python3.12/dist-packages (from tiktoken->torchtune) (2024.11.6)\n",
      "Requirement already satisfied: torch>=2 in /usr/local/lib/python3.12/dist-packages (from torchdata->torchtune) (2.9.0.dev20250718+rocm6.3)\n",
      "Requirement already satisfied: setuptools in /usr/local/lib/python3.12/dist-packages (from torch>=2->torchdata->torchtune) (79.0.1)\n",
      "Requirement already satisfied: sympy>=1.13.3 in /usr/local/lib/python3.12/dist-packages (from torch>=2->torchdata->torchtune) (1.14.0)\n",
      "Requirement already satisfied: networkx in /usr/local/lib/python3.12/dist-packages (from torch>=2->torchdata->torchtune) (3.4.2)\n",
      "Requirement already satisfied: jinja2 in /usr/local/lib/python3.12/dist-packages (from torch>=2->torchdata->torchtune) (3.1.6)\n",
      "Requirement already satisfied: pytorch-triton-rocm==3.4.0+git11ec6354 in /usr/local/lib/python3.12/dist-packages (from torch>=2->torchdata->torchtune) (3.4.0+git11ec6354)\n",
      "Requirement already satisfied: mpmath<1.4,>=1.1.0 in /usr/local/lib/python3.12/dist-packages (from sympy>=1.13.3->torch>=2->torchdata->torchtune) (1.3.0)\n",
      "Requirement already satisfied: MarkupSafe>=2.0 in /usr/local/lib/python3.12/dist-packages (from jinja2->torch>=2->torchdata->torchtune) (3.0.2)\n",
      "Downloading https://download.pytorch.org/whl/nightly/rocm6.3/torchtune-0.7.0.dev20250715%2Brocm6.3-py3-none-any.whl (1.1 MB)\n",
      "\u001b[2K   \u001b[90m━━━━━━━━━━━━━━━━━━━━━━━━━━━━━━━━━━━━━━━━\u001b[0m \u001b[32m1.1/1.1 MB\u001b[0m \u001b[31m26.4 MB/s\u001b[0m eta \u001b[36m0:00:00\u001b[0m\n",
      "\u001b[?25hDownloading lxml-6.0.0-cp312-cp312-manylinux_2_27_x86_64.manylinux_2_28_x86_64.whl (5.3 MB)\n",
      "\u001b[2K   \u001b[90m━━━━━━━━━━━━━━━━━━━━━━━━━━━━━━━━━━━━━━━━\u001b[0m \u001b[32m5.3/5.3 MB\u001b[0m \u001b[31m64.3 MB/s\u001b[0m eta \u001b[36m0:00:00\u001b[0m\n",
      "\u001b[?25hDownloading pycryptodomex-3.23.0-cp37-abi3-manylinux_2_17_x86_64.manylinux2014_x86_64.whl (2.3 MB)\n",
      "\u001b[2K   \u001b[90m━━━━━━━━━━━━━━━━━━━━━━━━━━━━━━━━━━━━━━━━\u001b[0m \u001b[32m2.3/2.3 MB\u001b[0m \u001b[31m219.5 MB/s\u001b[0m eta \u001b[36m0:00:00\u001b[0m\n",
      "\u001b[?25hDownloading kagglehub-0.3.12-py3-none-any.whl (67 kB)\n",
      "Downloading omegaconf-2.4.0.dev3-py3-none-any.whl (224 kB)\n",
      "Downloading https://download.pytorch.org/whl/nightly/torchdata-0.12.0.dev20250220-py3-none-any.whl (60 kB)\n",
      "Installing collected packages: pycryptodomex, omegaconf, lxml, kagglehub, blobfile, torchdata, torchtune\n",
      "\u001b[2K   \u001b[90m━━━━━━━━━━━━━━━━━━━━━━━━━━━━━━━━━━━━━━━━\u001b[0m \u001b[32m7/7\u001b[0m [torchtune]/7\u001b[0m [torchtune]\n",
      "\u001b[1A\u001b[2KSuccessfully installed blobfile-3.0.0 kagglehub-0.3.12 lxml-6.0.0 omegaconf-2.4.0.dev3 pycryptodomex-3.23.0 torchdata-0.12.0.dev20250220 torchtune-0.7.0.dev20250715+rocm6.3\n",
      "\u001b[33mWARNING: Running pip as the 'root' user can result in broken permissions and conflicting behaviour with the system package manager, possibly rendering your system unusable. It is recommended to use a virtual environment instead: https://pip.pypa.io/warnings/venv. Use the --root-user-action option if you know what you are doing and want to suppress this warning.\u001b[0m\u001b[33m\n",
      "\u001b[0m"
     ]
    }
   ],
   "source": [
    "# Install PyTorch, torchvision, torchao nightlies\n",
    "!pip install --pre --upgrade torch torchvision torchao --index-url https://download.pytorch.org/whl/nightly/rocm6.3/\n",
    "!pip install --pre --upgrade torchtune --extra-index-url https://download.pytorch.org/whl/nightly/rocm6.3/ \n",
    "# This note book is verified under torch==2.7.0.dev20250302+rocm6.3, torchao==0.10.0.dev20250303+rocm6.3,  torchvision==0.22.0.dev20250302+rocm6.3, torchtune==0.6.0.dev20250302+rocm6.3\n"
   ]
  },
  {
   "cell_type": "code",
   "execution_count": 39,
   "id": "9b04a45f-7518-4333-bda9-6c411ba565fe",
   "metadata": {},
   "outputs": [
    {
     "name": "stdout",
     "output_type": "stream",
     "text": [
      "usage: tune [-h] {download,ls,cp,run,validate,cat} ...\n",
      "tune: error: argument {download,ls,cp,run,validate,cat}: invalid choice: 'help' (choose from download, ls, cp, run, validate, cat)\n"
     ]
    }
   ],
   "source": [
    "!tune help"
   ]
  },
  {
   "cell_type": "code",
   "execution_count": 40,
   "id": "f332cf3d-3cc3-4773-8820-7be592f20516",
   "metadata": {},
   "outputs": [
    {
     "name": "stdout",
     "output_type": "stream",
     "text": [
      "Ignoring files matching the following patterns: original/consolidated.00.pth\n",
      ".gitattributes: 1.57kB [00:00, 10.7MB/s]\n",
      "README.md: 16.9kB [00:00, 73.0MB/s]\n",
      "config.json: 100%|█████████████████████████████| 726/726 [00:00<00:00, 12.1MB/s]\n",
      "generation_config.json: 100%|██████████████████| 239/239 [00:00<00:00, 4.56MB/s]\n",
      "merges.txt: 1.67MB [00:00, 139MB/s]\n",
      "model-00001-of-00003.safetensors: 100%|████| 3.96G/3.96G [00:02<00:00, 1.38GB/s]\n",
      "model-00002-of-00003.safetensors: 100%|████| 3.99G/3.99G [00:02<00:00, 1.35GB/s]\n",
      "model-00003-of-00003.safetensors: 100%|█████| 99.6M/99.6M [00:00<00:00, 172MB/s]\n",
      "model.safetensors.index.json: 32.8kB [00:00, 179MB/s]\n",
      "tokenizer.json: 100%|██████████████████████| 11.4M/11.4M [00:00<00:00, 47.5MB/s]\n",
      "tokenizer_config.json: 9.73kB [00:00, 61.1MB/s]\n",
      "vocab.json: 2.78MB [00:00, 161MB/s]\n",
      "Successfully downloaded model repo and wrote to the following locations:\n",
      "/tmp/hf_models/Qwen3-4B/README.md\n",
      "/tmp/hf_models/Qwen3-4B/generation_config.json\n",
      "/tmp/hf_models/Qwen3-4B/.gitattributes\n",
      "/tmp/hf_models/Qwen3-4B/model-00003-of-00003.safetensors\n",
      "/tmp/hf_models/Qwen3-4B/tokenizer_config.json\n",
      "/tmp/hf_models/Qwen3-4B/tokenizer.json\n",
      "/tmp/hf_models/Qwen3-4B/.cache\n",
      "/tmp/hf_models/Qwen3-4B/vocab.json\n",
      "/tmp/hf_models/Qwen3-4B/original_repo_id.json\n",
      "/tmp/hf_models/Qwen3-4B/model-00001-of-00003.safetensors\n",
      "/tmp/hf_models/Qwen3-4B/config.json\n",
      "/tmp/hf_models/Qwen3-4B/merges.txt\n",
      "/tmp/hf_models/Qwen3-4B/model-00002-of-00003.safetensors\n",
      "/tmp/hf_models/Qwen3-4B/model.safetensors.index.json\n"
     ]
    }
   ],
   "source": [
    "!tune download Qwen/Qwen3-4B  \\\n",
    "    --output-dir /tmp/hf_models/Qwen3-4B  \\\n",
    "    --ignore-patterns \"original/consolidated.00.pth\""
   ]
  },
  {
   "cell_type": "code",
   "execution_count": 74,
   "id": "299fb0d8-a19f-45fb-84eb-249aab307811",
   "metadata": {},
   "outputs": [
    {
     "name": "stdout",
     "output_type": "stream",
     "text": [
      "Traceback (most recent call last):\n",
      "  File \"/usr/local/bin/tune\", line 8, in <module>\n",
      "    sys.exit(main())\n",
      "             ^^^^^^\n",
      "  File \"/usr/local/lib/python3.12/dist-packages/torchtune/_cli/tune.py\", line 52, in main\n",
      "    parser.run(args)\n",
      "  File \"/usr/local/lib/python3.12/dist-packages/torchtune/_cli/tune.py\", line 46, in run\n",
      "    args.func(args)\n",
      "  File \"/usr/local/lib/python3.12/dist-packages/torchtune/_cli/run.py\", line 214, in _run_cmd\n",
      "    self._run_single_device(args, is_builtin=is_builtin)\n",
      "  File \"/usr/local/lib/python3.12/dist-packages/torchtune/_cli/run.py\", line 111, in _run_single_device\n",
      "    runpy.run_module(str(args.recipe), run_name=\"__main__\")\n",
      "  File \"<frozen runpy>\", line 222, in run_module\n",
      "  File \"<frozen runpy>\", line 142, in _get_module_details\n",
      "ImportError: No module named lora_fine_tune_single_device\n"
     ]
    }
   ],
   "source": [
    "!tune run lora_fine_tune_single_device --config /jupyter-tutorial/AAIPL_134_199_198_15/agen.yaml"
   ]
  },
  {
   "cell_type": "code",
   "execution_count": 42,
   "id": "5b3fbf53-4326-41db-8bff-dd0931827372",
   "metadata": {},
   "outputs": [
    {
     "name": "stdout",
     "output_type": "stream",
     "text": [
      "usage: tune [-h] {download,ls,cp,run,validate,cat} ...\n",
      "tune: error: argument {download,ls,cp,run,validate,cat}: invalid choice: 'train' (choose from download, ls, cp, run, validate, cat)\n"
     ]
    }
   ],
   "source": [
    "!tune train \\\n",
    "  --base-model /tmp/hf_models/Qwen3-4B \\\n",
    "  --data-path mlabonne/guanaco-llama2-1k \\\n",
    "  --output-dir ./checkpoints/qwen3_finetuned \\\n",
    "  --learning-rate 5e-5 \\\n",
    "  --batch-size 2 \\\n",
    "  --epochs 1\n"
   ]
  },
  {
   "cell_type": "code",
   "execution_count": 75,
   "id": "995632eb-84aa-46c4-8d8e-b85414c53cba",
   "metadata": {},
   "outputs": [
    {
     "name": "stdout",
     "output_type": "stream",
     "text": [
      "Running LoRAFinetuneRecipeSingleDevice with resolved config:\n",
      "\n",
      "base_model: /jupyter-tutorial/hf_models/Qwen3-4B\n",
      "batch_size: 2\n",
      "cutoff_len: 2048\n",
      "data_path: mlabonne/guanaco-llama2-1k\n",
      "device: cuda\n",
      "group_by_length: false\n",
      "learning_rate: 5.0e-05\n",
      "lora_alpha: 16\n",
      "lora_dropout: 0.05\n",
      "lora_r: 8\n",
      "lora_target_modules:\n",
      "- q_proj\n",
      "- k_proj\n",
      "- v_proj\n",
      "- o_proj\n",
      "micro_batch_size: 2\n",
      "num_epochs: 1\n",
      "output_dir: ./checkpoints/qwen3_lora\n",
      "save_steps: 50\n",
      "tokenizer_path: /jupyter-tutorial/hf_models/Qwen3-4B\n",
      "train_on_inputs: false\n",
      "val_set_size: 0.1\n",
      "wandb_project: qwen-lora\n",
      "\n",
      "Traceback (most recent call last):\n",
      "  File \"/usr/local/bin/tune\", line 8, in <module>\n",
      "    sys.exit(main())\n",
      "             ^^^^^^\n",
      "  File \"/usr/local/lib/python3.12/dist-packages/torchtune/_cli/tune.py\", line 52, in main\n",
      "    parser.run(args)\n",
      "  File \"/usr/local/lib/python3.12/dist-packages/torchtune/_cli/tune.py\", line 46, in run\n",
      "    args.func(args)\n",
      "  File \"/usr/local/lib/python3.12/dist-packages/torchtune/_cli/run.py\", line 214, in _run_cmd\n",
      "    self._run_single_device(args, is_builtin=is_builtin)\n",
      "  File \"/usr/local/lib/python3.12/dist-packages/torchtune/_cli/run.py\", line 108, in _run_single_device\n",
      "    runpy.run_path(str(args.recipe), run_name=\"__main__\")\n",
      "  File \"<frozen runpy>\", line 287, in run_path\n",
      "  File \"<frozen runpy>\", line 98, in _run_module_code\n",
      "  File \"<frozen runpy>\", line 88, in _run_code\n",
      "  File \"/usr/local/lib/python3.12/dist-packages/recipes/lora_finetune_single_device.py\", line 722, in <module>\n",
      "    sys.exit(recipe_main())\n",
      "             ^^^^^^^^^^^^^\n",
      "  File \"/usr/local/lib/python3.12/dist-packages/torchtune/config/_parse.py\", line 99, in wrapper\n",
      "    sys.exit(recipe_main(conf))\n",
      "             ^^^^^^^^^^^^^^^^^\n",
      "  File \"/usr/local/lib/python3.12/dist-packages/recipes/lora_finetune_single_device.py\", line 715, in recipe_main\n",
      "    recipe = LoRAFinetuneRecipeSingleDevice(cfg=cfg)\n",
      "             ^^^^^^^^^^^^^^^^^^^^^^^^^^^^^^^^^^^^^^^\n",
      "  File \"/usr/local/lib/python3.12/dist-packages/recipes/lora_finetune_single_device.py\", line 128, in __init__\n",
      "    self._dtype = training.get_dtype(cfg.dtype, device=self._device)\n",
      "                                     ^^^^^^^^^\n",
      "  File \"/usr/local/lib/python3.12/dist-packages/omegaconf/dictconfig.py\", line 353, in __getattr__\n",
      "    self._format_and_raise(\n",
      "  File \"/usr/local/lib/python3.12/dist-packages/omegaconf/base.py\", line 229, in _format_and_raise\n",
      "    format_and_raise(\n",
      "  File \"/usr/local/lib/python3.12/dist-packages/omegaconf/_utils.py\", line 906, in format_and_raise\n",
      "    _raise(ex, cause)\n",
      "  File \"/usr/local/lib/python3.12/dist-packages/omegaconf/_utils.py\", line 804, in _raise\n",
      "    raise ex.with_traceback(sys.exc_info()[2])  # set env var OC_CAUSE=1 for full trace\n",
      "    ^^^^^^^^^^^^^^^^^^^^^^^^^^^^^^^^^^^^^^^^^^\n",
      "  File \"/usr/local/lib/python3.12/dist-packages/omegaconf/dictconfig.py\", line 349, in __getattr__\n",
      "    return self._get_impl(\n",
      "           ^^^^^^^^^^^^^^^\n",
      "  File \"/usr/local/lib/python3.12/dist-packages/omegaconf/dictconfig.py\", line 440, in _get_impl\n",
      "    node = self._get_child(\n",
      "           ^^^^^^^^^^^^^^^^\n",
      "  File \"/usr/local/lib/python3.12/dist-packages/omegaconf/basecontainer.py\", line 73, in _get_child\n",
      "    child = self._get_node(\n",
      "            ^^^^^^^^^^^^^^^\n",
      "  File \"/usr/local/lib/python3.12/dist-packages/omegaconf/dictconfig.py\", line 478, in _get_node\n",
      "    raise ConfigKeyError(f\"Missing key {key!s}\")\n",
      "omegaconf.errors.ConfigAttributeError: Missing key dtype\n",
      "    full_key: dtype\n",
      "    object_type=dict\n"
     ]
    }
   ],
   "source": [
    "!tune run lora_finetune_single_device --config ../../hf_models/Qwen3-4B/config.yaml\n"
   ]
  },
  {
   "cell_type": "code",
   "execution_count": 11,
   "id": "038a8f68-187b-4434-842c-43064d928bb3",
   "metadata": {},
   "outputs": [
    {
     "name": "stdout",
     "output_type": "stream",
     "text": [
      "Usage: tune [OPTIONS] COMMAND [ARGS]...\n",
      "Try 'tune --help' for help.\n",
      "\n",
      "Error: No such command 'lora_finetune_single_device'.\n"
     ]
    }
   ],
   "source": [
    "!tune lora_finetune_single_device --config qwen/4B_lora_single_device\n"
   ]
  },
  {
   "cell_type": "code",
   "execution_count": 65,
   "id": "bb105d19-ffd5-4be4-8cb6-8a705bbdddf2",
   "metadata": {},
   "outputs": [],
   "source": [
    "!cd .."
   ]
  },
  {
   "cell_type": "code",
   "execution_count": 68,
   "id": "7f2997b2-6369-45a7-9e5c-ad44c437ea0f",
   "metadata": {},
   "outputs": [
    {
     "name": "stdout",
     "output_type": "stream",
     "text": [
      "README.md\t\tmerges.txt\t\t\t  tokenizer.json\n",
      "Untitled.ipynb\t\tmodel-00001-of-00003.safetensors  tokenizer_config.json\n",
      "config.json\t\tmodel-00002-of-00003.safetensors  vocab.json\n",
      "config.yaml\t\tmodel-00003-of-00003.safetensors\n",
      "generation_config.json\tmodel.safetensors.index.json\n"
     ]
    }
   ],
   "source": [
    "!ls ../../hf_models/Qwen3-4B"
   ]
  },
  {
   "cell_type": "code",
   "execution_count": null,
   "id": "8a50873b-8bcb-42ab-8bbb-0ec6d514ffff",
   "metadata": {},
   "outputs": [],
   "source": []
  }
 ],
 "metadata": {
  "kernelspec": {
   "display_name": "Python 3 (ipykernel)",
   "language": "python",
   "name": "python3"
  },
  "language_info": {
   "codemirror_mode": {
    "name": "ipython",
    "version": 3
   },
   "file_extension": ".py",
   "mimetype": "text/x-python",
   "name": "python",
   "nbconvert_exporter": "python",
   "pygments_lexer": "ipython3",
   "version": "3.12.10"
  }
 },
 "nbformat": 4,
 "nbformat_minor": 5
}
